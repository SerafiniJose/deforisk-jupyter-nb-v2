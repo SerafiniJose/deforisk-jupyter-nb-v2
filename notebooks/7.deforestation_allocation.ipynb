{
 "cells": [
  {
   "cell_type": "code",
   "execution_count": 1,
   "id": "93956c07-d9f1-4e3a-ae1b-148aec301334",
   "metadata": {},
   "outputs": [],
   "source": [
    "%load_ext autoreload\n",
    "%autoreload 2\n"
   ]
  },
  {
   "cell_type": "markdown",
   "id": "cec2a25b-11a9-436c-9eff-17ad4003f00c",
   "metadata": {},
   "source": [
    "## Libraries"
   ]
  },
  {
   "cell_type": "code",
   "execution_count": null,
   "id": "2f13a12a-7502-4c76-b490-9880fbf99c56",
   "metadata": {},
   "outputs": [],
   "source": [
    "# Imports\n",
    "import os\n",
    "import multiprocessing as mp\n",
    "import pkg_resources\n",
    "from pathlib import Path\n",
    "import sys\n",
    "\n",
    "import numpy as np\n",
    "import pandas as pd\n",
    "import riskmapjnr as rmj\n"
   ]
  },
  {
   "cell_type": "code",
   "execution_count": 3,
   "id": "46917d46-f655-47a2-b1ec-e24c20bc1194",
   "metadata": {},
   "outputs": [],
   "source": [
    "# GDAL\n",
    "os.environ[\"GDAL_CACHEMAX\"] = \"1024\"\n"
   ]
  },
  {
   "cell_type": "markdown",
   "id": "15850cf5-6362-4e08-aef7-f9372ff90576",
   "metadata": {},
   "source": [
    "## Set user parameters"
   ]
  },
  {
   "cell_type": "code",
   "execution_count": null,
   "id": "106736a8-74db-4767-b3c2-f7c398b97aa8",
   "metadata": {},
   "outputs": [],
   "source": [
    "project_name = \"test\"\n"
   ]
  },
  {
   "cell_type": "code",
   "execution_count": null,
   "id": "e1a1867a-2840-4590-9103-3fed5764cae0",
   "metadata": {},
   "outputs": [],
   "source": [
    "# Datos del area total\n",
    "jurisdiction_expected_total_deforestation_ha = 20000\n",
    "years_to_forecast = 4\n"
   ]
  },
  {
   "cell_type": "code",
   "execution_count": null,
   "id": "efb09fa8-2404-401f-a5e5-6d7ad8bf002f",
   "metadata": {},
   "outputs": [],
   "source": [
    "# Proyecto dentro de la jurisdiccion\n",
    "project_aoi_path = \"\"\n"
   ]
  },
  {
   "cell_type": "code",
   "execution_count": null,
   "id": "9fbfbfa6",
   "metadata": {},
   "outputs": [],
   "source": [
    "##Mapa de riesgo\n",
    "risk_map_path = \"\"\n",
    "risk_map_defrate_table = \"\"\n"
   ]
  },
  {
   "cell_type": "markdown",
   "id": "9c6d8fcd-6d62-4b47-a589-5921a4cc8102",
   "metadata": {},
   "source": [
    "## Connect folders"
   ]
  },
  {
   "cell_type": "code",
   "execution_count": 10,
   "id": "193d607a-c906-459f-8039-3a1bb1abd73e",
   "metadata": {},
   "outputs": [],
   "source": [
    "root_folder: Path = Path.cwd().parent\n",
    "downloads_folder: Path = root_folder / \"data\"\n",
    "downloads_folder.mkdir(parents=True, exist_ok=True)\n"
   ]
  },
  {
   "cell_type": "code",
   "execution_count": 11,
   "id": "9a07074b-2844-460a-98ca-e8c8917c9389",
   "metadata": {},
   "outputs": [],
   "source": [
    "project_folder = downloads_folder / project_name\n",
    "project_folder.mkdir(parents=True, exist_ok=True)\n"
   ]
  },
  {
   "cell_type": "code",
   "execution_count": 12,
   "id": "4a1a0f0b-4aba-44d0-a391-746ea19ca8e6",
   "metadata": {},
   "outputs": [],
   "source": [
    "allocation_folder = project_folder / \"allocation\"\n",
    "allocation_folder.mkdir(parents=True, exist_ok=True)\n"
   ]
  },
  {
   "cell_type": "markdown",
   "id": "8c886152-5c18-4daf-884b-45434df2b29a",
   "metadata": {},
   "source": [
    "## Reproject project aoi"
   ]
  },
  {
   "cell_type": "code",
   "execution_count": 15,
   "id": "537c8ac3-ce8a-4a15-ad1d-4705d35f790c",
   "metadata": {},
   "outputs": [],
   "source": [
    "sys.path.append(\"..\")\n",
    "from component.script.geo_utils import reproject_shapefile\n",
    "from component.script.geo_utils import calculate_utm_rioxarray\n"
   ]
  },
  {
   "cell_type": "code",
   "execution_count": 18,
   "id": "9a554386",
   "metadata": {},
   "outputs": [],
   "source": [
    "calculated_epsg = calculate_utm_rioxarray(risk_map_path)\n"
   ]
  },
  {
   "cell_type": "code",
   "execution_count": 19,
   "id": "7261648c-0857-41db-a577-e3b479c389a6",
   "metadata": {},
   "outputs": [],
   "source": [
    "project_borders_repro = allocation_folder / f\"project_{project_name}_repro.shp\"\n"
   ]
  },
  {
   "cell_type": "code",
   "execution_count": 20,
   "id": "fab91669",
   "metadata": {},
   "outputs": [],
   "source": [
    "reproject_shapefile(project_aoi_path, project_borders_repro, calculated_epsg)\n"
   ]
  },
  {
   "cell_type": "code",
   "execution_count": 21,
   "id": "a07eaeea-5bf2-4cc5-aa28-6df0f94be900",
   "metadata": {},
   "outputs": [],
   "source": [
    "import os\n",
    "\n",
    "import numpy as np\n",
    "from osgeo import gdal\n",
    "import pandas as pd\n",
    "import forestatrisk\n",
    "\n",
    "# Local application imports\n",
    "from forestatrisk.misc import progress_bar, makeblock\n",
    "\n",
    "opj = os.path.join\n",
    "opd = os.path.dirname\n",
    "\n",
    "\n",
    "def allocate_deforestation(\n",
    "    riskmap_juris_file,\n",
    "    defor_rate_tab,\n",
    "    defor_juris_ha,\n",
    "    years_forecast,\n",
    "    project_borders,\n",
    "    output_file=\"defor_project.csv\",\n",
    "    defor_density_map=False,\n",
    "    blk_rows=128,\n",
    "    verbose=False,\n",
    "):\n",
    "    \"\"\"Allocating deforestation.\n",
    "\n",
    "    :param riskmap_juris_file: Raster file with classes of deforestation\n",
    "      risk at the jurisdictional level.\n",
    "\n",
    "    :param defor_rate_tab: CSV file including the table with\n",
    "      deforestation rates for each deforestation class.\n",
    "\n",
    "    :param defor_juris_ha: Expected deforestation at the\n",
    "      jurisdictional level (in hectares).\n",
    "\n",
    "    :param years_forecast: Length of the forecasting period (in years).\n",
    "\n",
    "    :param project_borders: Vector file for project borders.\n",
    "\n",
    "    :param output_file: Output file with deforestation\n",
    "      allocated to the project.\n",
    "\n",
    "    :param defor_density_map: Compute the deforestation density map\n",
    "      for the jurisdiction. Deforestation density is provided in\n",
    "      ha/pixel/year (hectares of deforestation per pixel per year).\n",
    "      Deforestation densities are floating-point numbers. For large\n",
    "      jurisdictions (e.g. country scale) and high resolutions (e.g. 30\n",
    "      m), this will produce a large raster file which will occupy\n",
    "      a large amount of space on disk (e.g. several gigabytes).\n",
    "\n",
    "    :param blk_rows: If > 0, number of rows for block (else 256x256).\n",
    "\n",
    "    :param verbose: If True, print messages.\n",
    "\n",
    "    \"\"\"\n",
    "\n",
    "    # Callback\n",
    "    cback = gdal.TermProgress_nocb if verbose else 0\n",
    "\n",
    "    # Creation options\n",
    "    copts = [\"COMPRESS=DEFLATE\", \"BIGTIFF=YES\"]\n",
    "\n",
    "    # ---------------------------------------\n",
    "    # Crop riskmap to project boundaries\n",
    "    # ---------------------------------------\n",
    "\n",
    "    out_dir = opd(output_file)\n",
    "    ofile = opj(out_dir, \"project_riskmap.tif\")\n",
    "    gdal.Warp(\n",
    "        ofile,\n",
    "        riskmap_juris_file,\n",
    "        cropToCutline=True,\n",
    "        warpOptions=[\"CUTLINE_ALL_TOUCHED=TRUE\"],\n",
    "        cutlineDSName=project_borders,\n",
    "        creationOptions=copts,\n",
    "        callback=cback,\n",
    "    )\n",
    "\n",
    "    # ---------------------------------------\n",
    "    # Compute number of pixels for each class\n",
    "    # ---------------------------------------\n",
    "\n",
    "    nvalues = 65535\n",
    "    with gdal.Open(ofile) as ds:\n",
    "        band = ds.GetRasterBand(1)\n",
    "        counts = band.GetHistogram(0.5, 65535.5, nvalues, 0, 0)\n",
    "    data = {\"cat\": [i + 1 for i in range(65535)], \"counts\": counts}\n",
    "    df_count = pd.DataFrame(data)\n",
    "\n",
    "    # Upload deforestation rates\n",
    "    df_rate = pd.read_csv(defor_rate_tab)\n",
    "\n",
    "    # -----------------------------\n",
    "    # Compute deforestation density\n",
    "    # -----------------------------\n",
    "\n",
    "    # Pixel area\n",
    "    pixel_area = df_rate.loc[0, \"pixel_area\"]\n",
    "\n",
    "    # Correction factor, either ndefor / sum_i p_i\n",
    "    # or theta * nfor / sum_i p_i\n",
    "    sum_pi = (df_rate[\"nfor\"] * df_rate[\"rate_mod\"]).sum()\n",
    "    correction_factor = defor_juris_ha / (pixel_area * sum_pi)\n",
    "\n",
    "    # Absolute deforestation rate\n",
    "    df_rate[\"rate_abs\"] = df_rate[\"rate_mod\"] * correction_factor\n",
    "\n",
    "    # Deforestation density (ha/pixel/yr)\n",
    "    df_rate[\"defor_dens\"] = df_rate[\"rate_abs\"] * pixel_area / years_forecast\n",
    "\n",
    "    # Save the df_rate table\n",
    "    ofile = opj(out_dir, \"defrate_cat_forecast.csv\")\n",
    "    df_rate.to_csv(ofile)\n",
    "\n",
    "    # -----------------------------\n",
    "    # Join tables\n",
    "    # -----------------------------\n",
    "\n",
    "    df_project = df_count.merge(right=df_rate, on=\"cat\", how=\"left\")\n",
    "\n",
    "    # Annual deforestation (ha) for project\n",
    "    defor_project = (df_project[\"counts\"] * df_project[\"defor_dens\"]).sum()\n",
    "\n",
    "    # Save results\n",
    "    data = {\n",
    "        \"period\": [\"annual\", \"entire\"],\n",
    "        \"length (yr)\": [1, years_forecast],\n",
    "        \"deforestation (ha)\": [\n",
    "            round(defor_project, 1),\n",
    "            round(defor_project * years_forecast, 1),\n",
    "        ],\n",
    "    }\n",
    "    res = pd.DataFrame(data)\n",
    "    res.to_csv(output_file, header=True, index=False)\n",
    "\n",
    "    # -----------------------------\n",
    "    # Get deforestation density map\n",
    "    # -----------------------------\n",
    "\n",
    "    if defor_density_map:\n",
    "        riskmap_r = gdal.Open(riskmap_juris_file)\n",
    "        riskmap_b = riskmap_r.GetRasterBand(1)\n",
    "        gt = riskmap_r.GetGeoTransform()\n",
    "        proj = riskmap_r.GetProjection()\n",
    "        ncol = riskmap_r.RasterXSize\n",
    "        nrow = riskmap_r.RasterYSize\n",
    "\n",
    "        output_file = opj(out_dir, \"deforestation_density_map.tif\")\n",
    "        driver = gdal.GetDriverByName(\"GTiff\")\n",
    "        if os.path.isfile(output_file):\n",
    "            os.remove(output_file)\n",
    "        ddm_r = driver.Create(\n",
    "            output_file,\n",
    "            ncol,\n",
    "            nrow,\n",
    "            1,\n",
    "            gdal.GDT_Float64,\n",
    "            [\"COMPRESS=DEFLATE\", \"BIGTIFF=YES\"],\n",
    "        )\n",
    "        ddm_r.SetGeoTransform(gt)\n",
    "        ddm_r.SetProjection(proj)\n",
    "        ddm_b = ddm_r.GetRasterBand(1)\n",
    "        ddm_b.SetNoDataValue(-9999.0)\n",
    "\n",
    "        # Make blocks\n",
    "        blockinfo = makeblock(riskmap_juris_file, blk_rows=blk_rows)\n",
    "        nblock = blockinfo[0]\n",
    "        nblock_x = blockinfo[1]\n",
    "        x = blockinfo[3]\n",
    "        y = blockinfo[4]\n",
    "        nx = blockinfo[5]\n",
    "        ny = blockinfo[6]\n",
    "        if verbose:\n",
    "            print(f\"Divide region in {nblock} blocks\")\n",
    "\n",
    "        # Write raster of dd\n",
    "        if verbose:\n",
    "            print(\"Write deforestation density raster\")\n",
    "        # Loop on blocks of data\n",
    "        for b in range(nblock):\n",
    "            # Progress bar\n",
    "            progress_bar(nblock, b + 1)\n",
    "            # Position in 1D-arrays\n",
    "            px = b % nblock_x\n",
    "            py = b // nblock_x\n",
    "            # Data for one block\n",
    "            risk_data = riskmap_b.ReadAsArray(x[px], y[py], nx[px], ny[py])\n",
    "            risk_data = risk_data.flatten(order=\"C\")\n",
    "            # Get defor density from risk class\n",
    "            defor_dens = np.zeros(len(risk_data))\n",
    "            defor_dens[risk_data == 0] = -9999.0\n",
    "\n",
    "            non_zero_risk_classes = risk_data[risk_data != 0]\n",
    "\n",
    "            # Make sure df_rate has 'cat' as index (do this once after reading)\n",
    "            df_rate_indexed = df_rate.set_index(\"cat\")\n",
    "\n",
    "            defor_dens_values = pd.Series(non_zero_risk_classes).map(\n",
    "                df_rate_indexed[\"defor_dens\"]\n",
    "            )\n",
    "\n",
    "            if defor_dens_values.isna().any():\n",
    "                missing = non_zero_risk_classes[defor_dens_values.isna()]\n",
    "                print(\n",
    "                    f\"Warning: Missing deforestation density for risk classes: {missing.unique()}\"\n",
    "                )\n",
    "\n",
    "            # Fill missing with 0 (or -9999, or raise an error)\n",
    "            defor_dens_values = defor_dens_values.fillna(0.0)\n",
    "\n",
    "            defor_dens[risk_data != 0] = defor_dens_values.values\n",
    "            defor_dens = defor_dens.reshape((ny[py], nx[px]), order=\"C\")\n",
    "            # Write deforestation densities\n",
    "            ddm_b.WriteArray(defor_dens, x[px], y[py])\n",
    "\n",
    "        # Compute statistics\n",
    "        if verbose:\n",
    "            print(\"Compute statistics\")\n",
    "        ddm_b.FlushCache()  # Write cache data to disk\n",
    "        ddm_b.ComputeStatistics(False)\n",
    "\n",
    "        # Dereference gdal datasets\n",
    "        riskmap_b = None\n",
    "        ddm_b = None\n",
    "        del riskmap_r, ddm_r\n"
   ]
  },
  {
   "cell_type": "markdown",
   "id": "e3810ddc",
   "metadata": {},
   "source": [
    "## Allocate deforestation to project"
   ]
  },
  {
   "cell_type": "code",
   "execution_count": 22,
   "id": "e1838135-023f-4d2f-b189-5b69a51ecca2",
   "metadata": {},
   "outputs": [
    {
     "name": "stdout",
     "output_type": "stream",
     "text": [
      "10...20...30...40...50...60...70...80...90...100 - done\n"
     ]
    }
   ],
   "source": [
    "import forestatrisk as far\n",
    "\n",
    "allocate_deforestation(\n",
    "    riskmap_juris_file=risk_map_path,\n",
    "    defor_rate_tab=risk_map_defrate_table,\n",
    "    defor_juris_ha=jurisdiction_expected_total_deforestation_ha,\n",
    "    years_forecast=years_to_forecast,\n",
    "    project_borders=project_borders_repro,\n",
    "    output_file=allocation_folder / \"defor_project.csv\",\n",
    "    defor_density_map=True,\n",
    "    blk_rows=256,\n",
    "    verbose=False,\n",
    ")\n"
   ]
  },
  {
   "cell_type": "code",
   "execution_count": null,
   "id": "824cc82d",
   "metadata": {},
   "outputs": [],
   "source": []
  }
 ],
 "metadata": {
  "kernelspec": {
   "display_name": "deforisk-jupyter-nb (3.11.10)",
   "language": "python",
   "name": "python3"
  },
  "language_info": {
   "codemirror_mode": {
    "name": "ipython",
    "version": 3
   },
   "file_extension": ".py",
   "mimetype": "text/x-python",
   "name": "python",
   "nbconvert_exporter": "python",
   "pygments_lexer": "ipython3",
   "version": "3.11.10"
  }
 },
 "nbformat": 4,
 "nbformat_minor": 5
}
