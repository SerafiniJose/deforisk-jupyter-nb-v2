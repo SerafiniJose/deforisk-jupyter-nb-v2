{
 "cells": [
  {
   "cell_type": "code",
   "execution_count": null,
   "id": "93956c07-d9f1-4e3a-ae1b-148aec301334",
   "metadata": {},
   "outputs": [],
   "source": [
    "%load_ext autoreload\n",
    "%autoreload 2\n"
   ]
  },
  {
   "cell_type": "code",
   "execution_count": null,
   "id": "9af04e3e",
   "metadata": {},
   "outputs": [],
   "source": [
    "# %load_ext cudf.pandas\n",
    "# import pandas as pd\n",
    "# print(pd)\n"
   ]
  },
  {
   "cell_type": "code",
   "execution_count": null,
   "id": "f3b50586",
   "metadata": {},
   "outputs": [],
   "source": [
    "# Optimizations\n",
    "# GDAL optimizations\n",
    "import multiprocessing as mp\n",
    "import os\n",
    "\n",
    "cpu_count: int = mp.cpu_count()\n",
    "num_cores: int = cpu_count - 2\n",
    "os.environ[\"GDAL_NUM_THREADS\"] = f\"{num_cores}\"\n",
    "os.environ[\"GDAL_CACHEMAX\"] = \"1024\"\n"
   ]
  },
  {
   "cell_type": "markdown",
   "id": "cec2a25b-11a9-436c-9eff-17ad4003f00c",
   "metadata": {},
   "source": [
    "## Libraries"
   ]
  },
  {
   "cell_type": "code",
   "execution_count": null,
   "id": "5afcaa93",
   "metadata": {},
   "outputs": [],
   "source": [
    "# Imports\n",
    "from pathlib import Path\n",
    "import pandas as pd\n",
    "import numpy as np\n",
    "import riskmapjnr as rmj\n"
   ]
  },
  {
   "cell_type": "code",
   "execution_count": null,
   "id": "10ba48fe",
   "metadata": {},
   "outputs": [],
   "source": [
    "# Add root to path\n",
    "import sys\n",
    "\n",
    "sys.path.append(\"..\")\n",
    "from component.script.utilities.file_filter import (\n",
    "    list_files_by_extension,\n",
    "    filter_files_by_keywords,\n",
    ")\n"
   ]
  },
  {
   "cell_type": "markdown",
   "id": "15850cf5-6362-4e08-aef7-f9372ff90576",
   "metadata": {},
   "source": [
    "## Set user parameters"
   ]
  },
  {
   "cell_type": "code",
   "execution_count": null,
   "id": "4d65846e-d0bf-4d1f-b2d4-c59f3e6a0cf7",
   "metadata": {},
   "outputs": [],
   "source": [
    "project_name = \"test\"\n"
   ]
  },
  {
   "cell_type": "code",
   "execution_count": null,
   "id": "d9f19929-ff4b-498e-ba88-c0444107c530",
   "metadata": {},
   "outputs": [],
   "source": [
    "forest_source = \"gfc\"  ##gfc, tmf\n",
    "tree_cover_threshold = 10\n",
    "years = [2015, 2020, 2024]\n",
    "string_years = [str(num) for num in years]\n"
   ]
  },
  {
   "cell_type": "markdown",
   "id": "9c6d8fcd-6d62-4b47-a589-5921a4cc8102",
   "metadata": {},
   "source": [
    "## Connect folders"
   ]
  },
  {
   "cell_type": "code",
   "execution_count": null,
   "id": "193d607a-c906-459f-8039-3a1bb1abd73e",
   "metadata": {},
   "outputs": [],
   "source": [
    "root_folder: Path = Path.cwd().parent\n",
    "downloads_folder: Path = root_folder / \"data\"\n",
    "downloads_folder.mkdir(parents=True, exist_ok=True)\n"
   ]
  },
  {
   "cell_type": "code",
   "execution_count": null,
   "id": "ad165435",
   "metadata": {},
   "outputs": [],
   "source": [
    "project_folder = downloads_folder / project_name\n",
    "project_folder.mkdir(parents=True, exist_ok=True)\n",
    "processed_data_folder = project_folder / \"data\"\n",
    "processed_data_folder.mkdir(parents=True, exist_ok=True)\n",
    "plots_folder = project_folder / \"plots\"\n",
    "plots_folder.mkdir(parents=True, exist_ok=True)\n",
    "rmj_bm = project_folder / \"rmj_bm\"\n",
    "rmj_bm.mkdir(parents=True, exist_ok=True)\n"
   ]
  },
  {
   "cell_type": "markdown",
   "id": "0fba919a-3341-442e-924d-ee870327731d",
   "metadata": {},
   "source": [
    "## Forest Files"
   ]
  },
  {
   "cell_type": "code",
   "execution_count": null,
   "id": "4b1d17f5-7b11-481e-8cde-a49d0b51d476",
   "metadata": {},
   "outputs": [],
   "source": [
    "# List all raster files in the processed data folder\n",
    "input_raster_files = list_files_by_extension(processed_data_folder, [\".tiff\", \".tif\"])\n"
   ]
  },
  {
   "cell_type": "code",
   "execution_count": null,
   "id": "bef9d584-29bd-436a-a7f1-aa3a9a0e030b",
   "metadata": {},
   "outputs": [],
   "source": [
    "forest_change_file = filter_files_by_keywords(\n",
    "    input_raster_files,\n",
    "    [\"forest\", \"loss\", forest_source] + string_years,\n",
    "    False,\n",
    "    [\"distance\", \"edge\"],\n",
    ")[0]\n",
    "forest_change_file"
   ]
  },
  {
   "cell_type": "code",
   "execution_count": null,
   "id": "a731cbc1-5a6e-4117-96d1-aa82c7bfa48a",
   "metadata": {},
   "outputs": [],
   "source": [
    "forest_yearly_files = filter_files_by_keywords(\n",
    "    input_raster_files, [\"forest\", forest_source], False, [\"loss\", \"edge\"]\n",
    ")\n",
    "forest_yearly_files"
   ]
  },
  {
   "cell_type": "code",
   "execution_count": null,
   "id": "5408ef61-6761-4a11-b079-b81f5af616f8",
   "metadata": {},
   "outputs": [],
   "source": [
    "forest_edge_files = filter_files_by_keywords(\n",
    "    input_raster_files, [\"forest\", forest_source, \"edge\"], False\n",
    ")\n",
    "forest_edge_files\n"
   ]
  },
  {
   "cell_type": "code",
   "execution_count": null,
   "id": "c76a809a-7827-4523-a454-c6ab464d76cf",
   "metadata": {},
   "outputs": [],
   "source": [
    "raster_subj_file = filter_files_by_keywords(input_raster_files, [\"subj\"])[0]\n",
    "raster_subj_file\n"
   ]
  },
  {
   "cell_type": "markdown",
   "id": "87dad12b-f99b-4c5e-a77c-0af59155e580",
   "metadata": {},
   "source": [
    "## Periods dictionaries"
   ]
  },
  {
   "cell_type": "code",
   "execution_count": null,
   "id": "d7be2707-82be-4def-be45-ca8a61ce8662",
   "metadata": {},
   "outputs": [],
   "source": [
    "calibration_dict = {\n",
    "    \"period\": \"calibration\",\n",
    "    \"train_period\": \"calibration\",\n",
    "    \"initial_year\": years[0],\n",
    "    \"final_year\": years[1],\n",
    "    \"defor_value\": 1,\n",
    "    \"time_interval\": years[1] - years[0],\n",
    "    \"initial_year_forest\": filter_files_by_keywords(\n",
    "        forest_yearly_files, [str(years[0])]\n",
    "    )[0],\n",
    "    \"initial_year_forest_edge\": filter_files_by_keywords(\n",
    "        forest_edge_files, [str(years[0])]\n",
    "    )[0],\n",
    "}\n",
    "validation_dict = {\n",
    "    \"period\": \"validation\",\n",
    "    \"train_period\": \"calibration\",\n",
    "    \"initial_year\": years[1],\n",
    "    \"final_year\": years[2],\n",
    "    \"defor_value\": 1,\n",
    "    \"time_interval\": years[2] - years[1],\n",
    "    \"initial_year_forest\": filter_files_by_keywords(\n",
    "        forest_yearly_files, [str(years[1])]\n",
    "    )[0],\n",
    "    \"initial_year_forest_edge\": filter_files_by_keywords(\n",
    "        forest_edge_files, [str(years[1])]\n",
    "    )[0],\n",
    "}\n",
    "historical_dict = {\n",
    "    \"period\": \"historical\",\n",
    "    \"train_period\": \"historical\",\n",
    "    \"initial_year\": years[0],\n",
    "    \"final_year\": years[2],\n",
    "    \"defor_value\": [1, 2],\n",
    "    \"time_interval\": years[2] - years[0],\n",
    "    \"initial_year_forest\": filter_files_by_keywords(\n",
    "        forest_yearly_files, [str(years[0])]\n",
    "    )[0],\n",
    "    \"initial_year_forest_edge\": filter_files_by_keywords(\n",
    "        forest_edge_files, [str(years[0])]\n",
    "    )[0],\n",
    "}\n",
    "forecast_dict = {\n",
    "    \"period\": \"forecast\",\n",
    "    \"train_period\": \"historical\",\n",
    "    \"initial_year\": years[0],\n",
    "    \"final_year\": years[2],\n",
    "    \"defor_value\": [1, 2],\n",
    "    \"time_interval\": years[2] - years[0],\n",
    "    \"initial_year_forest\": filter_files_by_keywords(\n",
    "        forest_yearly_files, [str(years[2])]\n",
    "    )[0],\n",
    "    \"initial_year_forest_edge\": filter_files_by_keywords(\n",
    "        forest_edge_files, [str(years[2])]\n",
    "    )[0],\n",
    "}\n"
   ]
  },
  {
   "cell_type": "markdown",
   "id": "8c886152-5c18-4daf-884b-45434df2b29a",
   "metadata": {},
   "source": [
    "## 1 Calculate distance to forest edge"
   ]
  },
  {
   "cell_type": "code",
   "execution_count": null,
   "id": "137a6556-f614-41d6-a5f9-eebf01953978",
   "metadata": {},
   "outputs": [],
   "source": [
    "deforestation_thresh = 99.5\n",
    "deforestation_thresh = 99.5\n",
    "max_dist1 = 5000\n",
    "max_dist2 = 5000\n"
   ]
  },
  {
   "cell_type": "code",
   "execution_count": null,
   "id": "e01cf6ce-46db-47a2-960b-2da869134f2d",
   "metadata": {},
   "outputs": [],
   "source": [
    "def calculate_period_dist_edge_threshold(\n",
    "    forest_change_file,\n",
    "    period_dictionary,\n",
    "    deforestation_thresh,\n",
    "    max_dist,\n",
    "    model_folder,\n",
    "    plots_folder,\n",
    "):\n",
    "    period_output_folder = model_folder / period_dictionary[\"period\"]\n",
    "    if not os.path.exists(period_output_folder):\n",
    "        os.makedirs(period_output_folder)\n",
    "    dist_thresh = rmj.dist_edge_threshold(\n",
    "        fcc_file=forest_change_file,\n",
    "        defor_values=period_dictionary[\"defor_value\"],\n",
    "        defor_threshold=deforestation_thresh,\n",
    "        dist_file=period_dictionary[\"initial_year_forest_edge\"],\n",
    "        dist_bins=np.arange(0, max_dist, step=30),\n",
    "        tab_file_dist=period_output_folder / \"tab_dist.csv\",\n",
    "        fig_file_dist=plots_folder / f\"perc_dist_{period_dictionary['period']}.png\",\n",
    "        blk_rows=128,\n",
    "        dist_file_available=True,\n",
    "        check_fcc=True,\n",
    "        verbose=True,\n",
    "    )\n",
    "    # Save result\n",
    "    dist_edge_data = pd.DataFrame(dist_thresh, index=[0])\n",
    "    dist_edge_data.to_csv(\n",
    "        period_output_folder / \"dist_edge_threshold.csv\",\n",
    "        sep=\",\",\n",
    "        header=True,\n",
    "        index=False,\n",
    "        index_label=False,\n",
    "    )\n"
   ]
  },
  {
   "cell_type": "code",
   "execution_count": null,
   "id": "5e4cd936-f4eb-45f8-bb4c-5f0010b6313b",
   "metadata": {},
   "outputs": [],
   "source": [
    "calculate_period_dist_edge_threshold(\n",
    "    forest_change_file,\n",
    "    calibration_dict,\n",
    "    deforestation_thresh,\n",
    "    max_dist1,\n",
    "    rmj_bm,\n",
    "    plots_folder,\n",
    ")\n"
   ]
  },
  {
   "cell_type": "code",
   "execution_count": null,
   "id": "8bcacef7-89d0-4aef-a44d-20d1e51167ee",
   "metadata": {},
   "outputs": [],
   "source": [
    "calculate_period_dist_edge_threshold(\n",
    "    forest_change_file,\n",
    "    historical_dict,\n",
    "    deforestation_thresh,\n",
    "    max_dist2,\n",
    "    rmj_bm,\n",
    "    plots_folder,\n",
    ")\n"
   ]
  },
  {
   "cell_type": "markdown",
   "id": "b3d6d05c-99e0-480b-a5f0-82ff04ef109e",
   "metadata": {},
   "source": [
    "## 2 Compute bins"
   ]
  },
  {
   "cell_type": "code",
   "execution_count": null,
   "id": "8cfdb380-bad0-4d7e-8c64-4fc2dfd5d8e8",
   "metadata": {},
   "outputs": [],
   "source": [
    "def get_dist_thresh(ifile):\n",
    "    \"\"\"Get distance to forest edge threshold.\"\"\"\n",
    "    dist_thresh_data = pd.read_csv(ifile)\n",
    "    dist_thresh = dist_thresh_data.loc[0, \"dist_thresh\"]\n",
    "    return dist_thresh\n",
    "\n",
    "\n",
    "def save_dist_bins(dist_bins, output_file):\n",
    "    dist_bins_str = [str(i) for i in dist_bins]\n",
    "    with open(output_file, \"w\", encoding=\"utf-8\") as f:\n",
    "        f.write(\"\\n\".join(dist_bins_str))\n",
    "\n",
    "\n",
    "def get_dist_bins(dist_bins_file):\n",
    "    \"\"\"Get distance bins.\"\"\"\n",
    "    with open(dist_bins_file, \"r\", encoding=\"utf-8\") as f:\n",
    "        dist_bins = [float(line.rstrip()) for line in f]\n",
    "    return dist_bins\n"
   ]
  },
  {
   "cell_type": "code",
   "execution_count": null,
   "id": "802c431b-024f-441a-9e1d-b64a649512da",
   "metadata": {},
   "outputs": [],
   "source": [
    "def calculate_period_dist_bins(period_dictionary, model_folder):\n",
    "    period_output_folder = model_folder / period_dictionary[\"period\"]\n",
    "    period_dist_edge_file = period_output_folder / \"dist_edge_threshold.csv\"\n",
    "    dist_bins = rmj.benchmark.compute_dist_bins(\n",
    "        period_dictionary.get(\"initial_year_forest_edge\"),\n",
    "        get_dist_thresh(period_dist_edge_file),\n",
    "    )\n",
    "    dist_thresh = get_dist_thresh(period_dist_edge_file)\n",
    "    dist_bins_file = period_output_folder / \"dist_bins.csv\"\n",
    "    save_dist_bins(dist_bins, dist_bins_file)\n"
   ]
  },
  {
   "cell_type": "code",
   "execution_count": null,
   "id": "05cd9853-c10d-414c-96cc-0bc0a577f6af",
   "metadata": {},
   "outputs": [],
   "source": [
    "calculate_period_dist_bins(calibration_dict, rmj_bm)\n"
   ]
  },
  {
   "cell_type": "code",
   "execution_count": null,
   "id": "11dac5d1-00bd-4a0c-a7a2-8da61a36e710",
   "metadata": {},
   "outputs": [],
   "source": [
    "calculate_period_dist_bins(historical_dict, rmj_bm)"
   ]
  },
  {
   "cell_type": "markdown",
   "id": "31b815c3-065b-4621-bcc2-811804a507db",
   "metadata": {},
   "source": [
    "## 3 Compute vulnerability map"
   ]
  },
  {
   "cell_type": "code",
   "execution_count": null,
   "id": "3cf33169-a381-44da-a8d0-7684783668ec",
   "metadata": {},
   "outputs": [],
   "source": [
    "def calculate_period_vulnerability_map(\n",
    "    period_dictionary, raster_subj_file, model_folder\n",
    "):\n",
    "    period_output_folder = model_folder / period_dictionary[\"period\"]\n",
    "    if not os.path.exists(period_output_folder):\n",
    "        os.makedirs(period_output_folder)\n",
    "    trained_period_output_folder = model_folder / period_dictionary[\"train_period\"]\n",
    "    dist_bins_file = trained_period_output_folder / \"dist_bins.csv\"\n",
    "    vulnerability_map_file = (\n",
    "        period_output_folder / f\"prob_bm_{period_dictionary['period']}.tif\"\n",
    "    )\n",
    "\n",
    "    rmj.benchmark.vulnerability_map(\n",
    "        forest_file=period_dictionary[\"initial_year_forest\"],\n",
    "        dist_file=period_dictionary[\"initial_year_forest_edge\"],\n",
    "        dist_bins=get_dist_bins(dist_bins_file),\n",
    "        subj_file=raster_subj_file,\n",
    "        output_file=vulnerability_map_file,\n",
    "        blk_rows=128,\n",
    "        verbose=False,\n",
    "    )\n"
   ]
  },
  {
   "cell_type": "code",
   "execution_count": null,
   "id": "5883b5b4-7926-402b-92c2-186b229b7902",
   "metadata": {},
   "outputs": [],
   "source": [
    "calculate_period_vulnerability_map(calibration_dict, raster_subj_file, rmj_bm)\n"
   ]
  },
  {
   "cell_type": "code",
   "execution_count": null,
   "id": "4767d434-bfe9-420b-8ee3-25feb2d4ffb9",
   "metadata": {},
   "outputs": [],
   "source": [
    "calculate_period_vulnerability_map(historical_dict, raster_subj_file, rmj_bm)\n"
   ]
  },
  {
   "cell_type": "code",
   "execution_count": null,
   "id": "c3133008-9b6e-45ca-9cb5-7867ce36665e",
   "metadata": {},
   "outputs": [],
   "source": [
    "calculate_period_vulnerability_map(validation_dict, raster_subj_file, rmj_bm)\n"
   ]
  },
  {
   "cell_type": "code",
   "execution_count": null,
   "id": "701b5ae9-c0d0-47f9-b2e9-53387b420fe5",
   "metadata": {},
   "outputs": [],
   "source": [
    "calculate_period_vulnerability_map(forecast_dict, raster_subj_file, rmj_bm)\n"
   ]
  },
  {
   "cell_type": "markdown",
   "id": "85ee7673-0434-4b63-95cd-9f52a1965073",
   "metadata": {},
   "source": [
    "## 4 Compute deforestation rate per vulnerability class"
   ]
  },
  {
   "cell_type": "code",
   "execution_count": null,
   "id": "378974be-542b-4c11-9325-c53fd51e2951",
   "metadata": {},
   "outputs": [],
   "source": [
    "def calculate_period_vulnerability_classes(\n",
    "    period_dictionary, forest_change_file, model_folder\n",
    "):\n",
    "    period_output_folder = model_folder / period_dictionary[\"period\"]\n",
    "    trained_period_output_folder = model_folder / period_dictionary[\"train_period\"]\n",
    "    vulnerability_file_path = (\n",
    "        period_output_folder / f\"prob_bm_{period_dictionary['period']}.tif\"\n",
    "    )\n",
    "    time_interval = period_dictionary[\"time_interval\"]\n",
    "    if period_dictionary[\"period\"] in [\"validation\", \"forecast\"]:\n",
    "        deforate_model = (\n",
    "            trained_period_output_folder\n",
    "            / f\"defrate_cat_bm_{period_dictionary['train_period']}.csv\"\n",
    "        )\n",
    "    else:\n",
    "        deforate_model = None\n",
    "    output_file = (\n",
    "        period_output_folder / f\"defrate_cat_bm_{period_dictionary['period']}.csv\"\n",
    "    )\n",
    "    rmj.benchmark.defrate_per_class(\n",
    "        fcc_file=forest_change_file,\n",
    "        vulnerability_file=vulnerability_file_path,\n",
    "        time_interval=period_dictionary[\"time_interval\"],\n",
    "        period=period_dictionary[\"period\"],\n",
    "        deforate_model=deforate_model,\n",
    "        tab_file_defrate=output_file,\n",
    "        blk_rows=128,\n",
    "        verbose=False,\n",
    "    )\n"
   ]
  },
  {
   "cell_type": "code",
   "execution_count": null,
   "id": "8a234ad9-9baa-466e-be32-80b72ba38185",
   "metadata": {},
   "outputs": [],
   "source": [
    "calculate_period_vulnerability_classes(calibration_dict, forest_change_file, rmj_bm)\n"
   ]
  },
  {
   "cell_type": "code",
   "execution_count": null,
   "id": "bec748e6-112f-456e-be8a-4c7aa680263c",
   "metadata": {},
   "outputs": [],
   "source": [
    "calculate_period_vulnerability_classes(historical_dict, forest_change_file, rmj_bm)\n"
   ]
  },
  {
   "cell_type": "code",
   "execution_count": null,
   "id": "9efa8739-f84e-4194-83b2-4ae908d9320e",
   "metadata": {},
   "outputs": [],
   "source": [
    "calculate_period_vulnerability_classes(validation_dict, forest_change_file, rmj_bm)\n"
   ]
  },
  {
   "cell_type": "code",
   "execution_count": null,
   "id": "cc8f6790-98b3-4643-b28a-fe7b89944088",
   "metadata": {},
   "outputs": [],
   "source": [
    "calculate_period_vulnerability_classes(forecast_dict, forest_change_file, rmj_bm)\n"
   ]
  },
  {
   "cell_type": "markdown",
   "id": "af8b59aa-bec6-442a-8eb2-055c76fc32d8",
   "metadata": {},
   "source": [
    "## 5 Plot Risk map of deforestation"
   ]
  },
  {
   "cell_type": "code",
   "execution_count": null,
   "id": "2898f2de-814e-440c-b646-b85d6aa45245",
   "metadata": {},
   "outputs": [],
   "source": [
    "input_vector_files = list_files_by_extension(processed_data_folder, [\".shp\"])\n",
    "aoi_vector = filter_files_by_keywords(input_vector_files, [\"aoi\"])[0]\n"
   ]
  },
  {
   "cell_type": "code",
   "execution_count": null,
   "id": "682212e6-2d8e-43de-b158-b906f20dca00",
   "metadata": {},
   "outputs": [],
   "source": [
    "fcc_plot = os.path.join(plots_folder, \"fcc123.png\")\n",
    "fig_fcc123 = rmj.plot.fcc123(\n",
    "    input_fcc_raster=forest_change_file,\n",
    "    maxpixels=1e8,\n",
    "    output_file=fcc_plot,\n",
    "    borders=aoi_vector,\n",
    "    linewidth=0.2,\n",
    "    figsize=(5, 4),\n",
    "    dpi=100,\n",
    ")\n"
   ]
  },
  {
   "cell_type": "code",
   "execution_count": null,
   "id": "0aa786b4-5157-4e1f-ab1b-9964bb99b6a7",
   "metadata": {},
   "outputs": [],
   "source": [
    "def calculate_period_plot_risk_map(\n",
    "    period_dictionary, aoi_vector, model_folder, plots_folder\n",
    "):\n",
    "    period_output_folder = model_folder / period_dictionary[\"period\"]\n",
    "    ifile = str(period_output_folder / f\"prob_bm_{period_dictionary['period']}.tif\")\n",
    "    ofile = str(plots_folder / f\"prob_bm_{period_dictionary['period']}.png\")\n",
    "    riskmap_fig = rmj.benchmark.plot.vulnerability_map(\n",
    "        input_map=ifile,\n",
    "        maxpixels=1e8,\n",
    "        output_file=ofile,\n",
    "        borders=aoi_vector,\n",
    "        legend=True,\n",
    "        figsize=(6, 5),\n",
    "        dpi=100,\n",
    "        linewidth=0.3,\n",
    "    )\n"
   ]
  },
  {
   "cell_type": "code",
   "execution_count": null,
   "id": "57482fde-d6f4-4cd9-8a07-3e959ca2f7c2",
   "metadata": {},
   "outputs": [],
   "source": [
    "calculate_period_plot_risk_map(calibration_dict, aoi_vector, rmj_bm, plots_folder)\n"
   ]
  },
  {
   "cell_type": "code",
   "execution_count": null,
   "id": "dcca3b1b-9c38-40ac-bd5f-2fbb7a1e2a2c",
   "metadata": {},
   "outputs": [],
   "source": [
    "calculate_period_plot_risk_map(historical_dict, aoi_vector, rmj_bm, plots_folder)\n"
   ]
  },
  {
   "cell_type": "code",
   "execution_count": null,
   "id": "2326bee3-f99c-42a8-a91b-5c9b7470878d",
   "metadata": {},
   "outputs": [],
   "source": [
    "calculate_period_plot_risk_map(validation_dict, aoi_vector, rmj_bm, plots_folder)\n"
   ]
  },
  {
   "cell_type": "code",
   "execution_count": null,
   "id": "a4266dc1-5a8b-4c9a-ab34-4c44094e3c26",
   "metadata": {},
   "outputs": [],
   "source": [
    "calculate_period_plot_risk_map(forecast_dict, aoi_vector, rmj_bm, plots_folder)\n"
   ]
  }
 ],
 "metadata": {
  "kernelspec": {
   "display_name": "deforisk-jupyter-nb",
   "language": "python",
   "name": "python3"
  },
  "language_info": {
   "codemirror_mode": {
    "name": "ipython",
    "version": 3
   },
   "file_extension": ".py",
   "mimetype": "text/x-python",
   "name": "python",
   "nbconvert_exporter": "python",
   "pygments_lexer": "ipython3",
   "version": "3.11.10"
  }
 },
 "nbformat": 4,
 "nbformat_minor": 5
}
