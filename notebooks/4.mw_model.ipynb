{
 "cells": [
  {
   "cell_type": "code",
   "execution_count": null,
   "id": "93956c07-d9f1-4e3a-ae1b-148aec301334",
   "metadata": {},
   "outputs": [],
   "source": [
    "%load_ext autoreload\n",
    "%autoreload 2\n"
   ]
  },
  {
   "cell_type": "code",
   "execution_count": null,
   "id": "f7b5cd50",
   "metadata": {},
   "outputs": [],
   "source": [
    "# %load_ext cudf.pandas\n",
    "# import pandas as pd\n",
    "# print(pd)\n"
   ]
  },
  {
   "cell_type": "code",
   "execution_count": null,
   "id": "02195fea",
   "metadata": {},
   "outputs": [],
   "source": [
    "# Optimizations\n",
    "# GDAL optimizations\n",
    "import multiprocessing as mp\n",
    "import os\n",
    "\n",
    "cpu_count: int = mp.cpu_count()\n",
    "num_cores: int = cpu_count - 2\n",
    "os.environ[\"GDAL_NUM_THREADS\"] = f\"{num_cores}\"\n",
    "os.environ[\"GDAL_CACHEMAX\"] = \"1024\"\n"
   ]
  },
  {
   "cell_type": "markdown",
   "id": "cec2a25b-11a9-436c-9eff-17ad4003f00c",
   "metadata": {},
   "source": [
    "## Libraries"
   ]
  },
  {
   "cell_type": "code",
   "execution_count": null,
   "id": "2f13a12a-7502-4c76-b490-9880fbf99c56",
   "metadata": {},
   "outputs": [],
   "source": [
    "# Imports\n",
    "import os\n",
    "from pathlib import Path\n",
    "\n",
    "import numpy as np\n",
    "import pandas as pd\n",
    "import riskmapjnr as rmj\n"
   ]
  },
  {
   "cell_type": "code",
   "execution_count": null,
   "id": "cb078d57",
   "metadata": {},
   "outputs": [],
   "source": [
    "# Add root to path\n",
    "import sys\n",
    "\n",
    "sys.path.append(\"..\")\n",
    "from component.script.utilities.file_filter import (\n",
    "    list_files_by_extension,\n",
    "    filter_files_by_keywords,\n",
    ")\n"
   ]
  },
  {
   "cell_type": "markdown",
   "id": "15850cf5-6362-4e08-aef7-f9372ff90576",
   "metadata": {},
   "source": [
    "## Set user parameters"
   ]
  },
  {
   "cell_type": "code",
   "execution_count": null,
   "id": "106736a8-74db-4767-b3c2-f7c398b97aa8",
   "metadata": {},
   "outputs": [],
   "source": [
    "project_name = \"test\"\n"
   ]
  },
  {
   "cell_type": "code",
   "execution_count": null,
   "id": "155786da",
   "metadata": {},
   "outputs": [],
   "source": [
    "forest_source = \"gfc\"  ##gfc, tmf\n",
    "tree_cover_threshold = 10\n",
    "years = [2015, 2020, 2024]\n",
    "string_years = [str(num) for num in years]\n"
   ]
  },
  {
   "cell_type": "code",
   "execution_count": null,
   "id": "b0bb8d50-8bb3-4a75-93e0-f77910f2fd74",
   "metadata": {},
   "outputs": [],
   "source": [
    "win_size_list = [5, 11, 21]\n",
    "block_rows = 256\n"
   ]
  },
  {
   "cell_type": "markdown",
   "id": "d0837313",
   "metadata": {},
   "source": [
    "## Connect folders"
   ]
  },
  {
   "cell_type": "code",
   "execution_count": null,
   "id": "e6f4eeee",
   "metadata": {},
   "outputs": [],
   "source": [
    "root_folder: Path = Path.cwd().parent\n",
    "downloads_folder: Path = root_folder / \"data\"\n",
    "downloads_folder.mkdir(parents=True, exist_ok=True)\n"
   ]
  },
  {
   "cell_type": "code",
   "execution_count": null,
   "id": "f5ad7ef2",
   "metadata": {},
   "outputs": [],
   "source": [
    "project_folder = downloads_folder / project_name\n",
    "project_folder.mkdir(parents=True, exist_ok=True)\n",
    "processed_data_folder = project_folder / \"data\"\n",
    "processed_data_folder.mkdir(parents=True, exist_ok=True)\n",
    "plots_folder = project_folder / \"plots\"\n",
    "plots_folder.mkdir(parents=True, exist_ok=True)\n",
    "rmj_mw = project_folder / \"rmj_mw\"\n",
    "rmj_mw.mkdir(parents=True, exist_ok=True)\n"
   ]
  },
  {
   "cell_type": "markdown",
   "id": "0fba919a-3341-442e-924d-ee870327731d",
   "metadata": {},
   "source": [
    "## Forest Files"
   ]
  },
  {
   "cell_type": "code",
   "execution_count": null,
   "id": "4b1d17f5-7b11-481e-8cde-a49d0b51d476",
   "metadata": {},
   "outputs": [],
   "source": [
    "# List all raster files in the processed data folder\n",
    "input_raster_files = list_files_by_extension(processed_data_folder, [\".tiff\", \".tif\"])\n"
   ]
  },
  {
   "cell_type": "code",
   "execution_count": null,
   "id": "bef9d584-29bd-436a-a7f1-aa3a9a0e030b",
   "metadata": {},
   "outputs": [],
   "source": [
    "forest_change_file = filter_files_by_keywords(\n",
    "    input_raster_files,\n",
    "    [\"forest\", \"loss\", forest_source] + string_years,\n",
    "    False,\n",
    "    [\"distance\", \"edge\"],\n",
    ")[0]\n"
   ]
  },
  {
   "cell_type": "code",
   "execution_count": null,
   "id": "a731cbc1-5a6e-4117-96d1-aa82c7bfa48a",
   "metadata": {},
   "outputs": [],
   "source": [
    "forest_yearly_files = filter_files_by_keywords(\n",
    "    input_raster_files, [\"forest\", forest_source], False, [\"loss\", \"edge\"]\n",
    ")\n"
   ]
  },
  {
   "cell_type": "code",
   "execution_count": null,
   "id": "5408ef61-6761-4a11-b079-b81f5af616f8",
   "metadata": {},
   "outputs": [],
   "source": [
    "forest_edge_files = filter_files_by_keywords(\n",
    "    input_raster_files, [\"forest\", forest_source, \"edge\"], False\n",
    ")\n"
   ]
  },
  {
   "cell_type": "code",
   "execution_count": null,
   "id": "c76a809a-7827-4523-a454-c6ab464d76cf",
   "metadata": {},
   "outputs": [],
   "source": [
    "raster_subj_file = filter_files_by_keywords(input_raster_files, [\"subj\"])[0]\n"
   ]
  },
  {
   "cell_type": "markdown",
   "id": "87dad12b-f99b-4c5e-a77c-0af59155e580",
   "metadata": {},
   "source": [
    "## Periods dictionaries"
   ]
  },
  {
   "cell_type": "code",
   "execution_count": null,
   "id": "d7be2707-82be-4def-be45-ca8a61ce8662",
   "metadata": {},
   "outputs": [],
   "source": [
    "calibration_dict = {\n",
    "    \"period\": \"calibration\",\n",
    "    \"train_period\": \"calibration\",\n",
    "    \"initial_year\": years[0],\n",
    "    \"final_year\": years[1],\n",
    "    \"defor_value\": 1,\n",
    "    \"time_interval\": years[1] - years[0],\n",
    "    \"forest\": filter_files_by_keywords(forest_yearly_files, [str(years[0])])[0],\n",
    "    \"forest_edge\": filter_files_by_keywords(forest_edge_files, [str(years[0])])[0],\n",
    "}\n",
    "validation_dict = {\n",
    "    \"period\": \"validation\",\n",
    "    \"train_period\": \"calibration\",\n",
    "    \"initial_year\": years[1],\n",
    "    \"final_year\": years[2],\n",
    "    \"defor_value\": 1,\n",
    "    \"time_interval\": years[2] - years[1],\n",
    "    \"forest\": filter_files_by_keywords(forest_yearly_files, [str(years[1])])[0],\n",
    "    \"forest_edge\": filter_files_by_keywords(forest_edge_files, [str(years[1])])[0],\n",
    "}\n",
    "historical_dict = {\n",
    "    \"period\": \"historical\",\n",
    "    \"train_period\": \"historical\",\n",
    "    \"initial_year\": years[0],\n",
    "    \"final_year\": years[2],\n",
    "    \"defor_value\": [1, 2],\n",
    "    \"time_interval\": years[2] - years[0],\n",
    "    \"forest\": filter_files_by_keywords(forest_yearly_files, [str(years[0])])[0],\n",
    "    \"forest_edge\": filter_files_by_keywords(forest_edge_files, [str(years[0])])[0],\n",
    "}\n",
    "forecast_dict = {\n",
    "    \"period\": \"forecast\",\n",
    "    \"train_period\": \"historical\",\n",
    "    \"initial_year\": years[0],\n",
    "    \"final_year\": years[2],\n",
    "    \"defor_value\": [1, 2],\n",
    "    \"time_interval\": years[2] - years[0],\n",
    "    \"forest\": filter_files_by_keywords(forest_yearly_files, [str(years[2])])[0],\n",
    "    \"forest_edge\": filter_files_by_keywords(forest_edge_files, [str(years[2])])[0],\n",
    "}\n"
   ]
  },
  {
   "cell_type": "markdown",
   "id": "8c886152-5c18-4daf-884b-45434df2b29a",
   "metadata": {},
   "source": [
    "## 1 Calculate distance to forest edge"
   ]
  },
  {
   "cell_type": "code",
   "execution_count": null,
   "id": "137a6556-f614-41d6-a5f9-eebf01953978",
   "metadata": {},
   "outputs": [],
   "source": [
    "deforestation_thresh = 99.5\n",
    "max_dist = 5000\n"
   ]
  },
  {
   "cell_type": "code",
   "execution_count": null,
   "id": "e01cf6ce-46db-47a2-960b-2da869134f2d",
   "metadata": {},
   "outputs": [],
   "source": [
    "def calculate_period_dist_edge_threshold(\n",
    "    forest_change_file,\n",
    "    period_dictionary,\n",
    "    deforestation_thresh,\n",
    "    max_dist,\n",
    "    model_folder,\n",
    "    plots_folder,\n",
    "):\n",
    "    period_output_folder = model_folder / period_dictionary[\"period\"]\n",
    "    period_output_folder.mkdir(parents=True, exist_ok=True)\n",
    "\n",
    "    dist_thresh = rmj.dist_edge_threshold(\n",
    "        fcc_file=forest_change_file,\n",
    "        defor_values=period_dictionary[\"defor_value\"],\n",
    "        defor_threshold=deforestation_thresh,\n",
    "        dist_file=period_dictionary[\"forest_edge\"],\n",
    "        dist_bins=np.arange(0, max_dist, step=30),\n",
    "        tab_file_dist=period_output_folder / \"tab_dist.csv\",\n",
    "        # fig_file_dist= period_output_folder /\"perc_dist.png\",\n",
    "        fig_file_dist=plots_folder / f\"perc_dist_{period_dictionary['period']}.png\",\n",
    "        blk_rows=block_rows,\n",
    "        dist_file_available=True,\n",
    "        check_fcc=False,\n",
    "        verbose=False,\n",
    "    )\n",
    "    # Save result\n",
    "    dist_edge_data = pd.DataFrame(dist_thresh, index=[0])\n",
    "    dist_edge_data.to_csv(\n",
    "        period_output_folder / \"dist_edge_threshold.csv\",\n",
    "        sep=\",\",\n",
    "        header=True,\n",
    "        index=False,\n",
    "        index_label=False,\n",
    "    )\n"
   ]
  },
  {
   "cell_type": "code",
   "execution_count": null,
   "id": "5e4cd936-f4eb-45f8-bb4c-5f0010b6313b",
   "metadata": {},
   "outputs": [],
   "source": [
    "calculate_period_dist_edge_threshold(\n",
    "    forest_change_file,\n",
    "    calibration_dict,\n",
    "    deforestation_thresh,\n",
    "    max_dist,\n",
    "    rmj_mw,\n",
    "    plots_folder,\n",
    ")\n"
   ]
  },
  {
   "cell_type": "code",
   "execution_count": null,
   "id": "8bcacef7-89d0-4aef-a44d-20d1e51167ee",
   "metadata": {},
   "outputs": [],
   "source": [
    "calculate_period_dist_edge_threshold(\n",
    "    forest_change_file,\n",
    "    historical_dict,\n",
    "    deforestation_thresh,\n",
    "    max_dist,\n",
    "    rmj_mw,\n",
    "    plots_folder,\n",
    ")\n"
   ]
  },
  {
   "cell_type": "markdown",
   "id": "31b815c3-065b-4621-bcc2-811804a507db",
   "metadata": {},
   "source": [
    "## 2 Compute local_defor_rate"
   ]
  },
  {
   "cell_type": "code",
   "execution_count": null,
   "id": "3cf33169-a381-44da-a8d0-7684783668ec",
   "metadata": {},
   "outputs": [],
   "source": [
    "def calculate_local_defor_rate(\n",
    "    forest_change_file, win_size_list, period_dictionary, model_folder\n",
    "):\n",
    "    period_output_folder = model_folder / period_dictionary[\"period\"]\n",
    "    period_output_folder.mkdir(parents=True, exist_ok=True)\n",
    "    trained_period_output_folder = model_folder / period_dictionary[\"train_period\"]\n",
    "    trained_period_output_folder.mkdir(parents=True, exist_ok=True)\n",
    "\n",
    "    for win_size in win_size_list:\n",
    "        ldefrate_file = period_output_folder / f\"ldefrate_mw_{win_size}.tif\"\n",
    "        rmj.local_defor_rate(\n",
    "            fcc_file=forest_change_file,\n",
    "            defor_values=period_dictionary[\"defor_value\"],\n",
    "            ldefrate_file=ldefrate_file,\n",
    "            win_size=win_size,\n",
    "            time_interval=period_dictionary[\"time_interval\"],\n",
    "            rescale_min_val=2,\n",
    "            rescale_max_val=65535,\n",
    "            blk_rows=block_rows,\n",
    "            verbose=False,\n",
    "        )\n"
   ]
  },
  {
   "cell_type": "code",
   "execution_count": null,
   "id": "5883b5b4-7926-402b-92c2-186b229b7902",
   "metadata": {},
   "outputs": [],
   "source": [
    "calculate_local_defor_rate(forest_change_file, win_size_list, calibration_dict, rmj_mw)\n"
   ]
  },
  {
   "cell_type": "code",
   "execution_count": null,
   "id": "4767d434-bfe9-420b-8ee3-25feb2d4ffb9",
   "metadata": {},
   "outputs": [],
   "source": [
    "calculate_local_defor_rate(forest_change_file, win_size_list, historical_dict, rmj_mw)\n"
   ]
  },
  {
   "cell_type": "markdown",
   "id": "85ee7673-0434-4b63-95cd-9f52a1965073",
   "metadata": {},
   "source": [
    "## 3 Compute prediction"
   ]
  },
  {
   "cell_type": "code",
   "execution_count": null,
   "id": "378974be-542b-4c11-9325-c53fd51e2951",
   "metadata": {},
   "outputs": [],
   "source": [
    "def get_dist_thresh(ifile):\n",
    "    \"\"\"Get distance to forest edge threshold.\"\"\"\n",
    "    dist_thresh_data = pd.read_csv(ifile)\n",
    "    dist_thresh = dist_thresh_data.loc[0, \"dist_thresh\"]\n",
    "    return dist_thresh\n",
    "\n",
    "\n",
    "def calculate_period_mw_prediction(period_dictionary, win_size_list, model_folder):\n",
    "    period_output_folder = model_folder / period_dictionary[\"period\"]\n",
    "    period_output_folder.mkdir(parents=True, exist_ok=True)\n",
    "\n",
    "    trained_period_output_folder = model_folder / period_dictionary[\"train_period\"]\n",
    "    period_dist_edge_file = trained_period_output_folder / \"dist_edge_threshold.csv\"\n",
    "\n",
    "    for win_size in win_size_list:\n",
    "        ldefrate_file = trained_period_output_folder / f\"ldefrate_mw_{win_size}.tif\"\n",
    "        output_file = (\n",
    "            period_output_folder\n",
    "            / f\"prob_mw_{win_size}_{period_dictionary['period']}.tif\"\n",
    "        )\n",
    "        rmj.set_defor_cat_zero(\n",
    "            ldefrate_file=ldefrate_file,\n",
    "            dist_file=period_dictionary[\"forest_edge\"],\n",
    "            dist_thresh=get_dist_thresh(period_dist_edge_file),\n",
    "            ldefrate_with_zero_file=output_file,\n",
    "            blk_rows=block_rows,\n",
    "            verbose=False,\n",
    "        )\n"
   ]
  },
  {
   "cell_type": "code",
   "execution_count": null,
   "id": "8a234ad9-9baa-466e-be32-80b72ba38185",
   "metadata": {},
   "outputs": [],
   "source": [
    "calculate_period_mw_prediction(calibration_dict, win_size_list, rmj_mw)\n"
   ]
  },
  {
   "cell_type": "code",
   "execution_count": null,
   "id": "bec748e6-112f-456e-be8a-4c7aa680263c",
   "metadata": {},
   "outputs": [],
   "source": [
    "calculate_period_mw_prediction(historical_dict, win_size_list, rmj_mw)\n"
   ]
  },
  {
   "cell_type": "code",
   "execution_count": null,
   "id": "9efa8739-f84e-4194-83b2-4ae908d9320e",
   "metadata": {},
   "outputs": [],
   "source": [
    "calculate_period_mw_prediction(validation_dict, win_size_list, rmj_mw)\n"
   ]
  },
  {
   "cell_type": "code",
   "execution_count": null,
   "id": "cc8f6790-98b3-4643-b28a-fe7b89944088",
   "metadata": {},
   "outputs": [],
   "source": [
    "calculate_period_mw_prediction(forecast_dict, win_size_list, rmj_mw)\n"
   ]
  },
  {
   "cell_type": "markdown",
   "id": "04993784-2a9f-4989-a185-2f7df5a2670b",
   "metadata": {},
   "source": [
    "## 4 Compute deforestation rate per class"
   ]
  },
  {
   "cell_type": "code",
   "execution_count": null,
   "id": "c324cafa-9ed8-4d10-bf9f-054259ceb6af",
   "metadata": {},
   "outputs": [],
   "source": [
    "def calculate_period_mw_def_rate(\n",
    "    forest_change_file, period_dictionary, win_size_list, model_folder\n",
    "):\n",
    "    period_output_folder = model_folder / period_dictionary[\"period\"]\n",
    "    if not os.path.exists(period_output_folder):\n",
    "        os.makedirs(period_output_folder)\n",
    "    trained_period_output_folder = model_folder / period_dictionary[\"train_period\"]\n",
    "    period_dist_edge_file = trained_period_output_folder / \"dist_edge_threshold.csv\"\n",
    "\n",
    "    for win_size in win_size_list:\n",
    "        ldefrate_file = trained_period_output_folder / f\"ldefrate_mw_{win_size}.tif\"\n",
    "        riskmap_file = (\n",
    "            period_output_folder\n",
    "            / f\"prob_mw_{win_size}_{period_dictionary['period']}.tif\"\n",
    "        )\n",
    "        output_file = (\n",
    "            period_output_folder\n",
    "            / f\"defrate_cat_mw_{win_size}_{period_dictionary['period']}.csv\"\n",
    "        )\n",
    "\n",
    "        rmj.defrate_per_cat(\n",
    "            fcc_file=forest_change_file,\n",
    "            riskmap_file=riskmap_file,\n",
    "            time_interval=period_dictionary[\"time_interval\"],\n",
    "            period=period_dictionary[\"period\"],\n",
    "            tab_file_defrate=output_file,\n",
    "            blk_rows=block_rows,\n",
    "            verbose=False,\n",
    "        )\n"
   ]
  },
  {
   "cell_type": "code",
   "execution_count": null,
   "id": "7b449fbf-1031-4989-adcf-8fccd9ef13fb",
   "metadata": {},
   "outputs": [],
   "source": [
    "calculate_period_mw_def_rate(\n",
    "    forest_change_file, calibration_dict, win_size_list, rmj_mw\n",
    ")\n"
   ]
  },
  {
   "cell_type": "code",
   "execution_count": null,
   "id": "4f8b9fa5-f94d-4631-ad00-f2d739959045",
   "metadata": {},
   "outputs": [],
   "source": [
    "calculate_period_mw_def_rate(forest_change_file, historical_dict, win_size_list, rmj_mw)\n"
   ]
  },
  {
   "cell_type": "code",
   "execution_count": null,
   "id": "ece89d66-d15d-43f2-bbe8-f39c608b7b22",
   "metadata": {},
   "outputs": [],
   "source": [
    "calculate_period_mw_def_rate(forest_change_file, validation_dict, win_size_list, rmj_mw)\n"
   ]
  },
  {
   "cell_type": "code",
   "execution_count": null,
   "id": "d78fd7da-2925-4335-b9e2-a33ef0af31dd",
   "metadata": {},
   "outputs": [],
   "source": [
    "calculate_period_mw_def_rate(forest_change_file, forecast_dict, win_size_list, rmj_mw)\n"
   ]
  },
  {
   "cell_type": "markdown",
   "id": "af8b59aa-bec6-442a-8eb2-055c76fc32d8",
   "metadata": {},
   "source": [
    "## 5 Plot Risk map of deforestation"
   ]
  },
  {
   "cell_type": "code",
   "execution_count": null,
   "id": "2898f2de-814e-440c-b646-b85d6aa45245",
   "metadata": {},
   "outputs": [],
   "source": [
    "input_vector_files = list_files_by_extension(processed_data_folder, [\".shp\"])\n",
    "aoi_vector = filter_files_by_keywords(input_vector_files, [\"aoi\"])[0]\n"
   ]
  },
  {
   "cell_type": "code",
   "execution_count": null,
   "id": "0aa786b4-5157-4e1f-ab1b-9964bb99b6a7",
   "metadata": {},
   "outputs": [],
   "source": [
    "def calculate_period_plot_risk_map(\n",
    "    period_dictionary, aoi_vector, model_folder, plots_folder\n",
    "):\n",
    "    period_output_folder = model_folder / period_dictionary[\"period\"]\n",
    "    raster_files = list_files_by_extension(period_output_folder, [\".tiff\", \".tif\"])\n",
    "    prob_mw_files = filter_files_by_keywords(\n",
    "        raster_files, [\"prob\", \"mw\"], False, [\"ldefrate\"]\n",
    "    )\n",
    "    for prob_mw_file in prob_mw_files:\n",
    "        ifile = prob_mw_file\n",
    "        base_name = os.path.splitext(os.path.basename(ifile))[0]\n",
    "        png_filename = os.path.join(plots_folder, f\"{base_name}.png\")\n",
    "        riskmap_fig = rmj.plot.riskmap(\n",
    "            input_risk_map=ifile,\n",
    "            maxpixels=1e8,\n",
    "            output_file=png_filename,\n",
    "            borders=aoi_vector,\n",
    "            legend=False,\n",
    "            figsize=(6, 5),\n",
    "            dpi=100,\n",
    "            linewidth=0.3,\n",
    "        )\n"
   ]
  },
  {
   "cell_type": "code",
   "execution_count": null,
   "id": "57482fde-d6f4-4cd9-8a07-3e959ca2f7c2",
   "metadata": {},
   "outputs": [],
   "source": [
    "calculate_period_plot_risk_map(calibration_dict, aoi_vector, rmj_mw, plots_folder)\n"
   ]
  },
  {
   "cell_type": "code",
   "execution_count": null,
   "id": "dcca3b1b-9c38-40ac-bd5f-2fbb7a1e2a2c",
   "metadata": {},
   "outputs": [],
   "source": [
    "calculate_period_plot_risk_map(historical_dict, aoi_vector, rmj_mw, plots_folder)\n"
   ]
  },
  {
   "cell_type": "code",
   "execution_count": null,
   "id": "2326bee3-f99c-42a8-a91b-5c9b7470878d",
   "metadata": {},
   "outputs": [],
   "source": [
    "calculate_period_plot_risk_map(validation_dict, aoi_vector, rmj_mw, plots_folder)\n"
   ]
  },
  {
   "cell_type": "code",
   "execution_count": null,
   "id": "a4266dc1-5a8b-4c9a-ab34-4c44094e3c26",
   "metadata": {},
   "outputs": [],
   "source": [
    "calculate_period_plot_risk_map(forecast_dict, aoi_vector, rmj_mw, plots_folder)\n"
   ]
  }
 ],
 "metadata": {
  "kernelspec": {
   "display_name": "deforisk-jupyter-nb",
   "language": "python",
   "name": "python3"
  },
  "language_info": {
   "codemirror_mode": {
    "name": "ipython",
    "version": 3
   },
   "file_extension": ".py",
   "mimetype": "text/x-python",
   "name": "python",
   "nbconvert_exporter": "python",
   "pygments_lexer": "ipython3",
   "version": "3.11.10"
  }
 },
 "nbformat": 4,
 "nbformat_minor": 5
}
