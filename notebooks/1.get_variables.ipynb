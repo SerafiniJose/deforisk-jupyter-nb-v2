{
 "cells": [
  {
   "cell_type": "code",
   "execution_count": null,
   "id": "cc26eb99",
   "metadata": {},
   "outputs": [],
   "source": [
    "%load_ext autoreload\n",
    "%autoreload 2\n"
   ]
  },
  {
   "cell_type": "markdown",
   "id": "cf26cd17-8760-48a6-af28-443120cfb72a",
   "metadata": {},
   "source": [
    "## Libraries"
   ]
  },
  {
   "cell_type": "code",
   "execution_count": null,
   "id": "cc3452c7-76ba-49cd-bc57-c62c0e141ebd",
   "metadata": {},
   "outputs": [],
   "source": [
    "import ee\n",
    "import geemap\n",
    "from typing import Literal\n"
   ]
  },
  {
   "cell_type": "code",
   "execution_count": null,
   "id": "2691616b",
   "metadata": {},
   "outputs": [],
   "source": [
    "# Add root to path\n",
    "import sys\n",
    "\n",
    "sys.path.append(\"..\")\n",
    "from component.script.gee.ee_fao_gaul import (\n",
    "    get_fao_gaul_features,\n",
    "    get_fao_gaul_subj,\n",
    ")\n",
    "from component.script.gee.ee_rasterize_unique_values import gee_rasterize_unique_values\n",
    "from component.script.gee.ee_raster_export import download_ee_image\n"
   ]
  },
  {
   "cell_type": "code",
   "execution_count": null,
   "id": "75fc09be",
   "metadata": {},
   "outputs": [],
   "source": [
    "SourceType = Literal[\"local\", \"gee\"]\n",
    "VariableType = Literal[\"vector\", \"raster\"]"
   ]
  },
  {
   "cell_type": "markdown",
   "id": "f06beee3",
   "metadata": {},
   "source": [
    "## GEE\n"
   ]
  },
  {
   "cell_type": "code",
   "execution_count": null,
   "id": "38087c11",
   "metadata": {},
   "outputs": [],
   "source": [
    "ee_project = \"you-ee-project\"\n",
    "ee.Initialize(project=ee_project)\n"
   ]
  },
  {
   "cell_type": "markdown",
   "id": "26cfd777-cfaf-466b-b9f5-b5ac3af9e2b0",
   "metadata": {},
   "source": [
    "## Create folders"
   ]
  },
  {
   "cell_type": "code",
   "execution_count": null,
   "id": "f5411d94-a9c1-4199-9737-210221ea2110",
   "metadata": {},
   "outputs": [],
   "source": [
    "from pathlib import Path\n",
    "\n",
    "root_folder: Path = Path.cwd().parent\n",
    "downloads_folder: Path = root_folder / \"data\"\n",
    "downloads_folder.mkdir(parents=True, exist_ok=True)\n"
   ]
  },
  {
   "cell_type": "markdown",
   "id": "a1ecc7ea-4667-428c-b5c5-491a9189f115",
   "metadata": {},
   "source": [
    "## Set user parameters"
   ]
  },
  {
   "cell_type": "code",
   "execution_count": null,
   "id": "b7a99cde",
   "metadata": {},
   "outputs": [],
   "source": [
    "project_name = \"test\"\n",
    "years: list[int] = [2015, 2020, 2024]\n",
    "forest_source: Literal[\"gfc\", \"tmf\"] = \"gfc\"\n",
    "tree_cover_threshold: int = 10\n"
   ]
  },
  {
   "cell_type": "markdown",
   "id": "6a1d9f93-75d6-49da-8880-8c99bd49c1b0",
   "metadata": {},
   "source": [
    "## Create projects folders"
   ]
  },
  {
   "cell_type": "code",
   "execution_count": null,
   "id": "f155727e-5ce8-4e84-848e-5963ec15ce19",
   "metadata": {},
   "outputs": [],
   "source": [
    "project_folder = downloads_folder / project_name\n",
    "project_folder.mkdir(parents=True, exist_ok=True)\n",
    "\n",
    "data_raw_folder = project_folder / \"data_raw\"\n",
    "data_raw_folder.mkdir(parents=True, exist_ok=True)\n"
   ]
  },
  {
   "cell_type": "markdown",
   "id": "e6682890",
   "metadata": {},
   "source": [
    "## Helpers"
   ]
  },
  {
   "cell_type": "code",
   "execution_count": null,
   "id": "08d2d247",
   "metadata": {},
   "outputs": [],
   "source": [
    "from pathlib import Path\n",
    "\n",
    "\n",
    "def set_variable_file_path(\n",
    "    project_name: str, data_raw_folder: str, variable_name: str, variable_type: str\n",
    ") -> Path:\n",
    "    \"\"\"\n",
    "    Determine the file extension based on variable type and return the full file path.\n",
    "\n",
    "    Args:\n",
    "        project_name (str): The name of the project.\n",
    "        data_raw_folder (str): The path to the data raw folder.\n",
    "        variable_type (str): The type of the variable (\"vector\" or \"raster\").\n",
    "        data_raw_folder (str): The path to the data raw folder.\n",
    "        variable_name (str): The name of the variable.\n",
    "\n",
    "    Returns:\n",
    "        Path: The full file path with the appropriate extension.\n",
    "\n",
    "    Raises:\n",
    "        ValueError: If an unsupported variable type is provided.\n",
    "    \"\"\"\n",
    "    # Define supported extensions\n",
    "    extensions = {\"vector\": \".shp\", \"raster\": \".tif\"}\n",
    "\n",
    "    # Validate variable type and get the corresponding extension\n",
    "    if variable_type not in extensions:\n",
    "        raise ValueError(\n",
    "            f\"Unsupported variable type: {variable_type}. Supported types are: {list(extensions.keys())}\"\n",
    "        )\n",
    "\n",
    "    variable_extension = extensions[variable_type]\n",
    "\n",
    "    # Create and return the full file path\n",
    "    return Path(data_raw_folder) / f\"{project_name}_{variable_name}{variable_extension}\"\n"
   ]
  },
  {
   "cell_type": "code",
   "execution_count": null,
   "id": "e2a503b6",
   "metadata": {},
   "outputs": [],
   "source": [
    "from pathlib import Path\n",
    "import shutil\n",
    "from typing import Union\n",
    "\n",
    "\n",
    "def copy_and_rename_file(\n",
    "    file_path: Union[str, Path], destination_path: Union[str, Path]\n",
    ") -> Path:\n",
    "    \"\"\"\n",
    "    Copy a file to a designated location and rename it. If the source is a shapefile (.shp),\n",
    "    also copies all corresponding auxiliary files.\n",
    "\n",
    "    Args:\n",
    "        file_path (Union[str, Path]): The path to the source file to be copied.\n",
    "        destination_path (Union[str, Path]): The full path including folder and new filename for the copied file.\n",
    "\n",
    "    Returns:\n",
    "        Path: The path to the newly copied file.\n",
    "\n",
    "    Raises:\n",
    "        FileNotFoundError: If the source file does not exist.\n",
    "        PermissionError: If there are insufficient permissions to read the source file or write to destination.\n",
    "\n",
    "    Example:\n",
    "        >>> copy_and_rename_file('/path/to/source/file.shp', '/path/to/destination/renamed_file.shp')\n",
    "        PosixPath('/path/to/destination/renamed_file.shp')\n",
    "    \"\"\"\n",
    "    # Convert to Path objects\n",
    "    source_file = Path(file_path)\n",
    "    new_file_path = Path(destination_path)\n",
    "\n",
    "    # Validate that source file exists\n",
    "    if not source_file.exists():\n",
    "        raise FileNotFoundError(f\"Source file '{source_file}' does not exist.\")\n",
    "\n",
    "    # Ensure the destination directory exists\n",
    "    new_file_path.parent.mkdir(parents=True, exist_ok=True)\n",
    "\n",
    "    # Copy the main file to the destination with a new name\n",
    "    shutil.copy2(source_file, new_file_path)\n",
    "\n",
    "    # If source is a shapefile (.shp), also copy auxiliary files\n",
    "    if source_file.suffix.lower() == \".shp\":\n",
    "        # Use pathlib to construct the glob pattern and iterate over auxiliary files\n",
    "        aux_files = list(source_file.parent.glob(f\"{source_file.stem}.*\"))\n",
    "        # print(f\"Found {len(aux_files)} auxiliary files: {aux_files}\")\n",
    "        for aux_file in aux_files:\n",
    "            new_aux_filename = f\"{new_file_path.stem}{aux_file.suffix}\"\n",
    "            new_aux_path = new_file_path.parent / new_aux_filename\n",
    "            shutil.copy2(aux_file, new_aux_path)\n",
    "            print(f\"Auxiliary file copied to {new_aux_path}\")\n",
    "\n",
    "    # print(f\"File copied to {new_file_path}\")\n",
    "    return new_file_path\n"
   ]
  },
  {
   "cell_type": "markdown",
   "id": "f7314b09-444a-46f0-9ae2-899c221adf8b",
   "metadata": {},
   "source": [
    "## AOI"
   ]
  },
  {
   "cell_type": "code",
   "execution_count": null,
   "id": "4da494b2",
   "metadata": {},
   "outputs": [],
   "source": [
    "aoi_source: SourceType = \"local\"\n",
    "aoi_type: VariableType = \"vector\"\n",
    "aoi_name: Path = set_variable_file_path(project_name, data_raw_folder, \"aoi\", aoi_type)"
   ]
  },
  {
   "cell_type": "code",
   "execution_count": null,
   "id": "2f939bc0",
   "metadata": {},
   "outputs": [],
   "source": [
    "if aoi_source == \"gee\":\n",
    "    \n",
    "    iso_code = \"MTQ\"\n",
    "\n",
    "    ##Define AOI using a GEE featureCollecion\n",
    "    # aoi_id = \"str\"\n",
    "    # aoi = ee.FeatureCollection(aoi_id)\n",
    "\n",
    "    ##Define AOI using a FAO Gaul Object\n",
    "    aoi = get_fao_gaul_features(level=0, code=iso_code)\n",
    "\n",
    "    if not Path(aoi_name).exists():\n",
    "        geemap.ee_export_vector(\n",
    "            aoi,\n",
    "            aoi_name,\n",
    "            selectors=[\"gaul0_name\", \"iso3_code\"],\n",
    "            keep_zip=False,\n",
    "            timeout=600,\n",
    "            verbose=False,\n",
    "        )\n",
    "\n",
    "if aoi_source == \"local\":\n",
    "    aoi_path: Path = \"/path/to/local/aoi.shp\"\n",
    "    copy_and_rename_file(aoi_path, aoi_name)\n",
    "    aoi = geemap.shp_to_ee(aoi_path)\n",
    "\n",
    "aoi_geom = aoi.geometry()\n",
    "aoi_geometry_json = aoi_geom.serialize()\n",
    "\n",
    "print(\"Done!\")"
   ]
  },
  {
   "cell_type": "markdown",
   "id": "8e045547",
   "metadata": {},
   "source": [
    "## SubJuridistion"
   ]
  },
  {
   "cell_type": "code",
   "execution_count": null,
   "id": "ca1d8ca2",
   "metadata": {},
   "outputs": [],
   "source": [
    "subj_source: SourceType = \"gee\"\n",
    "subj_type: VariableType = \"raster\"\n"
   ]
  },
  {
   "cell_type": "code",
   "execution_count": null,
   "id": "1815d688",
   "metadata": {},
   "outputs": [],
   "source": [
    "subj_name: Path = set_variable_file_path(\n",
    "    project_name, data_raw_folder, \"subj\", subj_type\n",
    ")\n",
    "print(subj_name)"
   ]
  },
  {
   "cell_type": "code",
   "execution_count": null,
   "id": "d4100085",
   "metadata": {},
   "outputs": [],
   "source": [
    "if subj_source == \"gee\":\n",
    "    filtered_subj, filtered_attribute = get_fao_gaul_subj(2, aoi)\n",
    "    subj_image = (\n",
    "        ee.Image(gee_rasterize_unique_values(filtered_subj, \"gaul2_name\"))\n",
    "        .clip(aoi)\n",
    "        .toByte()\n",
    "    )\n",
    "    if not Path(subj_name).exists():\n",
    "        download_ee_image(\n",
    "            subj_image,\n",
    "            subj_name,\n",
    "            scale=30,\n",
    "            crs=\"EPSG:4326\",\n",
    "            region=aoi_geom,\n",
    "            overwrite=True,\n",
    "            unmask_value=255,\n",
    "            nodata_value=255,\n",
    "        )\n",
    "    else:\n",
    "        print(f\"{subj_name} already exists. Skipping download.\")\n",
    "\n",
    "if subj_source == \"local\":\n",
    "    subj_path: Path = \"\"\n",
    "    copy_and_rename_file(subj_path, subj_name)\n"
   ]
  },
  {
   "cell_type": "markdown",
   "id": "a3ec0b2d-5bca-46b9-a028-f641b8425737",
   "metadata": {},
   "source": [
    "## Protected Areas"
   ]
  },
  {
   "cell_type": "code",
   "execution_count": null,
   "id": "aa8cf94b",
   "metadata": {},
   "outputs": [],
   "source": [
    "pa_source: SourceType = \"gee\"\n",
    "pa_type: VariableType = \"raster\"\n"
   ]
  },
  {
   "cell_type": "code",
   "execution_count": null,
   "id": "839bddd3",
   "metadata": {},
   "outputs": [],
   "source": [
    "pa_name: Path = set_variable_file_path(project_name, data_raw_folder, \"pa\", pa_type)\n",
    "print(pa_name)"
   ]
  },
  {
   "cell_type": "code",
   "execution_count": null,
   "id": "ea149ddb-d9a0-4ac8-826a-44138bc68f84",
   "metadata": {},
   "outputs": [],
   "source": [
    "if subj_source == \"gee\":\n",
    "    # Source\n",
    "    # https://developers.google.com/earth-engine/datasets/catalog/WCMC_WDPA_current_polygons\n",
    "\n",
    "    wdpa_poly = (\n",
    "        ee.FeatureCollection(\"WCMC/WDPA/current/polygons\")\n",
    "        .filterBounds(aoi)\n",
    "        .filter(\n",
    "            ee.Filter.inList(\n",
    "                \"STATUS\", [\"Designated\", \"Inscribed\", \"Established\", \"Proposed\"]\n",
    "            )\n",
    "        )\n",
    "    )\n",
    "    wdpa_image = (\n",
    "        wdpa_poly.reduceToImage([\"WDPAID\"], ee.Reducer.first())\n",
    "        .gt(0)\n",
    "        .unmask()\n",
    "        .clip(aoi)\n",
    "        .toByte()\n",
    "    )\n",
    "    if not Path(pa_name).exists():\n",
    "        download_ee_image(\n",
    "            wdpa_image,\n",
    "            pa_name,\n",
    "            scale=30,\n",
    "            crs=\"EPSG:4326\",\n",
    "            region=aoi_geom,\n",
    "            overwrite=True,\n",
    "            unmask_value=255,\n",
    "            nodata_value=255,\n",
    "        )\n",
    "    else:\n",
    "        print(f\"{pa_name} already exists. Skipping download.\")\n",
    "        \n",
    "if pa_source == \"local\":\n",
    "    pa_path: Path = \"\"\n",
    "    copy_and_rename_file(pa_path, pa_name)\n",
    "\n",
    "print(\"Done!\")"
   ]
  },
  {
   "cell_type": "markdown",
   "id": "68279d18-1f48-4194-8401-2d1ef7776b8d",
   "metadata": {},
   "source": [
    "## Altitude and Slope"
   ]
  },
  {
   "cell_type": "code",
   "execution_count": null,
   "id": "4b35b3b4",
   "metadata": {},
   "outputs": [],
   "source": [
    "altitude_source: SourceType = \"gee\"\n",
    "altitude_type: VariableType = \"raster\"\n",
    "slope_source: SourceType = \"gee\"\n",
    "slope_type: VariableType = \"raster\"\n"
   ]
  },
  {
   "cell_type": "code",
   "execution_count": null,
   "id": "2854bc27",
   "metadata": {},
   "outputs": [],
   "source": [
    "altitude_name: Path = set_variable_file_path(\n",
    "    project_name, data_raw_folder, \"altitude\", altitude_type\n",
    ")\n",
    "print(altitude_name)\n",
    "slope_name: Path = set_variable_file_path(\n",
    "    project_name, data_raw_folder, \"slope\", slope_type\n",
    ")\n",
    "print(slope_name)"
   ]
  },
  {
   "cell_type": "code",
   "execution_count": null,
   "id": "a7e42cbb",
   "metadata": {},
   "outputs": [],
   "source": [
    "if altitude_source == \"gee\":\n",
    "    srtm = ee.Image(\"USGS/SRTMGL1_003\").select(\"elevation\").clip(aoi)\n",
    "    if not Path(altitude_name).exists():\n",
    "        download_ee_image(\n",
    "            srtm,\n",
    "            altitude_name,\n",
    "            scale=30,\n",
    "            crs=\"EPSG:4326\",\n",
    "            region=aoi_geom,\n",
    "            overwrite=True,\n",
    "            nodata_value=None,\n",
    "        )\n",
    "    else:\n",
    "        print(f\"{altitude_name} already exists. Skipping download.\")\n",
    "\n",
    "else:\n",
    "    # Local\n",
    "    altitude_path: Path = \"\"\n",
    "    copy_and_rename_file(altitude_path, altitude_name)\n",
    "\n",
    "\n",
    "if slope_source == \"gee\":\n",
    "    slope = ee.Terrain.slope(srtm).clip(aoi)\n",
    "    if not Path(slope_name).exists():\n",
    "        download_ee_image(\n",
    "            slope,\n",
    "            slope_name,\n",
    "            scale=30,\n",
    "            crs=\"EPSG:4326\",\n",
    "            region=aoi_geom,\n",
    "            overwrite=True,\n",
    "            nodata_value=None,\n",
    "        )\n",
    "    else:\n",
    "        print(f\"{slope_name} already exists. Skipping download.\")\n",
    "\n",
    "else:\n",
    "    # Local\n",
    "    slope_path: Path = \"\"\n",
    "    copy_and_rename_file(slope_path, slope_name)\n",
    "\n",
    "print(\"Done!\")"
   ]
  },
  {
   "cell_type": "markdown",
   "id": "bd0e590f-d86d-4f84-8db5-a7debabaf85c",
   "metadata": {},
   "source": [
    "## Forest layers"
   ]
  },
  {
   "cell_type": "code",
   "execution_count": null,
   "id": "852c88be",
   "metadata": {},
   "outputs": [],
   "source": [
    "forest_source_primary: SourceType = \"gee\"\n",
    "forest_source_secondary = forest_source\n",
    "forest_type: VariableType = \"raster\"\n"
   ]
  },
  {
   "cell_type": "code",
   "execution_count": null,
   "id": "c0364194",
   "metadata": {},
   "outputs": [],
   "source": [
    "if forest_source_primary == \"gee\":\n",
    "    if forest_source_secondary == \"gfc\":\n",
    "        forest_var = (\n",
    "            \"forest_\" + forest_source_secondary + \"_\" + str(tree_cover_threshold) + \"_\"\n",
    "        )\n",
    "    elif forest_source_secondary == \"tmf\":\n",
    "        forest_var = \"forest_\" + forest_source_secondary + \"_\"\n",
    "elif forest_source_primary == \"local\":\n",
    "    forest_var = \"forest_\""
   ]
  },
  {
   "cell_type": "code",
   "execution_count": null,
   "id": "b2da27c1",
   "metadata": {},
   "outputs": [],
   "source": [
    "forest1_name: Path = set_variable_file_path(\n",
    "    project_name, data_raw_folder, forest_var + str(years[0]), forest_type\n",
    ")\n",
    "forest2_name: Path = set_variable_file_path(\n",
    "    project_name, data_raw_folder, forest_var + str(years[1]), forest_type\n",
    ")\n",
    "forest3_name: Path = set_variable_file_path(\n",
    "    project_name, data_raw_folder, forest_var + str(years[2]), forest_type\n",
    ")\n",
    "\n",
    "print(forest1_name)\n",
    "print(forest2_name)\n",
    "print(forest3_name)"
   ]
  },
  {
   "cell_type": "code",
   "execution_count": null,
   "id": "8f9449ca-6c54-4ef2-84cb-f809ec804900",
   "metadata": {},
   "outputs": [],
   "source": [
    "if forest_source_primary == \"gee\" and forest_source == \"gfc\":\n",
    "    gfcImage = ee.Image(\"UMD/hansen/global_forest_change_2024_v1_12\")\n",
    "    clipGfc = gfcImage.clip(aoi)\n",
    "    forest2000 = clipGfc.select([\"treecover2000\"])\n",
    "    forest2000_thr = (\n",
    "        ee.Image(0).where(forest2000.gte(tree_cover_threshold), 1).clip(aoi)\n",
    "    )\n",
    "    loss = clipGfc.select([\"lossyear\"])\n",
    "\n",
    "    forest_gcf_t1 = forest2000_thr.where(loss.lt(years[0] - 2000), 0).rename(\"B1\")\n",
    "    forest_gcf_t2 = forest2000_thr.where(loss.lt(years[1] - 2000), 0).rename(\"B1\")\n",
    "    forest_gcf_t3 = forest2000_thr.where(loss.lt(years[2] - 2000), 0).rename(\"B1\")\n",
    "\n",
    "    if not Path(forest1_name).exists():\n",
    "        download_ee_image(\n",
    "            forest_gcf_t1,\n",
    "            forest1_name,\n",
    "            scale=30,\n",
    "            crs=\"EPSG:4326\",\n",
    "            region=aoi_geom,\n",
    "            overwrite=True,\n",
    "            unmask_value=255,\n",
    "            nodata_value=255,\n",
    "        )\n",
    "    else:\n",
    "        print(f\"{forest1_name} already exists. Skipping download.\")\n",
    "\n",
    "\n",
    "    if not Path(forest2_name).exists():\n",
    "        download_ee_image(\n",
    "            forest_gcf_t2,\n",
    "            forest2_name,\n",
    "            scale=30,\n",
    "            crs=\"EPSG:4326\",\n",
    "            region=aoi_geom,\n",
    "            overwrite=True,\n",
    "            unmask_value=255,\n",
    "            nodata_value=255,\n",
    "        )\n",
    "    else:\n",
    "        print(f\"{forest2_name} already exists. Skipping download.\")\n",
    "\n",
    "    if not Path(forest3_name).exists():\n",
    "        download_ee_image(\n",
    "            forest_gcf_t3,\n",
    "            forest3_name,\n",
    "            scale=30,\n",
    "            crs=\"EPSG:4326\",\n",
    "            region=aoi_geom,\n",
    "            overwrite=True,\n",
    "            unmask_value=255,\n",
    "            nodata_value=255,\n",
    "        )\n",
    "    else:\n",
    "        print(f\"{forest3_name} already exists. Skipping download.\")\n",
    "\n",
    "    print(\"Done!\")"
   ]
  },
  {
   "cell_type": "code",
   "execution_count": null,
   "id": "49d81e15",
   "metadata": {},
   "outputs": [],
   "source": [
    "if forest_source_primary == \"gee\" and forest_source == \"tmf\":\n",
    "    tmfImage = (\n",
    "        ee.ImageCollection(\"projects/JRC/TMF/v1_2024/AnnualChanges\")\n",
    "        .filterBounds(aoi)\n",
    "        .mosaic()\n",
    "    )\n",
    "    forest2_t1 = tmfImage.select(\"Dec\" + str(years[0] - 1))\n",
    "    forest2_t2 = tmfImage.select(\"Dec\" + str(years[1] - 1))\n",
    "    forest2_t3 = tmfImage.select(\"Dec\" + str(years[2] - 1))\n",
    "\n",
    "    forest_tmf_t1 = (\n",
    "        forest2_t1.where(forest2_t1.eq(2), 1).where(forest2_t1.neq(1), 0).rename(\"B1\")\n",
    "    )\n",
    "    forest_tmf_t2 = (\n",
    "        forest2_t2.where(forest2_t2.eq(2), 1).where(forest2_t2.neq(1), 0).rename(\"B2\")\n",
    "    )\n",
    "    forest_tmf_t3 = (\n",
    "        forest2_t3.where(forest2_t3.eq(2), 1).where(forest2_t3.neq(1), 0).rename(\"B3\")\n",
    "    )\n",
    "    if not Path(forest1_name).exists():\n",
    "        download_ee_image(\n",
    "            forest_tmf_t1,\n",
    "            forest1_name,\n",
    "            scale=30,\n",
    "            crs=\"EPSG:4326\",\n",
    "            region=aoi_geom,\n",
    "            overwrite=True,\n",
    "            unmask_value=255,\n",
    "            nodata_value=255,\n",
    "        )\n",
    "    else:\n",
    "        print(f\"{forest1_name} already exists. Skipping download.\")\n",
    "\n",
    "\n",
    "    if not Path(forest2_name).exists():\n",
    "        download_ee_image(\n",
    "            forest_tmf_t2,\n",
    "            forest2_name,\n",
    "            scale=30,\n",
    "            crs=\"EPSG:4326\",\n",
    "            region=aoi_geom,\n",
    "            overwrite=True,\n",
    "            unmask_value=255,\n",
    "            nodata_value=255,\n",
    "        )\n",
    "    else:\n",
    "        print(f\"{forest2_name} already exists. Skipping download.\")\n",
    "\n",
    "    if not Path(forest3_name).exists():\n",
    "        download_ee_image(\n",
    "            forest_tmf_t3,\n",
    "            forest3_name,\n",
    "            scale=30,\n",
    "            crs=\"EPSG:4326\",\n",
    "            region=aoi_geom,\n",
    "            overwrite=True,\n",
    "            unmask_value=255,\n",
    "            nodata_value=255,\n",
    "        )\n",
    "    else:\n",
    "        print(f\"{forest3_name} already exists. Skipping download.\")\n",
    "\n",
    "    print(\"Done!\")"
   ]
  },
  {
   "cell_type": "code",
   "execution_count": null,
   "id": "c23988cb",
   "metadata": {},
   "outputs": [],
   "source": [
    "if forest_source_primary == \"local\":\n",
    "    forest1_path: Path = \"\"\n",
    "    copy_and_rename_file(forest1_path, forest1_name)\n",
    "    forest2_path: Path = \"\"\n",
    "    copy_and_rename_file(forest2_path, forest2_name)\n",
    "    forest3_path: Path = \"\"\n",
    "    copy_and_rename_file(forest3_path, forest3_name)"
   ]
  },
  {
   "cell_type": "markdown",
   "id": "ae488cae-387e-4c32-9161-eb01370e3c06",
   "metadata": {},
   "source": [
    "## Rivers"
   ]
  },
  {
   "cell_type": "code",
   "execution_count": null,
   "id": "7ade4102",
   "metadata": {},
   "outputs": [],
   "source": [
    "rivers_source: SourceType = \"gee\"\n",
    "rivers_type: VariableType = \"raster\""
   ]
  },
  {
   "cell_type": "code",
   "execution_count": null,
   "id": "2062f918",
   "metadata": {},
   "outputs": [],
   "source": [
    "rivers_name: Path = set_variable_file_path(\n",
    "    project_name, data_raw_folder, \"rivers\", rivers_type\n",
    ")\n",
    "\n",
    "print(rivers_name)"
   ]
  },
  {
   "cell_type": "code",
   "execution_count": null,
   "id": "8c0fa9c5-1dc1-4a43-bf77-8598391775be",
   "metadata": {},
   "outputs": [],
   "source": [
    "if rivers_source == \"gee\":\n",
    "    # Source\n",
    "    # https://gee-community-catalog.org/projects/osm_water/\n",
    "    osm_water = (\n",
    "        ee.ImageCollection(\"projects/sat-io/open-datasets/OSM_waterLayer\")\n",
    "        .filterBounds(aoi)\n",
    "        .mosaic()\n",
    "        .clip(aoi)\n",
    "    )\n",
    "    osm_rivers = osm_water.gte(2).unmask().clip(aoi).toByte()\n",
    "\n",
    "    if not Path(rivers_name).exists():\n",
    "        download_ee_image(\n",
    "            osm_rivers,\n",
    "            rivers_name,\n",
    "            scale=30,\n",
    "            crs=\"EPSG:4326\",\n",
    "            region=aoi_geom,\n",
    "            overwrite=True,\n",
    "            unmask_value=255,\n",
    "            nodata_value=255,\n",
    "        )\n",
    "    else:\n",
    "        print(f\"{rivers_name} already exists. Skipping download.\")\n",
    "\n",
    "else:\n",
    "    # Local\n",
    "    rivers_path: Path = \"\"\n",
    "    copy_and_rename_file(rivers_path, rivers_name)\n",
    "\n",
    "print(\"Done!\")\n"
   ]
  },
  {
   "cell_type": "markdown",
   "id": "c7018b01-c530-43bc-8314-aefa436399a8",
   "metadata": {},
   "source": [
    "## Roads"
   ]
  },
  {
   "cell_type": "code",
   "execution_count": null,
   "id": "e7ccbb35",
   "metadata": {},
   "outputs": [],
   "source": [
    "roads_source: SourceType = \"gee\"\n",
    "roads_type: VariableType = \"raster\"\n"
   ]
  },
  {
   "cell_type": "code",
   "execution_count": null,
   "id": "e744dbba",
   "metadata": {},
   "outputs": [],
   "source": [
    "roads_name: Path = set_variable_file_path(\n",
    "    project_name, data_raw_folder, \"roads\", roads_type\n",
    ")\n",
    "print(roads_name)\n"
   ]
  },
  {
   "cell_type": "code",
   "execution_count": null,
   "id": "7a05962c-c891-4b41-abaf-cfa212ef0462",
   "metadata": {},
   "outputs": [],
   "source": [
    "if roads_source == \"gee\":\n",
    "    osm_roads = (\n",
    "        ee.Image(\n",
    "            \"projects/ee-andyarnellgee/assets/crosscutting/infrastructure/roads_osm/roadsAllImageOSM\"\n",
    "        )\n",
    "        .unmask()\n",
    "        .clip(aoi)\n",
    "        .toByte()\n",
    "    )\n",
    "    if not Path(roads_name).exists():\n",
    "        download_ee_image(\n",
    "            osm_roads,\n",
    "            roads_name,\n",
    "            scale=30,\n",
    "            crs=\"EPSG:4326\",\n",
    "            region=aoi_geom,\n",
    "            overwrite=True,\n",
    "            unmask_value=255,\n",
    "            nodata_value=255,\n",
    "        )\n",
    "    else:\n",
    "        print(f\"{roads_name} already exists. Skipping download.\")\n",
    "\n",
    "else:\n",
    "    roads_path: Path = \"\"\n",
    "    copy_and_rename_file(roads_path, roads_name)\n",
    "\n",
    "print(\"Done!\")\n"
   ]
  },
  {
   "cell_type": "markdown",
   "id": "04c1e3c9-91fe-45ed-bce1-56c9a497ae85",
   "metadata": {},
   "source": [
    "## Towns"
   ]
  },
  {
   "cell_type": "code",
   "execution_count": null,
   "id": "08d16c3d",
   "metadata": {},
   "outputs": [],
   "source": [
    "towns_source: SourceType = \"gee\"\n",
    "towns_type: VariableType = \"raster\"\n"
   ]
  },
  {
   "cell_type": "code",
   "execution_count": null,
   "id": "4a9dc747-8486-488c-a900-62d7e0399076",
   "metadata": {},
   "outputs": [],
   "source": [
    "def closest_epoch(year):\n",
    "    # Define the list of epochs from 1975 to 2020 with 5-year intervals\n",
    "    epochs = list(range(1975, 2021, 5))\n",
    "\n",
    "    # Find the closest epoch to the given year\n",
    "    closest = min(epochs, key=lambda x: abs(x - year))\n",
    "\n",
    "    return closest\n",
    "\n",
    "\n",
    "# Apply the function to each year\n",
    "closest_epochs = [closest_epoch(y) for y in years]\n"
   ]
  },
  {
   "cell_type": "code",
   "execution_count": null,
   "id": "10039bfd",
   "metadata": {},
   "outputs": [],
   "source": [
    "if towns_source == \"gee\":\n",
    "    towns1_name: Path = set_variable_file_path(\n",
    "        project_name, data_raw_folder, \"towns_\" + str(closest_epochs[0]), towns_type\n",
    "    )\n",
    "    towns2_name: Path = set_variable_file_path(\n",
    "        project_name, data_raw_folder, \"towns_\" + str(closest_epochs[1]), towns_type\n",
    "    )\n",
    "    towns3_name: Path = set_variable_file_path(\n",
    "        project_name, data_raw_folder, \"towns_\" + str(closest_epochs[2]), towns_type\n",
    "    )\n",
    "elif towns_source == \"local\":\n",
    "    towns_name: Path = set_variable_file_path(\n",
    "        project_name, data_raw_folder, \"towns\", towns_type\n",
    "    )\n"
   ]
  },
  {
   "cell_type": "code",
   "execution_count": null,
   "id": "88a2bdeb-54a4-4186-9081-8b5b4b8707a6",
   "metadata": {},
   "outputs": [],
   "source": [
    "if towns_source == \"gee\":\n",
    "    jrc_ghsl_pop = ee.ImageCollection(\"JRC/GHSL/P2023A/GHS_POP\")\n",
    "\n",
    "    cities_pop_1 = ee.Image(\"JRC/GHSL/P2023A/GHS_POP/\" + str(closest_epochs[0]))\n",
    "    cities_pop_2 = ee.Image(\"JRC/GHSL/P2023A/GHS_POP/\" + str(closest_epochs[1]))\n",
    "    cities_pop_3 = ee.Image(\"JRC/GHSL/P2023A/GHS_POP/\" + str(closest_epochs[2]))\n",
    "\n",
    "    cities_build_1 = ee.Image(\n",
    "        \"JRC/GHSL/P2023A/GHS_BUILT_S/\" + str(closest_epochs[0])\n",
    "    ).select(\"built_surface\")\n",
    "    cities_build_2 = ee.Image(\n",
    "        \"JRC/GHSL/P2023A/GHS_BUILT_S/\" + str(closest_epochs[1])\n",
    "    ).select(\"built_surface\")\n",
    "    cities_build_3 = ee.Image(\n",
    "        \"JRC/GHSL/P2023A/GHS_BUILT_S/\" + str(closest_epochs[2])\n",
    "    ).select(\"built_surface\")\n",
    "\n",
    "    cities1 = (\n",
    "        ee.Image(0).where(cities_pop_1.gte(15).And(cities_build_1.gte(90)), 1).clip(aoi)\n",
    "    )\n",
    "    cities2 = (\n",
    "        ee.Image(0).where(cities_pop_2.gte(15).And(cities_build_2.gte(90)), 1).clip(aoi)\n",
    "    )\n",
    "    cities3 = (\n",
    "        ee.Image(0).where(cities_pop_3.gte(15).And(cities_build_3.gte(90)), 1).clip(aoi)\n",
    "    )\n",
    "    if not Path(towns1_name).exists():\n",
    "        download_ee_image(\n",
    "            cities_build_1,\n",
    "            towns1_name,\n",
    "            scale=30,\n",
    "            crs=\"EPSG:4326\",\n",
    "            region=aoi_geom,\n",
    "            overwrite=True,\n",
    "            unmask_value=255,\n",
    "            nodata_value=255,\n",
    "        )\n",
    "    else:\n",
    "        print(f\"{towns1_name} already exists. Skipping download.\")\n",
    "\n",
    "\n",
    "    if not Path(towns2_name).exists():\n",
    "        download_ee_image(\n",
    "            cities_build_2,\n",
    "            towns2_name,\n",
    "            scale=30,\n",
    "            crs=\"EPSG:4326\",\n",
    "            region=aoi_geom,\n",
    "            overwrite=True,\n",
    "            unmask_value=255,\n",
    "            nodata_value=255,\n",
    "        )\n",
    "    else:\n",
    "        print(f\"{towns2_name} already exists. Skipping download.\")\n",
    "    \n",
    "    if not Path(towns3_name).exists():\n",
    "        download_ee_image(\n",
    "            cities_build_3,\n",
    "            towns3_name,\n",
    "            scale=30,\n",
    "            crs=\"EPSG:4326\",\n",
    "            region=aoi_geom,\n",
    "            overwrite=True,\n",
    "            unmask_value=255,\n",
    "            nodata_value=255,\n",
    "        )\n",
    "    else:\n",
    "        print(f\"{towns3_name} already exists. Skipping download.\")\n",
    "\n",
    "    print(\"Done!\")"
   ]
  },
  {
   "cell_type": "code",
   "execution_count": null,
   "id": "933cfdac",
   "metadata": {},
   "outputs": [],
   "source": [
    "if towns_source == \"local\":\n",
    "    towns_path: Path = \"\"\n",
    "    copy_and_rename_file(towns_path, towns_name)\n",
    "    print(\"Done!\")\n"
   ]
  },
  {
   "cell_type": "code",
   "execution_count": null,
   "id": "b4ca50d8-c6f2-495f-a13a-52768e462a5d",
   "metadata": {},
   "outputs": [],
   "source": [
    "## Consider using Global Human Modification v3\n",
    "# https://gee-community-catalog.org/projects/ghm/?h=human\n",
    "\n",
    "## Oxford accessibility to cities 2015\n",
    "## ee.Image('Oxford/MAP/accessibility_to_cities_2015_v1_0')\n"
   ]
  },
  {
   "cell_type": "markdown",
   "id": "c176d90c",
   "metadata": {},
   "source": [
    "## Custom variable"
   ]
  },
  {
   "cell_type": "code",
   "execution_count": null,
   "id": "0c3ad34e",
   "metadata": {},
   "outputs": [],
   "source": [
    "custom_source: SourceType = \"gee\"\n",
    "\n",
    "# Define custom variables\n",
    "custom_gee_variables = [\n",
    "    {\n",
    "        \"asset_id\": \"your/custo/asset_id\",\n",
    "        \"name\": \"my_custom_variable_name\",\n",
    "        \"type\": \"raster\"\n",
    "    }, \n",
    "    {\n",
    "        \"asset_id\": \"your/custo/asset_id_2\",\n",
    "        \"name\": \"my_custom_variable_name_2\",\n",
    "        \"type\": \"raster\"\n",
    "    }, \n",
    "]\n",
    "\n",
    "# if it is local, define the path\n",
    "custom_local_variables = [\n",
    "    {\n",
    "        \"path\": \"path_to/custom/asset.tif\",\n",
    "        \"name\": \"my_custom_variable_name\",\n",
    "        \"type\": \"raster\"\n",
    "    },\n",
    "    {\n",
    "        \"path\": \"path_to/custom/asset.shp\",\n",
    "        \"name\": \"my_custom_variable_name\",\n",
    "        \"type\": \"vector\"\n",
    "    },  \n",
    "]"
   ]
  },
  {
   "cell_type": "code",
   "execution_count": null,
   "id": "5052efd3",
   "metadata": {},
   "outputs": [],
   "source": [
    "if custom_source == \"gee\":\n",
    "\n",
    "    for variable in custom_gee_variables:\n",
    "\n",
    "        custom_variable_name = variable[\"name\"]\n",
    "        custom_type = variable[\"type\"]\n",
    "\n",
    "        custom_name: Path = set_variable_file_path(\n",
    "            project_name, data_raw_folder, custom_variable_name, custom_type\n",
    "        )\n",
    "        print(custom_name)\n",
    "\n",
    "        custom_gee_id = variable[\"asset_id\"]\n",
    "        custom_image = ee.Image(custom_gee_id).clip(aoi_geom)\n",
    "\n",
    "        if not Path(custom_name).exists():\n",
    "            download_ee_image(\n",
    "                custom_image,\n",
    "                custom_name,\n",
    "                scale=30,\n",
    "                crs=\"EPSG:4326\",\n",
    "                region=aoi_geom,\n",
    "                overwrite=True,\n",
    "                unmask_value=255,\n",
    "                nodata_value=255,\n",
    "            )\n",
    "        else:\n",
    "            print(f\"{custom_name} already exists. Skipping download.\")\n",
    "\n"
   ]
  },
  {
   "cell_type": "code",
   "execution_count": null,
   "id": "f6d03030",
   "metadata": {},
   "outputs": [],
   "source": [
    "if custom_source == \"local\":\n",
    "    for variable in custom_local_variables:\n",
    "        custom_name = variable[\"name\"]\n",
    "        custom_path: Path = variable[\"path\"]\n",
    "        print(custom_path)\n",
    "        copy_and_rename_file(custom_path, custom_name)\n",
    "\n"
   ]
  },
  {
   "cell_type": "markdown",
   "id": "ce4d6150",
   "metadata": {},
   "source": [
    "## Save parameters\n"
   ]
  },
  {
   "cell_type": "code",
   "execution_count": null,
   "id": "1198222d-65d8-4994-9ed2-dd11fc1313ab",
   "metadata": {},
   "outputs": [],
   "source": [
    "# def save_selected_keys_to_txt(self, keys_to_save: list, filename: str):\n",
    "#         \"\"\"Saves selected keys of a dictionary to a text file in 'key= value' format.\n",
    "#         If a key contains a dictionary, its contents are written as separate key-value pairs.\"\"\"\n",
    "#         nfile = self.args[\"workdir\"] + '/' + filename\n",
    "#         print(nfile)\n",
    "\n",
    "#         with open(nfile, \"w\") as file:\n",
    "#             for key in keys_to_save:\n",
    "#                 if key in self.args:  # Only write if key exists in the dictionary\n",
    "#                     value = self.args[key]\n",
    "#                     if isinstance(value, dict):  # If value is a dictionary, write its contents\n",
    "#                         for sub_key, sub_value in value.items():\n",
    "#                             file.write(f\"{sub_key}= {sub_value}\\n\")\n",
    "#                     else:\n",
    "#                         file.write(f\"{key}= {value}\\n\")\n"
   ]
  },
  {
   "cell_type": "code",
   "execution_count": null,
   "id": "41fbc06c-fe34-4d69-9415-b1950259eb51",
   "metadata": {},
   "outputs": [],
   "source": [
    "# save_selected_keys_to_txt(['get_fcc_args','isocode', 'proj'], 'parameters.txt')\n"
   ]
  }
 ],
 "metadata": {
  "kernelspec": {
   "display_name": "deforisk-jupyter-nb",
   "language": "python",
   "name": "python3"
  },
  "language_info": {
   "codemirror_mode": {
    "name": "ipython",
    "version": 3
   },
   "file_extension": ".py",
   "mimetype": "text/x-python",
   "name": "python",
   "nbconvert_exporter": "python",
   "pygments_lexer": "ipython3",
   "version": "3.11.10"
  }
 },
 "nbformat": 4,
 "nbformat_minor": 5
}
