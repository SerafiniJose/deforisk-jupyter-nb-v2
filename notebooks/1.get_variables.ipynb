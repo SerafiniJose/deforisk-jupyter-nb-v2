{
 "cells": [
  {
   "cell_type": "code",
   "execution_count": 1,
   "id": "cc26eb99",
   "metadata": {},
   "outputs": [],
   "source": [
    "%load_ext autoreload\n",
    "%autoreload 2\n"
   ]
  },
  {
   "cell_type": "markdown",
   "id": "cf26cd17-8760-48a6-af28-443120cfb72a",
   "metadata": {},
   "source": [
    "## Libraries"
   ]
  },
  {
   "cell_type": "code",
   "execution_count": 2,
   "id": "cc3452c7-76ba-49cd-bc57-c62c0e141ebd",
   "metadata": {},
   "outputs": [],
   "source": [
    "import ee\n",
    "import geemap\n",
    "from typing import Literal\n"
   ]
  },
  {
   "cell_type": "code",
   "execution_count": 3,
   "id": "2691616b",
   "metadata": {},
   "outputs": [
    {
     "data": {
      "text/html": [
       "\n",
       "            <style>\n",
       "                .geemap-dark {\n",
       "                    --jp-widgets-color: white;\n",
       "                    --jp-widgets-label-color: white;\n",
       "                    --jp-ui-font-color1: white;\n",
       "                    --jp-layout-color2: #454545;\n",
       "                    background-color: #383838;\n",
       "                }\n",
       "\n",
       "                .geemap-dark .jupyter-button {\n",
       "                    --jp-layout-color3: #383838;\n",
       "                }\n",
       "\n",
       "                .geemap-colab {\n",
       "                    background-color: var(--colab-primary-surface-color, white);\n",
       "                }\n",
       "\n",
       "                .geemap-colab .jupyter-button {\n",
       "                    --jp-layout-color3: var(--colab-primary-surface-color, white);\n",
       "                }\n",
       "            </style>\n",
       "            "
      ],
      "text/plain": [
       "<IPython.core.display.HTML object>"
      ]
     },
     "metadata": {},
     "output_type": "display_data"
    }
   ],
   "source": [
    "# Add root to path\n",
    "import sys\n",
    "\n",
    "sys.path.append(\"..\")\n",
    "from component.script.gee.ee_fao_gaul import (\n",
    "    get_fao_gaul_features,\n",
    "    get_fao_gaul_subj,\n",
    ")\n",
    "from component.script.gee.ee_rasterize_unique_values import gee_rasterize_unique_values\n",
    "from component.script.gee.ee_raster_export import download_ee_image\n"
   ]
  },
  {
   "cell_type": "code",
   "execution_count": 4,
   "id": "75fc09be",
   "metadata": {},
   "outputs": [
    {
     "data": {
      "text/html": [
       "\n",
       "            <style>\n",
       "                .geemap-dark {\n",
       "                    --jp-widgets-color: white;\n",
       "                    --jp-widgets-label-color: white;\n",
       "                    --jp-ui-font-color1: white;\n",
       "                    --jp-layout-color2: #454545;\n",
       "                    background-color: #383838;\n",
       "                }\n",
       "\n",
       "                .geemap-dark .jupyter-button {\n",
       "                    --jp-layout-color3: #383838;\n",
       "                }\n",
       "\n",
       "                .geemap-colab {\n",
       "                    background-color: var(--colab-primary-surface-color, white);\n",
       "                }\n",
       "\n",
       "                .geemap-colab .jupyter-button {\n",
       "                    --jp-layout-color3: var(--colab-primary-surface-color, white);\n",
       "                }\n",
       "            </style>\n",
       "            "
      ],
      "text/plain": [
       "<IPython.core.display.HTML object>"
      ]
     },
     "metadata": {},
     "output_type": "display_data"
    }
   ],
   "source": [
    "SourceType = Literal[\"local\", \"gee\"]\n",
    "VariableType = Literal[\"vector\", \"raster\"]\n"
   ]
  },
  {
   "cell_type": "markdown",
   "id": "f06beee3",
   "metadata": {},
   "source": [
    "## GEE\n"
   ]
  },
  {
   "cell_type": "code",
   "execution_count": 5,
   "id": "38087c11",
   "metadata": {},
   "outputs": [
    {
     "data": {
      "text/html": [
       "\n",
       "            <style>\n",
       "                .geemap-dark {\n",
       "                    --jp-widgets-color: white;\n",
       "                    --jp-widgets-label-color: white;\n",
       "                    --jp-ui-font-color1: white;\n",
       "                    --jp-layout-color2: #454545;\n",
       "                    background-color: #383838;\n",
       "                }\n",
       "\n",
       "                .geemap-dark .jupyter-button {\n",
       "                    --jp-layout-color3: #383838;\n",
       "                }\n",
       "\n",
       "                .geemap-colab {\n",
       "                    background-color: var(--colab-primary-surface-color, white);\n",
       "                }\n",
       "\n",
       "                .geemap-colab .jupyter-button {\n",
       "                    --jp-layout-color3: var(--colab-primary-surface-color, white);\n",
       "                }\n",
       "            </style>\n",
       "            "
      ],
      "text/plain": [
       "<IPython.core.display.HTML object>"
      ]
     },
     "metadata": {},
     "output_type": "display_data"
    }
   ],
   "source": [
    "ee_project = \"ee-joseserafini-fao\"\n",
    "ee.Initialize(project=ee_project)\n"
   ]
  },
  {
   "cell_type": "markdown",
   "id": "26cfd777-cfaf-466b-b9f5-b5ac3af9e2b0",
   "metadata": {},
   "source": [
    "## Create folders"
   ]
  },
  {
   "cell_type": "code",
   "execution_count": 6,
   "id": "f5411d94-a9c1-4199-9737-210221ea2110",
   "metadata": {},
   "outputs": [
    {
     "data": {
      "text/html": [
       "\n",
       "            <style>\n",
       "                .geemap-dark {\n",
       "                    --jp-widgets-color: white;\n",
       "                    --jp-widgets-label-color: white;\n",
       "                    --jp-ui-font-color1: white;\n",
       "                    --jp-layout-color2: #454545;\n",
       "                    background-color: #383838;\n",
       "                }\n",
       "\n",
       "                .geemap-dark .jupyter-button {\n",
       "                    --jp-layout-color3: #383838;\n",
       "                }\n",
       "\n",
       "                .geemap-colab {\n",
       "                    background-color: var(--colab-primary-surface-color, white);\n",
       "                }\n",
       "\n",
       "                .geemap-colab .jupyter-button {\n",
       "                    --jp-layout-color3: var(--colab-primary-surface-color, white);\n",
       "                }\n",
       "            </style>\n",
       "            "
      ],
      "text/plain": [
       "<IPython.core.display.HTML object>"
      ]
     },
     "metadata": {},
     "output_type": "display_data"
    }
   ],
   "source": [
    "from pathlib import Path\n",
    "\n",
    "root_folder: Path = Path.cwd().parent\n",
    "downloads_folder: Path = root_folder / \"data\"\n",
    "downloads_folder.mkdir(parents=True, exist_ok=True)\n"
   ]
  },
  {
   "cell_type": "markdown",
   "id": "a1ecc7ea-4667-428c-b5c5-491a9189f115",
   "metadata": {},
   "source": [
    "## Set user parameters"
   ]
  },
  {
   "cell_type": "code",
   "execution_count": 7,
   "id": "b7a99cde",
   "metadata": {},
   "outputs": [
    {
     "data": {
      "text/html": [
       "\n",
       "            <style>\n",
       "                .geemap-dark {\n",
       "                    --jp-widgets-color: white;\n",
       "                    --jp-widgets-label-color: white;\n",
       "                    --jp-ui-font-color1: white;\n",
       "                    --jp-layout-color2: #454545;\n",
       "                    background-color: #383838;\n",
       "                }\n",
       "\n",
       "                .geemap-dark .jupyter-button {\n",
       "                    --jp-layout-color3: #383838;\n",
       "                }\n",
       "\n",
       "                .geemap-colab {\n",
       "                    background-color: var(--colab-primary-surface-color, white);\n",
       "                }\n",
       "\n",
       "                .geemap-colab .jupyter-button {\n",
       "                    --jp-layout-color3: var(--colab-primary-surface-color, white);\n",
       "                }\n",
       "            </style>\n",
       "            "
      ],
      "text/plain": [
       "<IPython.core.display.HTML object>"
      ]
     },
     "metadata": {},
     "output_type": "display_data"
    }
   ],
   "source": [
    "project_name = \"test\"\n",
    "years: list[int] = [2015, 2020, 2024]\n",
    "forest_source: Literal[\"gfc\", \"tmf\"] = \"gfc\"\n",
    "tree_cover_threshold: int = 10\n"
   ]
  },
  {
   "cell_type": "markdown",
   "id": "6a1d9f93-75d6-49da-8880-8c99bd49c1b0",
   "metadata": {},
   "source": [
    "## Create projects folders"
   ]
  },
  {
   "cell_type": "code",
   "execution_count": 8,
   "id": "f155727e-5ce8-4e84-848e-5963ec15ce19",
   "metadata": {},
   "outputs": [
    {
     "data": {
      "text/html": [
       "\n",
       "            <style>\n",
       "                .geemap-dark {\n",
       "                    --jp-widgets-color: white;\n",
       "                    --jp-widgets-label-color: white;\n",
       "                    --jp-ui-font-color1: white;\n",
       "                    --jp-layout-color2: #454545;\n",
       "                    background-color: #383838;\n",
       "                }\n",
       "\n",
       "                .geemap-dark .jupyter-button {\n",
       "                    --jp-layout-color3: #383838;\n",
       "                }\n",
       "\n",
       "                .geemap-colab {\n",
       "                    background-color: var(--colab-primary-surface-color, white);\n",
       "                }\n",
       "\n",
       "                .geemap-colab .jupyter-button {\n",
       "                    --jp-layout-color3: var(--colab-primary-surface-color, white);\n",
       "                }\n",
       "            </style>\n",
       "            "
      ],
      "text/plain": [
       "<IPython.core.display.HTML object>"
      ]
     },
     "metadata": {},
     "output_type": "display_data"
    }
   ],
   "source": [
    "project_folder = downloads_folder / project_name\n",
    "project_folder.mkdir(parents=True, exist_ok=True)\n",
    "\n",
    "data_raw_folder = project_folder / \"data_raw\"\n",
    "data_raw_folder.mkdir(parents=True, exist_ok=True)\n"
   ]
  },
  {
   "cell_type": "markdown",
   "id": "e6682890",
   "metadata": {},
   "source": [
    "## Helpers"
   ]
  },
  {
   "cell_type": "code",
   "execution_count": 9,
   "id": "08d2d247",
   "metadata": {},
   "outputs": [
    {
     "data": {
      "text/html": [
       "\n",
       "            <style>\n",
       "                .geemap-dark {\n",
       "                    --jp-widgets-color: white;\n",
       "                    --jp-widgets-label-color: white;\n",
       "                    --jp-ui-font-color1: white;\n",
       "                    --jp-layout-color2: #454545;\n",
       "                    background-color: #383838;\n",
       "                }\n",
       "\n",
       "                .geemap-dark .jupyter-button {\n",
       "                    --jp-layout-color3: #383838;\n",
       "                }\n",
       "\n",
       "                .geemap-colab {\n",
       "                    background-color: var(--colab-primary-surface-color, white);\n",
       "                }\n",
       "\n",
       "                .geemap-colab .jupyter-button {\n",
       "                    --jp-layout-color3: var(--colab-primary-surface-color, white);\n",
       "                }\n",
       "            </style>\n",
       "            "
      ],
      "text/plain": [
       "<IPython.core.display.HTML object>"
      ]
     },
     "metadata": {},
     "output_type": "display_data"
    }
   ],
   "source": [
    "from pathlib import Path\n",
    "\n",
    "\n",
    "def set_variable_file_path(\n",
    "    project_name: str, data_raw_folder: str, variable_name: str, variable_type: str\n",
    ") -> Path:\n",
    "    \"\"\"\n",
    "    Determine the file extension based on variable type and return the full file path.\n",
    "\n",
    "    Args:\n",
    "        project_name (str): The name of the project.\n",
    "        data_raw_folder (str): The path to the data raw folder.\n",
    "        variable_type (str): The type of the variable (\"vector\" or \"raster\").\n",
    "        data_raw_folder (str): The path to the data raw folder.\n",
    "        variable_name (str): The name of the variable.\n",
    "\n",
    "    Returns:\n",
    "        Path: The full file path with the appropriate extension.\n",
    "\n",
    "    Raises:\n",
    "        ValueError: If an unsupported variable type is provided.\n",
    "    \"\"\"\n",
    "    # Define supported extensions\n",
    "    extensions = {\"vector\": \".shp\", \"raster\": \".tif\"}\n",
    "\n",
    "    # Validate variable type and get the corresponding extension\n",
    "    if variable_type not in extensions:\n",
    "        raise ValueError(\n",
    "            f\"Unsupported variable type: {variable_type}. Supported types are: {list(extensions.keys())}\"\n",
    "        )\n",
    "\n",
    "    variable_extension = extensions[variable_type]\n",
    "\n",
    "    # Create and return the full file path\n",
    "    return Path(data_raw_folder) / f\"{project_name}_{variable_name}{variable_extension}\"\n"
   ]
  },
  {
   "cell_type": "code",
   "execution_count": 10,
   "id": "e2a503b6",
   "metadata": {},
   "outputs": [
    {
     "data": {
      "text/html": [
       "\n",
       "            <style>\n",
       "                .geemap-dark {\n",
       "                    --jp-widgets-color: white;\n",
       "                    --jp-widgets-label-color: white;\n",
       "                    --jp-ui-font-color1: white;\n",
       "                    --jp-layout-color2: #454545;\n",
       "                    background-color: #383838;\n",
       "                }\n",
       "\n",
       "                .geemap-dark .jupyter-button {\n",
       "                    --jp-layout-color3: #383838;\n",
       "                }\n",
       "\n",
       "                .geemap-colab {\n",
       "                    background-color: var(--colab-primary-surface-color, white);\n",
       "                }\n",
       "\n",
       "                .geemap-colab .jupyter-button {\n",
       "                    --jp-layout-color3: var(--colab-primary-surface-color, white);\n",
       "                }\n",
       "            </style>\n",
       "            "
      ],
      "text/plain": [
       "<IPython.core.display.HTML object>"
      ]
     },
     "metadata": {},
     "output_type": "display_data"
    }
   ],
   "source": [
    "from pathlib import Path\n",
    "import shutil\n",
    "from typing import Union\n",
    "\n",
    "\n",
    "def copy_and_rename_file(\n",
    "    file_path: Union[str, Path], destination_path: Union[str, Path]\n",
    ") -> Path:\n",
    "    \"\"\"\n",
    "    Copy a file to a designated location and rename it. If the source is a shapefile (.shp),\n",
    "    also copies all corresponding auxiliary files.\n",
    "\n",
    "    Args:\n",
    "        file_path (Union[str, Path]): The path to the source file to be copied.\n",
    "        destination_path (Union[str, Path]): The full path including folder and new filename for the copied file.\n",
    "\n",
    "    Returns:\n",
    "        Path: The path to the newly copied file.\n",
    "\n",
    "    Raises:\n",
    "        FileNotFoundError: If the source file does not exist.\n",
    "        PermissionError: If there are insufficient permissions to read the source file or write to destination.\n",
    "\n",
    "    Example:\n",
    "        >>> copy_and_rename_file('/path/to/source/file.shp', '/path/to/destination/renamed_file.shp')\n",
    "        PosixPath('/path/to/destination/renamed_file.shp')\n",
    "    \"\"\"\n",
    "    # Convert to Path objects\n",
    "    source_file = Path(file_path)\n",
    "    new_file_path = Path(destination_path)\n",
    "\n",
    "    # Validate that source file exists\n",
    "    if not source_file.exists():\n",
    "        raise FileNotFoundError(f\"Source file '{source_file}' does not exist.\")\n",
    "\n",
    "    # Ensure the destination directory exists\n",
    "    new_file_path.parent.mkdir(parents=True, exist_ok=True)\n",
    "\n",
    "    # Copy the main file to the destination with a new name\n",
    "    shutil.copy2(source_file, new_file_path)\n",
    "\n",
    "    # If source is a shapefile (.shp), also copy auxiliary files\n",
    "    if source_file.suffix.lower() == \".shp\":\n",
    "        # Use pathlib to construct the glob pattern and iterate over auxiliary files\n",
    "        aux_files = list(source_file.parent.glob(f\"{source_file.stem}.*\"))\n",
    "        # print(f\"Found {len(aux_files)} auxiliary files: {aux_files}\")\n",
    "        for aux_file in aux_files:\n",
    "            new_aux_filename = f\"{new_file_path.stem}{aux_file.suffix}\"\n",
    "            new_aux_path = new_file_path.parent / new_aux_filename\n",
    "            shutil.copy2(aux_file, new_aux_path)\n",
    "            print(f\"Auxiliary file copied to {new_aux_path}\")\n",
    "\n",
    "    # print(f\"File copied to {new_file_path}\")\n",
    "    return new_file_path\n"
   ]
  },
  {
   "cell_type": "markdown",
   "id": "f7314b09-444a-46f0-9ae2-899c221adf8b",
   "metadata": {},
   "source": [
    "## AOI"
   ]
  },
  {
   "cell_type": "code",
   "execution_count": 11,
   "id": "4da494b2",
   "metadata": {},
   "outputs": [
    {
     "data": {
      "text/html": [
       "\n",
       "            <style>\n",
       "                .geemap-dark {\n",
       "                    --jp-widgets-color: white;\n",
       "                    --jp-widgets-label-color: white;\n",
       "                    --jp-ui-font-color1: white;\n",
       "                    --jp-layout-color2: #454545;\n",
       "                    background-color: #383838;\n",
       "                }\n",
       "\n",
       "                .geemap-dark .jupyter-button {\n",
       "                    --jp-layout-color3: #383838;\n",
       "                }\n",
       "\n",
       "                .geemap-colab {\n",
       "                    background-color: var(--colab-primary-surface-color, white);\n",
       "                }\n",
       "\n",
       "                .geemap-colab .jupyter-button {\n",
       "                    --jp-layout-color3: var(--colab-primary-surface-color, white);\n",
       "                }\n",
       "            </style>\n",
       "            "
      ],
      "text/plain": [
       "<IPython.core.display.HTML object>"
      ]
     },
     "metadata": {},
     "output_type": "display_data"
    }
   ],
   "source": [
    "aoi_source: SourceType = \"local\"\n",
    "aoi_type: VariableType = \"vector\"\n",
    "aoi_path: Path = \"/home/jose/workspace/deforisk-jupyter-nb-v2/data/capas_crudo/Limite_SabanasYari/NAD_sabanasYari.shp\"\n"
   ]
  },
  {
   "cell_type": "code",
   "execution_count": 12,
   "id": "36a9bd0b",
   "metadata": {},
   "outputs": [
    {
     "data": {
      "text/html": [
       "\n",
       "            <style>\n",
       "                .geemap-dark {\n",
       "                    --jp-widgets-color: white;\n",
       "                    --jp-widgets-label-color: white;\n",
       "                    --jp-ui-font-color1: white;\n",
       "                    --jp-layout-color2: #454545;\n",
       "                    background-color: #383838;\n",
       "                }\n",
       "\n",
       "                .geemap-dark .jupyter-button {\n",
       "                    --jp-layout-color3: #383838;\n",
       "                }\n",
       "\n",
       "                .geemap-colab {\n",
       "                    background-color: var(--colab-primary-surface-color, white);\n",
       "                }\n",
       "\n",
       "                .geemap-colab .jupyter-button {\n",
       "                    --jp-layout-color3: var(--colab-primary-surface-color, white);\n",
       "                }\n",
       "            </style>\n",
       "            "
      ],
      "text/plain": [
       "<IPython.core.display.HTML object>"
      ]
     },
     "metadata": {},
     "output_type": "display_data"
    },
    {
     "name": "stdout",
     "output_type": "stream",
     "text": [
      "/home/jose/workspace/deforisk-jupyter-nb-v2/data/test/data_raw/test_aoi.shp\n"
     ]
    }
   ],
   "source": [
    "aoi_name: Path = set_variable_file_path(project_name, data_raw_folder, \"aoi\", aoi_type)\n",
    "print(aoi_name)\n"
   ]
  },
  {
   "cell_type": "code",
   "execution_count": 13,
   "id": "2f939bc0",
   "metadata": {},
   "outputs": [
    {
     "data": {
      "text/html": [
       "\n",
       "            <style>\n",
       "                .geemap-dark {\n",
       "                    --jp-widgets-color: white;\n",
       "                    --jp-widgets-label-color: white;\n",
       "                    --jp-ui-font-color1: white;\n",
       "                    --jp-layout-color2: #454545;\n",
       "                    background-color: #383838;\n",
       "                }\n",
       "\n",
       "                .geemap-dark .jupyter-button {\n",
       "                    --jp-layout-color3: #383838;\n",
       "                }\n",
       "\n",
       "                .geemap-colab {\n",
       "                    background-color: var(--colab-primary-surface-color, white);\n",
       "                }\n",
       "\n",
       "                .geemap-colab .jupyter-button {\n",
       "                    --jp-layout-color3: var(--colab-primary-surface-color, white);\n",
       "                }\n",
       "            </style>\n",
       "            "
      ],
      "text/plain": [
       "<IPython.core.display.HTML object>"
      ]
     },
     "metadata": {},
     "output_type": "display_data"
    },
    {
     "name": "stdout",
     "output_type": "stream",
     "text": [
      "Auxiliary file copied to /home/jose/workspace/deforisk-jupyter-nb-v2/data/test/data_raw/test_aoi.sbn\n",
      "Auxiliary file copied to /home/jose/workspace/deforisk-jupyter-nb-v2/data/test/data_raw/test_aoi.sbx\n",
      "Auxiliary file copied to /home/jose/workspace/deforisk-jupyter-nb-v2/data/test/data_raw/test_aoi.prj\n",
      "Auxiliary file copied to /home/jose/workspace/deforisk-jupyter-nb-v2/data/test/data_raw/test_aoi.cpg\n",
      "Auxiliary file copied to /home/jose/workspace/deforisk-jupyter-nb-v2/data/test/data_raw/test_aoi.shp\n",
      "Auxiliary file copied to /home/jose/workspace/deforisk-jupyter-nb-v2/data/test/data_raw/test_aoi.dbf\n",
      "Auxiliary file copied to /home/jose/workspace/deforisk-jupyter-nb-v2/data/test/data_raw/test_aoi.shx\n",
      "Done!\n"
     ]
    }
   ],
   "source": [
    "if aoi_source == \"gee\":\n",
    "    iso_code = \"MTQ\"\n",
    "\n",
    "    ##Define AOI using a GEE featureCollecion\n",
    "    # aoi_id = \"str\"\n",
    "    # aoi = ee.FeatureCollection(aoi_id)\n",
    "\n",
    "    ##Define AOI using a FAO Gaul Object\n",
    "    aoi = get_fao_gaul_features(level=0, code=iso_code)\n",
    "\n",
    "    if not Path(aoi_name).exists():\n",
    "        geemap.ee_export_vector(\n",
    "            aoi,\n",
    "            aoi_name,\n",
    "            selectors=[\"gaul0_name\", \"iso3_code\"],\n",
    "            keep_zip=False,\n",
    "            timeout=600,\n",
    "            verbose=False,\n",
    "        )\n",
    "\n",
    "if aoi_source == \"local\":\n",
    "    copy_and_rename_file(aoi_path, aoi_name)\n",
    "    aoi = geemap.shp_to_ee(aoi_path)\n",
    "\n",
    "aoi_geom = aoi.geometry()\n",
    "aoi_geometry_json = aoi_geom.serialize()\n",
    "\n",
    "print(\"Done!\")\n"
   ]
  },
  {
   "cell_type": "markdown",
   "id": "8e045547",
   "metadata": {},
   "source": [
    "## SubJuridistion"
   ]
  },
  {
   "cell_type": "code",
   "execution_count": 14,
   "id": "ca1d8ca2",
   "metadata": {},
   "outputs": [
    {
     "data": {
      "text/html": [
       "\n",
       "            <style>\n",
       "                .geemap-dark {\n",
       "                    --jp-widgets-color: white;\n",
       "                    --jp-widgets-label-color: white;\n",
       "                    --jp-ui-font-color1: white;\n",
       "                    --jp-layout-color2: #454545;\n",
       "                    background-color: #383838;\n",
       "                }\n",
       "\n",
       "                .geemap-dark .jupyter-button {\n",
       "                    --jp-layout-color3: #383838;\n",
       "                }\n",
       "\n",
       "                .geemap-colab {\n",
       "                    background-color: var(--colab-primary-surface-color, white);\n",
       "                }\n",
       "\n",
       "                .geemap-colab .jupyter-button {\n",
       "                    --jp-layout-color3: var(--colab-primary-surface-color, white);\n",
       "                }\n",
       "            </style>\n",
       "            "
      ],
      "text/plain": [
       "<IPython.core.display.HTML object>"
      ]
     },
     "metadata": {},
     "output_type": "display_data"
    }
   ],
   "source": [
    "subj_source: SourceType = \"gee\"\n",
    "subj_type: VariableType = \"raster\"\n",
    "subj_path: Path = \"\"\n"
   ]
  },
  {
   "cell_type": "code",
   "execution_count": 15,
   "id": "1815d688",
   "metadata": {},
   "outputs": [
    {
     "data": {
      "text/html": [
       "\n",
       "            <style>\n",
       "                .geemap-dark {\n",
       "                    --jp-widgets-color: white;\n",
       "                    --jp-widgets-label-color: white;\n",
       "                    --jp-ui-font-color1: white;\n",
       "                    --jp-layout-color2: #454545;\n",
       "                    background-color: #383838;\n",
       "                }\n",
       "\n",
       "                .geemap-dark .jupyter-button {\n",
       "                    --jp-layout-color3: #383838;\n",
       "                }\n",
       "\n",
       "                .geemap-colab {\n",
       "                    background-color: var(--colab-primary-surface-color, white);\n",
       "                }\n",
       "\n",
       "                .geemap-colab .jupyter-button {\n",
       "                    --jp-layout-color3: var(--colab-primary-surface-color, white);\n",
       "                }\n",
       "            </style>\n",
       "            "
      ],
      "text/plain": [
       "<IPython.core.display.HTML object>"
      ]
     },
     "metadata": {},
     "output_type": "display_data"
    },
    {
     "name": "stdout",
     "output_type": "stream",
     "text": [
      "/home/jose/workspace/deforisk-jupyter-nb-v2/data/test/data_raw/test_subj.tif\n"
     ]
    }
   ],
   "source": [
    "subj_name: Path = set_variable_file_path(\n",
    "    project_name, data_raw_folder, \"subj\", subj_type\n",
    ")\n",
    "print(subj_name)\n"
   ]
  },
  {
   "cell_type": "code",
   "execution_count": 16,
   "id": "d4100085",
   "metadata": {},
   "outputs": [
    {
     "data": {
      "text/html": [
       "\n",
       "            <style>\n",
       "                .geemap-dark {\n",
       "                    --jp-widgets-color: white;\n",
       "                    --jp-widgets-label-color: white;\n",
       "                    --jp-ui-font-color1: white;\n",
       "                    --jp-layout-color2: #454545;\n",
       "                    background-color: #383838;\n",
       "                }\n",
       "\n",
       "                .geemap-dark .jupyter-button {\n",
       "                    --jp-layout-color3: #383838;\n",
       "                }\n",
       "\n",
       "                .geemap-colab {\n",
       "                    background-color: var(--colab-primary-surface-color, white);\n",
       "                }\n",
       "\n",
       "                .geemap-colab .jupyter-button {\n",
       "                    --jp-layout-color3: var(--colab-primary-surface-color, white);\n",
       "                }\n",
       "            </style>\n",
       "            "
      ],
      "text/plain": [
       "<IPython.core.display.HTML object>"
      ]
     },
     "metadata": {},
     "output_type": "display_data"
    },
    {
     "data": {
      "application/vnd.jupyter.widget-view+json": {
       "model_id": "f942b71dba93443e948a53f1145f96f9",
       "version_major": 2,
       "version_minor": 0
      },
      "text/plain": [
       "  0%|          |0/32 tiles [00:00<?]"
      ]
     },
     "metadata": {},
     "output_type": "display_data"
    },
    {
     "name": "stdout",
     "output_type": "stream",
     "text": [
      "File /home/jose/workspace/deforisk-jupyter-nb-v2/data/test/data_raw/test_subj.tif, downloaded\n"
     ]
    },
    {
     "name": "stderr",
     "output_type": "stream",
     "text": [
      "/home/jose/workspace/deforisk-jupyter-nb-v2/.venv/lib/python3.11/site-packages/geedim/image.py:254: RuntimeWarning: Couldn't find STAC entry for: 'None'.\n",
      "  return STACClient().get(self.id)\n"
     ]
    }
   ],
   "source": [
    "if subj_source == \"gee\":\n",
    "    filtered_subj, filtered_attribute = get_fao_gaul_subj(2, aoi)\n",
    "    subj_image = (\n",
    "        ee.Image(gee_rasterize_unique_values(filtered_subj, \"gaul2_name\"))\n",
    "        .clip(aoi)\n",
    "        .toByte()\n",
    "    )\n",
    "    if not Path(subj_name).exists():\n",
    "        download_ee_image(\n",
    "            subj_image,\n",
    "            subj_name,\n",
    "            scale=30,\n",
    "            crs=\"EPSG:4326\",\n",
    "            region=aoi_geom,\n",
    "            overwrite=True,\n",
    "            unmask_value=255,\n",
    "            nodata_value=255,\n",
    "        )\n",
    "    else:\n",
    "        print(f\"{subj_name} already exists. Skipping download.\")\n",
    "\n",
    "if subj_source == \"local\":\n",
    "    copy_and_rename_file(subj_path, subj_name)\n"
   ]
  },
  {
   "cell_type": "markdown",
   "id": "a3ec0b2d-5bca-46b9-a028-f641b8425737",
   "metadata": {},
   "source": [
    "## Protected Areas"
   ]
  },
  {
   "cell_type": "code",
   "execution_count": 17,
   "id": "aa8cf94b",
   "metadata": {},
   "outputs": [
    {
     "data": {
      "text/html": [
       "\n",
       "            <style>\n",
       "                .geemap-dark {\n",
       "                    --jp-widgets-color: white;\n",
       "                    --jp-widgets-label-color: white;\n",
       "                    --jp-ui-font-color1: white;\n",
       "                    --jp-layout-color2: #454545;\n",
       "                    background-color: #383838;\n",
       "                }\n",
       "\n",
       "                .geemap-dark .jupyter-button {\n",
       "                    --jp-layout-color3: #383838;\n",
       "                }\n",
       "\n",
       "                .geemap-colab {\n",
       "                    background-color: var(--colab-primary-surface-color, white);\n",
       "                }\n",
       "\n",
       "                .geemap-colab .jupyter-button {\n",
       "                    --jp-layout-color3: var(--colab-primary-surface-color, white);\n",
       "                }\n",
       "            </style>\n",
       "            "
      ],
      "text/plain": [
       "<IPython.core.display.HTML object>"
      ]
     },
     "metadata": {},
     "output_type": "display_data"
    }
   ],
   "source": [
    "pa_source: SourceType = \"gee\"\n",
    "pa_type: VariableType = \"raster\"\n",
    "pa_path: Path = \"\"\n"
   ]
  },
  {
   "cell_type": "code",
   "execution_count": 18,
   "id": "839bddd3",
   "metadata": {},
   "outputs": [
    {
     "data": {
      "text/html": [
       "\n",
       "            <style>\n",
       "                .geemap-dark {\n",
       "                    --jp-widgets-color: white;\n",
       "                    --jp-widgets-label-color: white;\n",
       "                    --jp-ui-font-color1: white;\n",
       "                    --jp-layout-color2: #454545;\n",
       "                    background-color: #383838;\n",
       "                }\n",
       "\n",
       "                .geemap-dark .jupyter-button {\n",
       "                    --jp-layout-color3: #383838;\n",
       "                }\n",
       "\n",
       "                .geemap-colab {\n",
       "                    background-color: var(--colab-primary-surface-color, white);\n",
       "                }\n",
       "\n",
       "                .geemap-colab .jupyter-button {\n",
       "                    --jp-layout-color3: var(--colab-primary-surface-color, white);\n",
       "                }\n",
       "            </style>\n",
       "            "
      ],
      "text/plain": [
       "<IPython.core.display.HTML object>"
      ]
     },
     "metadata": {},
     "output_type": "display_data"
    },
    {
     "name": "stdout",
     "output_type": "stream",
     "text": [
      "/home/jose/workspace/deforisk-jupyter-nb-v2/data/test/data_raw/test_pa.tif\n"
     ]
    }
   ],
   "source": [
    "pa_name: Path = set_variable_file_path(project_name, data_raw_folder, \"pa\", pa_type)\n",
    "print(pa_name)\n"
   ]
  },
  {
   "cell_type": "code",
   "execution_count": 19,
   "id": "ea149ddb-d9a0-4ac8-826a-44138bc68f84",
   "metadata": {},
   "outputs": [
    {
     "data": {
      "text/html": [
       "\n",
       "            <style>\n",
       "                .geemap-dark {\n",
       "                    --jp-widgets-color: white;\n",
       "                    --jp-widgets-label-color: white;\n",
       "                    --jp-ui-font-color1: white;\n",
       "                    --jp-layout-color2: #454545;\n",
       "                    background-color: #383838;\n",
       "                }\n",
       "\n",
       "                .geemap-dark .jupyter-button {\n",
       "                    --jp-layout-color3: #383838;\n",
       "                }\n",
       "\n",
       "                .geemap-colab {\n",
       "                    background-color: var(--colab-primary-surface-color, white);\n",
       "                }\n",
       "\n",
       "                .geemap-colab .jupyter-button {\n",
       "                    --jp-layout-color3: var(--colab-primary-surface-color, white);\n",
       "                }\n",
       "            </style>\n",
       "            "
      ],
      "text/plain": [
       "<IPython.core.display.HTML object>"
      ]
     },
     "metadata": {},
     "output_type": "display_data"
    },
    {
     "data": {
      "application/vnd.jupyter.widget-view+json": {
       "model_id": "5daaf933268f4f9888124c9342641aa3",
       "version_major": 2,
       "version_minor": 0
      },
      "text/plain": [
       "  0%|          |0/32 tiles [00:00<?]"
      ]
     },
     "metadata": {},
     "output_type": "display_data"
    },
    {
     "name": "stdout",
     "output_type": "stream",
     "text": [
      "File /home/jose/workspace/deforisk-jupyter-nb-v2/data/test/data_raw/test_pa.tif, downloaded\n",
      "Done!\n"
     ]
    }
   ],
   "source": [
    "if pa_source == \"gee\":\n",
    "    # Source\n",
    "    # https://developers.google.com/earth-engine/datasets/catalog/WCMC_WDPA_current_polygons\n",
    "\n",
    "    wdpa_poly = (\n",
    "        ee.FeatureCollection(\"WCMC/WDPA/current/polygons\")\n",
    "        .filterBounds(aoi)\n",
    "        .filter(\n",
    "            ee.Filter.inList(\n",
    "                \"STATUS\", [\"Designated\", \"Inscribed\", \"Established\", \"Proposed\"]\n",
    "            )\n",
    "        )\n",
    "    )\n",
    "    wdpa_image = (\n",
    "        wdpa_poly.reduceToImage([\"WDPAID\"], ee.Reducer.first())\n",
    "        .gt(0)\n",
    "        .unmask()\n",
    "        .clip(aoi)\n",
    "        .toByte()\n",
    "    )\n",
    "    if not Path(pa_name).exists():\n",
    "        download_ee_image(\n",
    "            wdpa_image,\n",
    "            pa_name,\n",
    "            scale=30,\n",
    "            crs=\"EPSG:4326\",\n",
    "            region=aoi_geom,\n",
    "            overwrite=True,\n",
    "            unmask_value=255,\n",
    "            nodata_value=255,\n",
    "        )\n",
    "    else:\n",
    "        print(f\"{pa_name} already exists. Skipping download.\")\n",
    "\n",
    "if pa_source == \"local\":\n",
    "    copy_and_rename_file(pa_path, pa_name)\n",
    "\n",
    "print(\"Done!\")\n"
   ]
  },
  {
   "cell_type": "markdown",
   "id": "68279d18-1f48-4194-8401-2d1ef7776b8d",
   "metadata": {},
   "source": [
    "## Altitude and Slope"
   ]
  },
  {
   "cell_type": "code",
   "execution_count": 20,
   "id": "4b35b3b4",
   "metadata": {},
   "outputs": [
    {
     "data": {
      "text/html": [
       "\n",
       "            <style>\n",
       "                .geemap-dark {\n",
       "                    --jp-widgets-color: white;\n",
       "                    --jp-widgets-label-color: white;\n",
       "                    --jp-ui-font-color1: white;\n",
       "                    --jp-layout-color2: #454545;\n",
       "                    background-color: #383838;\n",
       "                }\n",
       "\n",
       "                .geemap-dark .jupyter-button {\n",
       "                    --jp-layout-color3: #383838;\n",
       "                }\n",
       "\n",
       "                .geemap-colab {\n",
       "                    background-color: var(--colab-primary-surface-color, white);\n",
       "                }\n",
       "\n",
       "                .geemap-colab .jupyter-button {\n",
       "                    --jp-layout-color3: var(--colab-primary-surface-color, white);\n",
       "                }\n",
       "            </style>\n",
       "            "
      ],
      "text/plain": [
       "<IPython.core.display.HTML object>"
      ]
     },
     "metadata": {},
     "output_type": "display_data"
    }
   ],
   "source": [
    "altitude_source: SourceType = \"gee\"\n",
    "altitude_type: VariableType = \"raster\"\n",
    "slope_source: SourceType = \"gee\"\n",
    "slope_type: VariableType = \"raster\"\n"
   ]
  },
  {
   "cell_type": "code",
   "execution_count": 21,
   "id": "2854bc27",
   "metadata": {},
   "outputs": [
    {
     "data": {
      "text/html": [
       "\n",
       "            <style>\n",
       "                .geemap-dark {\n",
       "                    --jp-widgets-color: white;\n",
       "                    --jp-widgets-label-color: white;\n",
       "                    --jp-ui-font-color1: white;\n",
       "                    --jp-layout-color2: #454545;\n",
       "                    background-color: #383838;\n",
       "                }\n",
       "\n",
       "                .geemap-dark .jupyter-button {\n",
       "                    --jp-layout-color3: #383838;\n",
       "                }\n",
       "\n",
       "                .geemap-colab {\n",
       "                    background-color: var(--colab-primary-surface-color, white);\n",
       "                }\n",
       "\n",
       "                .geemap-colab .jupyter-button {\n",
       "                    --jp-layout-color3: var(--colab-primary-surface-color, white);\n",
       "                }\n",
       "            </style>\n",
       "            "
      ],
      "text/plain": [
       "<IPython.core.display.HTML object>"
      ]
     },
     "metadata": {},
     "output_type": "display_data"
    },
    {
     "name": "stdout",
     "output_type": "stream",
     "text": [
      "/home/jose/workspace/deforisk-jupyter-nb-v2/data/test/data_raw/test_altitude.tif\n",
      "/home/jose/workspace/deforisk-jupyter-nb-v2/data/test/data_raw/test_slope.tif\n"
     ]
    }
   ],
   "source": [
    "altitude_name: Path = set_variable_file_path(\n",
    "    project_name, data_raw_folder, \"altitude\", altitude_type\n",
    ")\n",
    "print(altitude_name)\n",
    "slope_name: Path = set_variable_file_path(\n",
    "    project_name, data_raw_folder, \"slope\", slope_type\n",
    ")\n",
    "print(slope_name)\n"
   ]
  },
  {
   "cell_type": "code",
   "execution_count": 22,
   "id": "a7e42cbb",
   "metadata": {},
   "outputs": [
    {
     "data": {
      "text/html": [
       "\n",
       "            <style>\n",
       "                .geemap-dark {\n",
       "                    --jp-widgets-color: white;\n",
       "                    --jp-widgets-label-color: white;\n",
       "                    --jp-ui-font-color1: white;\n",
       "                    --jp-layout-color2: #454545;\n",
       "                    background-color: #383838;\n",
       "                }\n",
       "\n",
       "                .geemap-dark .jupyter-button {\n",
       "                    --jp-layout-color3: #383838;\n",
       "                }\n",
       "\n",
       "                .geemap-colab {\n",
       "                    background-color: var(--colab-primary-surface-color, white);\n",
       "                }\n",
       "\n",
       "                .geemap-colab .jupyter-button {\n",
       "                    --jp-layout-color3: var(--colab-primary-surface-color, white);\n",
       "                }\n",
       "            </style>\n",
       "            "
      ],
      "text/plain": [
       "<IPython.core.display.HTML object>"
      ]
     },
     "metadata": {},
     "output_type": "display_data"
    },
    {
     "data": {
      "application/vnd.jupyter.widget-view+json": {
       "model_id": "577e9815dfe54ac89a572af7cd172991",
       "version_major": 2,
       "version_minor": 0
      },
      "text/plain": [
       "USGS/SRTMGL1_003:   0%|          |0/32 tiles [00:00<?]"
      ]
     },
     "metadata": {},
     "output_type": "display_data"
    },
    {
     "name": "stdout",
     "output_type": "stream",
     "text": [
      "File /home/jose/workspace/deforisk-jupyter-nb-v2/data/test/data_raw/test_altitude.tif, downloaded\n"
     ]
    },
    {
     "data": {
      "application/vnd.jupyter.widget-view+json": {
       "model_id": "4cfa05b6f9dd43608f00aa1de7dd781e",
       "version_major": 2,
       "version_minor": 0
      },
      "text/plain": [
       "  0%|          |0/64 tiles [00:00<?]"
      ]
     },
     "metadata": {},
     "output_type": "display_data"
    },
    {
     "name": "stdout",
     "output_type": "stream",
     "text": [
      "File /home/jose/workspace/deforisk-jupyter-nb-v2/data/test/data_raw/test_slope.tif, downloaded\n",
      "Done!\n"
     ]
    }
   ],
   "source": [
    "if altitude_source == \"gee\":\n",
    "    srtm = ee.Image(\"USGS/SRTMGL1_003\").select(\"elevation\").clip(aoi)\n",
    "    if not Path(altitude_name).exists():\n",
    "        download_ee_image(\n",
    "            srtm,\n",
    "            altitude_name,\n",
    "            scale=30,\n",
    "            crs=\"EPSG:4326\",\n",
    "            region=aoi_geom,\n",
    "            overwrite=True,\n",
    "            nodata_value=None,\n",
    "        )\n",
    "    else:\n",
    "        print(f\"{altitude_name} already exists. Skipping download.\")\n",
    "\n",
    "else:\n",
    "    # Local\n",
    "    altitude_path: Path = \"\"\n",
    "    copy_and_rename_file(altitude_path, altitude_name)\n",
    "\n",
    "\n",
    "if slope_source == \"gee\":\n",
    "    slope = ee.Terrain.slope(srtm).clip(aoi)\n",
    "    if not Path(slope_name).exists():\n",
    "        download_ee_image(\n",
    "            slope,\n",
    "            slope_name,\n",
    "            scale=30,\n",
    "            crs=\"EPSG:4326\",\n",
    "            region=aoi_geom,\n",
    "            overwrite=True,\n",
    "            nodata_value=None,\n",
    "        )\n",
    "    else:\n",
    "        print(f\"{slope_name} already exists. Skipping download.\")\n",
    "\n",
    "else:\n",
    "    # Local\n",
    "    slope_path: Path = \"\"\n",
    "    copy_and_rename_file(slope_path, slope_name)\n",
    "\n",
    "print(\"Done!\")\n"
   ]
  },
  {
   "cell_type": "markdown",
   "id": "bd0e590f-d86d-4f84-8db5-a7debabaf85c",
   "metadata": {},
   "source": [
    "## Forest layers"
   ]
  },
  {
   "cell_type": "code",
   "execution_count": 23,
   "id": "852c88be",
   "metadata": {},
   "outputs": [
    {
     "data": {
      "text/html": [
       "\n",
       "            <style>\n",
       "                .geemap-dark {\n",
       "                    --jp-widgets-color: white;\n",
       "                    --jp-widgets-label-color: white;\n",
       "                    --jp-ui-font-color1: white;\n",
       "                    --jp-layout-color2: #454545;\n",
       "                    background-color: #383838;\n",
       "                }\n",
       "\n",
       "                .geemap-dark .jupyter-button {\n",
       "                    --jp-layout-color3: #383838;\n",
       "                }\n",
       "\n",
       "                .geemap-colab {\n",
       "                    background-color: var(--colab-primary-surface-color, white);\n",
       "                }\n",
       "\n",
       "                .geemap-colab .jupyter-button {\n",
       "                    --jp-layout-color3: var(--colab-primary-surface-color, white);\n",
       "                }\n",
       "            </style>\n",
       "            "
      ],
      "text/plain": [
       "<IPython.core.display.HTML object>"
      ]
     },
     "metadata": {},
     "output_type": "display_data"
    }
   ],
   "source": [
    "forest_source_primary: SourceType = \"gee\"\n",
    "forest_source_secondary = forest_source\n",
    "forest_type: VariableType = \"raster\"\n"
   ]
  },
  {
   "cell_type": "code",
   "execution_count": 24,
   "id": "c0364194",
   "metadata": {},
   "outputs": [
    {
     "data": {
      "text/html": [
       "\n",
       "            <style>\n",
       "                .geemap-dark {\n",
       "                    --jp-widgets-color: white;\n",
       "                    --jp-widgets-label-color: white;\n",
       "                    --jp-ui-font-color1: white;\n",
       "                    --jp-layout-color2: #454545;\n",
       "                    background-color: #383838;\n",
       "                }\n",
       "\n",
       "                .geemap-dark .jupyter-button {\n",
       "                    --jp-layout-color3: #383838;\n",
       "                }\n",
       "\n",
       "                .geemap-colab {\n",
       "                    background-color: var(--colab-primary-surface-color, white);\n",
       "                }\n",
       "\n",
       "                .geemap-colab .jupyter-button {\n",
       "                    --jp-layout-color3: var(--colab-primary-surface-color, white);\n",
       "                }\n",
       "            </style>\n",
       "            "
      ],
      "text/plain": [
       "<IPython.core.display.HTML object>"
      ]
     },
     "metadata": {},
     "output_type": "display_data"
    }
   ],
   "source": [
    "if forest_source_primary == \"gee\":\n",
    "    if forest_source_secondary == \"gfc\":\n",
    "        forest_var = (\n",
    "            \"forest_\" + forest_source_secondary + \"_\" + str(tree_cover_threshold) + \"_\"\n",
    "        )\n",
    "    elif forest_source_secondary == \"tmf\":\n",
    "        forest_var = \"forest_\" + forest_source_secondary + \"_\"\n",
    "elif forest_source_primary == \"local\":\n",
    "    forest_var = \"forest_\"\n"
   ]
  },
  {
   "cell_type": "code",
   "execution_count": 25,
   "id": "b2da27c1",
   "metadata": {},
   "outputs": [
    {
     "data": {
      "text/html": [
       "\n",
       "            <style>\n",
       "                .geemap-dark {\n",
       "                    --jp-widgets-color: white;\n",
       "                    --jp-widgets-label-color: white;\n",
       "                    --jp-ui-font-color1: white;\n",
       "                    --jp-layout-color2: #454545;\n",
       "                    background-color: #383838;\n",
       "                }\n",
       "\n",
       "                .geemap-dark .jupyter-button {\n",
       "                    --jp-layout-color3: #383838;\n",
       "                }\n",
       "\n",
       "                .geemap-colab {\n",
       "                    background-color: var(--colab-primary-surface-color, white);\n",
       "                }\n",
       "\n",
       "                .geemap-colab .jupyter-button {\n",
       "                    --jp-layout-color3: var(--colab-primary-surface-color, white);\n",
       "                }\n",
       "            </style>\n",
       "            "
      ],
      "text/plain": [
       "<IPython.core.display.HTML object>"
      ]
     },
     "metadata": {},
     "output_type": "display_data"
    },
    {
     "name": "stdout",
     "output_type": "stream",
     "text": [
      "/home/jose/workspace/deforisk-jupyter-nb-v2/data/test/data_raw/test_forest_gfc_10_2015.tif\n",
      "/home/jose/workspace/deforisk-jupyter-nb-v2/data/test/data_raw/test_forest_gfc_10_2020.tif\n",
      "/home/jose/workspace/deforisk-jupyter-nb-v2/data/test/data_raw/test_forest_gfc_10_2024.tif\n"
     ]
    }
   ],
   "source": [
    "forest1_name: Path = set_variable_file_path(\n",
    "    project_name, data_raw_folder, forest_var + str(years[0]), forest_type\n",
    ")\n",
    "forest2_name: Path = set_variable_file_path(\n",
    "    project_name, data_raw_folder, forest_var + str(years[1]), forest_type\n",
    ")\n",
    "forest3_name: Path = set_variable_file_path(\n",
    "    project_name, data_raw_folder, forest_var + str(years[2]), forest_type\n",
    ")\n",
    "\n",
    "print(forest1_name)\n",
    "print(forest2_name)\n",
    "print(forest3_name)\n"
   ]
  },
  {
   "cell_type": "code",
   "execution_count": 26,
   "id": "8f9449ca-6c54-4ef2-84cb-f809ec804900",
   "metadata": {},
   "outputs": [
    {
     "data": {
      "text/html": [
       "\n",
       "            <style>\n",
       "                .geemap-dark {\n",
       "                    --jp-widgets-color: white;\n",
       "                    --jp-widgets-label-color: white;\n",
       "                    --jp-ui-font-color1: white;\n",
       "                    --jp-layout-color2: #454545;\n",
       "                    background-color: #383838;\n",
       "                }\n",
       "\n",
       "                .geemap-dark .jupyter-button {\n",
       "                    --jp-layout-color3: #383838;\n",
       "                }\n",
       "\n",
       "                .geemap-colab {\n",
       "                    background-color: var(--colab-primary-surface-color, white);\n",
       "                }\n",
       "\n",
       "                .geemap-colab .jupyter-button {\n",
       "                    --jp-layout-color3: var(--colab-primary-surface-color, white);\n",
       "                }\n",
       "            </style>\n",
       "            "
      ],
      "text/plain": [
       "<IPython.core.display.HTML object>"
      ]
     },
     "metadata": {},
     "output_type": "display_data"
    },
    {
     "data": {
      "application/vnd.jupyter.widget-view+json": {
       "model_id": "16f9795faa634fe2a67f678eaa7bc8f4",
       "version_major": 2,
       "version_minor": 0
      },
      "text/plain": [
       "  0%|          |0/32 tiles [00:00<?]"
      ]
     },
     "metadata": {},
     "output_type": "display_data"
    },
    {
     "name": "stdout",
     "output_type": "stream",
     "text": [
      "File /home/jose/workspace/deforisk-jupyter-nb-v2/data/test/data_raw/test_forest_gfc_10_2015.tif, downloaded\n"
     ]
    },
    {
     "data": {
      "application/vnd.jupyter.widget-view+json": {
       "model_id": "a9c77e38646b46dd9ae781d230676c75",
       "version_major": 2,
       "version_minor": 0
      },
      "text/plain": [
       "  0%|          |0/32 tiles [00:00<?]"
      ]
     },
     "metadata": {},
     "output_type": "display_data"
    },
    {
     "name": "stdout",
     "output_type": "stream",
     "text": [
      "File /home/jose/workspace/deforisk-jupyter-nb-v2/data/test/data_raw/test_forest_gfc_10_2020.tif, downloaded\n"
     ]
    },
    {
     "data": {
      "application/vnd.jupyter.widget-view+json": {
       "model_id": "03a358a081064be793fa871484c08b90",
       "version_major": 2,
       "version_minor": 0
      },
      "text/plain": [
       "  0%|          |0/32 tiles [00:00<?]"
      ]
     },
     "metadata": {},
     "output_type": "display_data"
    },
    {
     "name": "stdout",
     "output_type": "stream",
     "text": [
      "File /home/jose/workspace/deforisk-jupyter-nb-v2/data/test/data_raw/test_forest_gfc_10_2024.tif, downloaded\n",
      "Done!\n"
     ]
    }
   ],
   "source": [
    "if forest_source_primary == \"gee\" and forest_source == \"gfc\":\n",
    "    gfcImage = ee.Image(\"UMD/hansen/global_forest_change_2024_v1_12\")\n",
    "    clipGfc = gfcImage.clip(aoi)\n",
    "    forest2000 = clipGfc.select([\"treecover2000\"])\n",
    "    forest2000_thr = (\n",
    "        ee.Image(0).where(forest2000.gte(tree_cover_threshold), 1).clip(aoi)\n",
    "    )\n",
    "    loss = clipGfc.select([\"lossyear\"])\n",
    "\n",
    "    forest_gcf_t1 = forest2000_thr.where(loss.lt(years[0] - 2000), 0).rename(\"B1\")\n",
    "    forest_gcf_t2 = forest2000_thr.where(loss.lt(years[1] - 2000), 0).rename(\"B1\")\n",
    "    forest_gcf_t3 = forest2000_thr.where(loss.lt(years[2] - 2000), 0).rename(\"B1\")\n",
    "\n",
    "    if not Path(forest1_name).exists():\n",
    "        download_ee_image(\n",
    "            forest_gcf_t1,\n",
    "            forest1_name,\n",
    "            scale=30,\n",
    "            crs=\"EPSG:4326\",\n",
    "            region=aoi_geom,\n",
    "            overwrite=True,\n",
    "            unmask_value=255,\n",
    "            nodata_value=255,\n",
    "        )\n",
    "    else:\n",
    "        print(f\"{forest1_name} already exists. Skipping download.\")\n",
    "\n",
    "    if not Path(forest2_name).exists():\n",
    "        download_ee_image(\n",
    "            forest_gcf_t2,\n",
    "            forest2_name,\n",
    "            scale=30,\n",
    "            crs=\"EPSG:4326\",\n",
    "            region=aoi_geom,\n",
    "            overwrite=True,\n",
    "            unmask_value=255,\n",
    "            nodata_value=255,\n",
    "        )\n",
    "    else:\n",
    "        print(f\"{forest2_name} already exists. Skipping download.\")\n",
    "\n",
    "    if not Path(forest3_name).exists():\n",
    "        download_ee_image(\n",
    "            forest_gcf_t3,\n",
    "            forest3_name,\n",
    "            scale=30,\n",
    "            crs=\"EPSG:4326\",\n",
    "            region=aoi_geom,\n",
    "            overwrite=True,\n",
    "            unmask_value=255,\n",
    "            nodata_value=255,\n",
    "        )\n",
    "    else:\n",
    "        print(f\"{forest3_name} already exists. Skipping download.\")\n",
    "\n",
    "    print(\"Done!\")\n"
   ]
  },
  {
   "cell_type": "code",
   "execution_count": 27,
   "id": "49d81e15",
   "metadata": {},
   "outputs": [
    {
     "data": {
      "text/html": [
       "\n",
       "            <style>\n",
       "                .geemap-dark {\n",
       "                    --jp-widgets-color: white;\n",
       "                    --jp-widgets-label-color: white;\n",
       "                    --jp-ui-font-color1: white;\n",
       "                    --jp-layout-color2: #454545;\n",
       "                    background-color: #383838;\n",
       "                }\n",
       "\n",
       "                .geemap-dark .jupyter-button {\n",
       "                    --jp-layout-color3: #383838;\n",
       "                }\n",
       "\n",
       "                .geemap-colab {\n",
       "                    background-color: var(--colab-primary-surface-color, white);\n",
       "                }\n",
       "\n",
       "                .geemap-colab .jupyter-button {\n",
       "                    --jp-layout-color3: var(--colab-primary-surface-color, white);\n",
       "                }\n",
       "            </style>\n",
       "            "
      ],
      "text/plain": [
       "<IPython.core.display.HTML object>"
      ]
     },
     "metadata": {},
     "output_type": "display_data"
    }
   ],
   "source": [
    "if forest_source_primary == \"gee\" and forest_source == \"tmf\":\n",
    "    tmfImage = (\n",
    "        ee.ImageCollection(\"projects/JRC/TMF/v1_2024/AnnualChanges\")\n",
    "        .filterBounds(aoi)\n",
    "        .mosaic()\n",
    "    )\n",
    "    forest2_t1 = tmfImage.select(\"Dec\" + str(years[0] - 1))\n",
    "    forest2_t2 = tmfImage.select(\"Dec\" + str(years[1] - 1))\n",
    "    forest2_t3 = tmfImage.select(\"Dec\" + str(years[2] - 1))\n",
    "\n",
    "    forest_tmf_t1 = (\n",
    "        forest2_t1.where(forest2_t1.eq(2), 1).where(forest2_t1.neq(1), 0).rename(\"B1\")\n",
    "    )\n",
    "    forest_tmf_t2 = (\n",
    "        forest2_t2.where(forest2_t2.eq(2), 1).where(forest2_t2.neq(1), 0).rename(\"B2\")\n",
    "    )\n",
    "    forest_tmf_t3 = (\n",
    "        forest2_t3.where(forest2_t3.eq(2), 1).where(forest2_t3.neq(1), 0).rename(\"B3\")\n",
    "    )\n",
    "    if not Path(forest1_name).exists():\n",
    "        download_ee_image(\n",
    "            forest_tmf_t1,\n",
    "            forest1_name,\n",
    "            scale=30,\n",
    "            crs=\"EPSG:4326\",\n",
    "            region=aoi_geom,\n",
    "            overwrite=True,\n",
    "            unmask_value=255,\n",
    "            nodata_value=255,\n",
    "        )\n",
    "    else:\n",
    "        print(f\"{forest1_name} already exists. Skipping download.\")\n",
    "\n",
    "    if not Path(forest2_name).exists():\n",
    "        download_ee_image(\n",
    "            forest_tmf_t2,\n",
    "            forest2_name,\n",
    "            scale=30,\n",
    "            crs=\"EPSG:4326\",\n",
    "            region=aoi_geom,\n",
    "            overwrite=True,\n",
    "            unmask_value=255,\n",
    "            nodata_value=255,\n",
    "        )\n",
    "    else:\n",
    "        print(f\"{forest2_name} already exists. Skipping download.\")\n",
    "\n",
    "    if not Path(forest3_name).exists():\n",
    "        download_ee_image(\n",
    "            forest_tmf_t3,\n",
    "            forest3_name,\n",
    "            scale=30,\n",
    "            crs=\"EPSG:4326\",\n",
    "            region=aoi_geom,\n",
    "            overwrite=True,\n",
    "            unmask_value=255,\n",
    "            nodata_value=255,\n",
    "        )\n",
    "    else:\n",
    "        print(f\"{forest3_name} already exists. Skipping download.\")\n",
    "\n",
    "    print(\"Done!\")\n"
   ]
  },
  {
   "cell_type": "code",
   "execution_count": 28,
   "id": "c23988cb",
   "metadata": {},
   "outputs": [
    {
     "data": {
      "text/html": [
       "\n",
       "            <style>\n",
       "                .geemap-dark {\n",
       "                    --jp-widgets-color: white;\n",
       "                    --jp-widgets-label-color: white;\n",
       "                    --jp-ui-font-color1: white;\n",
       "                    --jp-layout-color2: #454545;\n",
       "                    background-color: #383838;\n",
       "                }\n",
       "\n",
       "                .geemap-dark .jupyter-button {\n",
       "                    --jp-layout-color3: #383838;\n",
       "                }\n",
       "\n",
       "                .geemap-colab {\n",
       "                    background-color: var(--colab-primary-surface-color, white);\n",
       "                }\n",
       "\n",
       "                .geemap-colab .jupyter-button {\n",
       "                    --jp-layout-color3: var(--colab-primary-surface-color, white);\n",
       "                }\n",
       "            </style>\n",
       "            "
      ],
      "text/plain": [
       "<IPython.core.display.HTML object>"
      ]
     },
     "metadata": {},
     "output_type": "display_data"
    }
   ],
   "source": [
    "if forest_source_primary == \"local\":\n",
    "    forest1_path: Path = \"\"\n",
    "    copy_and_rename_file(forest1_path, forest1_name)\n",
    "    forest2_path: Path = \"\"\n",
    "    copy_and_rename_file(forest2_path, forest2_name)\n",
    "    forest3_path: Path = \"\"\n",
    "    copy_and_rename_file(forest3_path, forest3_name)\n"
   ]
  },
  {
   "cell_type": "markdown",
   "id": "ae488cae-387e-4c32-9161-eb01370e3c06",
   "metadata": {},
   "source": [
    "## Rivers"
   ]
  },
  {
   "cell_type": "code",
   "execution_count": 29,
   "id": "7ade4102",
   "metadata": {},
   "outputs": [
    {
     "data": {
      "text/html": [
       "\n",
       "            <style>\n",
       "                .geemap-dark {\n",
       "                    --jp-widgets-color: white;\n",
       "                    --jp-widgets-label-color: white;\n",
       "                    --jp-ui-font-color1: white;\n",
       "                    --jp-layout-color2: #454545;\n",
       "                    background-color: #383838;\n",
       "                }\n",
       "\n",
       "                .geemap-dark .jupyter-button {\n",
       "                    --jp-layout-color3: #383838;\n",
       "                }\n",
       "\n",
       "                .geemap-colab {\n",
       "                    background-color: var(--colab-primary-surface-color, white);\n",
       "                }\n",
       "\n",
       "                .geemap-colab .jupyter-button {\n",
       "                    --jp-layout-color3: var(--colab-primary-surface-color, white);\n",
       "                }\n",
       "            </style>\n",
       "            "
      ],
      "text/plain": [
       "<IPython.core.display.HTML object>"
      ]
     },
     "metadata": {},
     "output_type": "display_data"
    }
   ],
   "source": [
    "rivers_source: SourceType = \"gee\"\n",
    "rivers_type: VariableType = \"raster\"\n"
   ]
  },
  {
   "cell_type": "code",
   "execution_count": 30,
   "id": "2062f918",
   "metadata": {},
   "outputs": [
    {
     "data": {
      "text/html": [
       "\n",
       "            <style>\n",
       "                .geemap-dark {\n",
       "                    --jp-widgets-color: white;\n",
       "                    --jp-widgets-label-color: white;\n",
       "                    --jp-ui-font-color1: white;\n",
       "                    --jp-layout-color2: #454545;\n",
       "                    background-color: #383838;\n",
       "                }\n",
       "\n",
       "                .geemap-dark .jupyter-button {\n",
       "                    --jp-layout-color3: #383838;\n",
       "                }\n",
       "\n",
       "                .geemap-colab {\n",
       "                    background-color: var(--colab-primary-surface-color, white);\n",
       "                }\n",
       "\n",
       "                .geemap-colab .jupyter-button {\n",
       "                    --jp-layout-color3: var(--colab-primary-surface-color, white);\n",
       "                }\n",
       "            </style>\n",
       "            "
      ],
      "text/plain": [
       "<IPython.core.display.HTML object>"
      ]
     },
     "metadata": {},
     "output_type": "display_data"
    },
    {
     "name": "stdout",
     "output_type": "stream",
     "text": [
      "/home/jose/workspace/deforisk-jupyter-nb-v2/data/test/data_raw/test_rivers.tif\n"
     ]
    }
   ],
   "source": [
    "rivers_name: Path = set_variable_file_path(\n",
    "    project_name, data_raw_folder, \"rivers\", rivers_type\n",
    ")\n",
    "\n",
    "print(rivers_name)\n"
   ]
  },
  {
   "cell_type": "code",
   "execution_count": 31,
   "id": "8c0fa9c5-1dc1-4a43-bf77-8598391775be",
   "metadata": {},
   "outputs": [
    {
     "data": {
      "text/html": [
       "\n",
       "            <style>\n",
       "                .geemap-dark {\n",
       "                    --jp-widgets-color: white;\n",
       "                    --jp-widgets-label-color: white;\n",
       "                    --jp-ui-font-color1: white;\n",
       "                    --jp-layout-color2: #454545;\n",
       "                    background-color: #383838;\n",
       "                }\n",
       "\n",
       "                .geemap-dark .jupyter-button {\n",
       "                    --jp-layout-color3: #383838;\n",
       "                }\n",
       "\n",
       "                .geemap-colab {\n",
       "                    background-color: var(--colab-primary-surface-color, white);\n",
       "                }\n",
       "\n",
       "                .geemap-colab .jupyter-button {\n",
       "                    --jp-layout-color3: var(--colab-primary-surface-color, white);\n",
       "                }\n",
       "            </style>\n",
       "            "
      ],
      "text/plain": [
       "<IPython.core.display.HTML object>"
      ]
     },
     "metadata": {},
     "output_type": "display_data"
    },
    {
     "data": {
      "application/vnd.jupyter.widget-view+json": {
       "model_id": "fecf73ee48164530a11bc7111dce8ee9",
       "version_major": 2,
       "version_minor": 0
      },
      "text/plain": [
       "  0%|          |0/32 tiles [00:00<?]"
      ]
     },
     "metadata": {},
     "output_type": "display_data"
    },
    {
     "name": "stdout",
     "output_type": "stream",
     "text": [
      "File /home/jose/workspace/deforisk-jupyter-nb-v2/data/test/data_raw/test_rivers.tif, downloaded\n",
      "Done!\n"
     ]
    }
   ],
   "source": [
    "if rivers_source == \"gee\":\n",
    "    # Source\n",
    "    # https://gee-community-catalog.org/projects/osm_water/\n",
    "    osm_water = (\n",
    "        ee.ImageCollection(\"projects/sat-io/open-datasets/OSM_waterLayer\")\n",
    "        .filterBounds(aoi)\n",
    "        .mosaic()\n",
    "        .clip(aoi)\n",
    "    )\n",
    "    osm_rivers = osm_water.gte(2).unmask().clip(aoi).toByte()\n",
    "\n",
    "    if not Path(rivers_name).exists():\n",
    "        download_ee_image(\n",
    "            osm_rivers,\n",
    "            rivers_name,\n",
    "            scale=30,\n",
    "            crs=\"EPSG:4326\",\n",
    "            region=aoi_geom,\n",
    "            overwrite=True,\n",
    "            unmask_value=255,\n",
    "            nodata_value=255,\n",
    "        )\n",
    "    else:\n",
    "        print(f\"{rivers_name} already exists. Skipping download.\")\n",
    "\n",
    "else:\n",
    "    # Local\n",
    "    rivers_path: Path = \"\"\n",
    "    copy_and_rename_file(rivers_path, rivers_name)\n",
    "\n",
    "print(\"Done!\")\n"
   ]
  },
  {
   "cell_type": "markdown",
   "id": "c7018b01-c530-43bc-8314-aefa436399a8",
   "metadata": {},
   "source": [
    "## Roads"
   ]
  },
  {
   "cell_type": "code",
   "execution_count": 32,
   "id": "e7ccbb35",
   "metadata": {},
   "outputs": [
    {
     "data": {
      "text/html": [
       "\n",
       "            <style>\n",
       "                .geemap-dark {\n",
       "                    --jp-widgets-color: white;\n",
       "                    --jp-widgets-label-color: white;\n",
       "                    --jp-ui-font-color1: white;\n",
       "                    --jp-layout-color2: #454545;\n",
       "                    background-color: #383838;\n",
       "                }\n",
       "\n",
       "                .geemap-dark .jupyter-button {\n",
       "                    --jp-layout-color3: #383838;\n",
       "                }\n",
       "\n",
       "                .geemap-colab {\n",
       "                    background-color: var(--colab-primary-surface-color, white);\n",
       "                }\n",
       "\n",
       "                .geemap-colab .jupyter-button {\n",
       "                    --jp-layout-color3: var(--colab-primary-surface-color, white);\n",
       "                }\n",
       "            </style>\n",
       "            "
      ],
      "text/plain": [
       "<IPython.core.display.HTML object>"
      ]
     },
     "metadata": {},
     "output_type": "display_data"
    }
   ],
   "source": [
    "roads_source: SourceType = \"gee\"\n",
    "roads_type: VariableType = \"raster\"\n"
   ]
  },
  {
   "cell_type": "code",
   "execution_count": 33,
   "id": "e744dbba",
   "metadata": {},
   "outputs": [
    {
     "data": {
      "text/html": [
       "\n",
       "            <style>\n",
       "                .geemap-dark {\n",
       "                    --jp-widgets-color: white;\n",
       "                    --jp-widgets-label-color: white;\n",
       "                    --jp-ui-font-color1: white;\n",
       "                    --jp-layout-color2: #454545;\n",
       "                    background-color: #383838;\n",
       "                }\n",
       "\n",
       "                .geemap-dark .jupyter-button {\n",
       "                    --jp-layout-color3: #383838;\n",
       "                }\n",
       "\n",
       "                .geemap-colab {\n",
       "                    background-color: var(--colab-primary-surface-color, white);\n",
       "                }\n",
       "\n",
       "                .geemap-colab .jupyter-button {\n",
       "                    --jp-layout-color3: var(--colab-primary-surface-color, white);\n",
       "                }\n",
       "            </style>\n",
       "            "
      ],
      "text/plain": [
       "<IPython.core.display.HTML object>"
      ]
     },
     "metadata": {},
     "output_type": "display_data"
    },
    {
     "name": "stdout",
     "output_type": "stream",
     "text": [
      "/home/jose/workspace/deforisk-jupyter-nb-v2/data/test/data_raw/test_roads.tif\n"
     ]
    }
   ],
   "source": [
    "roads_name: Path = set_variable_file_path(\n",
    "    project_name, data_raw_folder, \"roads\", roads_type\n",
    ")\n",
    "print(roads_name)\n"
   ]
  },
  {
   "cell_type": "code",
   "execution_count": 34,
   "id": "7a05962c-c891-4b41-abaf-cfa212ef0462",
   "metadata": {},
   "outputs": [
    {
     "data": {
      "text/html": [
       "\n",
       "            <style>\n",
       "                .geemap-dark {\n",
       "                    --jp-widgets-color: white;\n",
       "                    --jp-widgets-label-color: white;\n",
       "                    --jp-ui-font-color1: white;\n",
       "                    --jp-layout-color2: #454545;\n",
       "                    background-color: #383838;\n",
       "                }\n",
       "\n",
       "                .geemap-dark .jupyter-button {\n",
       "                    --jp-layout-color3: #383838;\n",
       "                }\n",
       "\n",
       "                .geemap-colab {\n",
       "                    background-color: var(--colab-primary-surface-color, white);\n",
       "                }\n",
       "\n",
       "                .geemap-colab .jupyter-button {\n",
       "                    --jp-layout-color3: var(--colab-primary-surface-color, white);\n",
       "                }\n",
       "            </style>\n",
       "            "
      ],
      "text/plain": [
       "<IPython.core.display.HTML object>"
      ]
     },
     "metadata": {},
     "output_type": "display_data"
    },
    {
     "data": {
      "application/vnd.jupyter.widget-view+json": {
       "model_id": "3615684feb264debad251c62c78fe9d7",
       "version_major": 2,
       "version_minor": 0
      },
      "text/plain": [
       "...astructure/roads_osm/roadsAllImageOSM:   0%|          |0/32 tiles [00:00<?]"
      ]
     },
     "metadata": {},
     "output_type": "display_data"
    },
    {
     "name": "stdout",
     "output_type": "stream",
     "text": [
      "File /home/jose/workspace/deforisk-jupyter-nb-v2/data/test/data_raw/test_roads.tif, downloaded\n",
      "Done!\n"
     ]
    },
    {
     "name": "stderr",
     "output_type": "stream",
     "text": [
      "/home/jose/workspace/deforisk-jupyter-nb-v2/.venv/lib/python3.11/site-packages/geedim/image.py:254: RuntimeWarning: Couldn't find STAC entry for: 'projects/ee-andyarnellgee/assets/crosscutting/infrastructure/roads_osm/roadsAllImageOSM'.\n",
      "  return STACClient().get(self.id)\n"
     ]
    }
   ],
   "source": [
    "if roads_source == \"gee\":\n",
    "    osm_roads = (\n",
    "        ee.Image(\n",
    "            \"projects/ee-andyarnellgee/assets/crosscutting/infrastructure/roads_osm/roadsAllImageOSM\"\n",
    "        )\n",
    "        .unmask()\n",
    "        .clip(aoi)\n",
    "        .toByte()\n",
    "    )\n",
    "    if not Path(roads_name).exists():\n",
    "        download_ee_image(\n",
    "            osm_roads,\n",
    "            roads_name,\n",
    "            scale=30,\n",
    "            crs=\"EPSG:4326\",\n",
    "            region=aoi_geom,\n",
    "            overwrite=True,\n",
    "            unmask_value=255,\n",
    "            nodata_value=255,\n",
    "        )\n",
    "    else:\n",
    "        print(f\"{roads_name} already exists. Skipping download.\")\n",
    "\n",
    "else:\n",
    "    roads_path: Path = \"\"\n",
    "    copy_and_rename_file(roads_path, roads_name)\n",
    "\n",
    "print(\"Done!\")\n"
   ]
  },
  {
   "cell_type": "markdown",
   "id": "04c1e3c9-91fe-45ed-bce1-56c9a497ae85",
   "metadata": {},
   "source": [
    "## Towns"
   ]
  },
  {
   "cell_type": "code",
   "execution_count": 35,
   "id": "08d16c3d",
   "metadata": {},
   "outputs": [
    {
     "data": {
      "text/html": [
       "\n",
       "            <style>\n",
       "                .geemap-dark {\n",
       "                    --jp-widgets-color: white;\n",
       "                    --jp-widgets-label-color: white;\n",
       "                    --jp-ui-font-color1: white;\n",
       "                    --jp-layout-color2: #454545;\n",
       "                    background-color: #383838;\n",
       "                }\n",
       "\n",
       "                .geemap-dark .jupyter-button {\n",
       "                    --jp-layout-color3: #383838;\n",
       "                }\n",
       "\n",
       "                .geemap-colab {\n",
       "                    background-color: var(--colab-primary-surface-color, white);\n",
       "                }\n",
       "\n",
       "                .geemap-colab .jupyter-button {\n",
       "                    --jp-layout-color3: var(--colab-primary-surface-color, white);\n",
       "                }\n",
       "            </style>\n",
       "            "
      ],
      "text/plain": [
       "<IPython.core.display.HTML object>"
      ]
     },
     "metadata": {},
     "output_type": "display_data"
    }
   ],
   "source": [
    "towns_source: SourceType = \"gee\"\n",
    "towns_type: VariableType = \"raster\"\n"
   ]
  },
  {
   "cell_type": "code",
   "execution_count": 36,
   "id": "4a9dc747-8486-488c-a900-62d7e0399076",
   "metadata": {},
   "outputs": [
    {
     "data": {
      "text/html": [
       "\n",
       "            <style>\n",
       "                .geemap-dark {\n",
       "                    --jp-widgets-color: white;\n",
       "                    --jp-widgets-label-color: white;\n",
       "                    --jp-ui-font-color1: white;\n",
       "                    --jp-layout-color2: #454545;\n",
       "                    background-color: #383838;\n",
       "                }\n",
       "\n",
       "                .geemap-dark .jupyter-button {\n",
       "                    --jp-layout-color3: #383838;\n",
       "                }\n",
       "\n",
       "                .geemap-colab {\n",
       "                    background-color: var(--colab-primary-surface-color, white);\n",
       "                }\n",
       "\n",
       "                .geemap-colab .jupyter-button {\n",
       "                    --jp-layout-color3: var(--colab-primary-surface-color, white);\n",
       "                }\n",
       "            </style>\n",
       "            "
      ],
      "text/plain": [
       "<IPython.core.display.HTML object>"
      ]
     },
     "metadata": {},
     "output_type": "display_data"
    }
   ],
   "source": [
    "def closest_epoch(year):\n",
    "    # Define the list of epochs from 1975 to 2020 with 5-year intervals\n",
    "    epochs = list(range(1975, 2021, 5))\n",
    "\n",
    "    # Find the closest epoch to the given year\n",
    "    closest = min(epochs, key=lambda x: abs(x - year))\n",
    "\n",
    "    return closest\n",
    "\n",
    "\n",
    "# Apply the function to each year\n",
    "closest_epochs = [closest_epoch(y) for y in years]\n"
   ]
  },
  {
   "cell_type": "code",
   "execution_count": 37,
   "id": "10039bfd",
   "metadata": {},
   "outputs": [
    {
     "data": {
      "text/html": [
       "\n",
       "            <style>\n",
       "                .geemap-dark {\n",
       "                    --jp-widgets-color: white;\n",
       "                    --jp-widgets-label-color: white;\n",
       "                    --jp-ui-font-color1: white;\n",
       "                    --jp-layout-color2: #454545;\n",
       "                    background-color: #383838;\n",
       "                }\n",
       "\n",
       "                .geemap-dark .jupyter-button {\n",
       "                    --jp-layout-color3: #383838;\n",
       "                }\n",
       "\n",
       "                .geemap-colab {\n",
       "                    background-color: var(--colab-primary-surface-color, white);\n",
       "                }\n",
       "\n",
       "                .geemap-colab .jupyter-button {\n",
       "                    --jp-layout-color3: var(--colab-primary-surface-color, white);\n",
       "                }\n",
       "            </style>\n",
       "            "
      ],
      "text/plain": [
       "<IPython.core.display.HTML object>"
      ]
     },
     "metadata": {},
     "output_type": "display_data"
    }
   ],
   "source": [
    "if towns_source == \"gee\":\n",
    "    towns1_name: Path = set_variable_file_path(\n",
    "        project_name, data_raw_folder, \"towns_\" + str(closest_epochs[0]), towns_type\n",
    "    )\n",
    "    towns2_name: Path = set_variable_file_path(\n",
    "        project_name, data_raw_folder, \"towns_\" + str(closest_epochs[1]), towns_type\n",
    "    )\n",
    "    towns3_name: Path = set_variable_file_path(\n",
    "        project_name, data_raw_folder, \"towns_\" + str(closest_epochs[2]), towns_type\n",
    "    )\n",
    "elif towns_source == \"local\":\n",
    "    towns_name: Path = set_variable_file_path(\n",
    "        project_name, data_raw_folder, \"towns\", towns_type\n",
    "    )\n"
   ]
  },
  {
   "cell_type": "code",
   "execution_count": 38,
   "id": "88a2bdeb-54a4-4186-9081-8b5b4b8707a6",
   "metadata": {},
   "outputs": [
    {
     "data": {
      "text/html": [
       "\n",
       "            <style>\n",
       "                .geemap-dark {\n",
       "                    --jp-widgets-color: white;\n",
       "                    --jp-widgets-label-color: white;\n",
       "                    --jp-ui-font-color1: white;\n",
       "                    --jp-layout-color2: #454545;\n",
       "                    background-color: #383838;\n",
       "                }\n",
       "\n",
       "                .geemap-dark .jupyter-button {\n",
       "                    --jp-layout-color3: #383838;\n",
       "                }\n",
       "\n",
       "                .geemap-colab {\n",
       "                    background-color: var(--colab-primary-surface-color, white);\n",
       "                }\n",
       "\n",
       "                .geemap-colab .jupyter-button {\n",
       "                    --jp-layout-color3: var(--colab-primary-surface-color, white);\n",
       "                }\n",
       "            </style>\n",
       "            "
      ],
      "text/plain": [
       "<IPython.core.display.HTML object>"
      ]
     },
     "metadata": {},
     "output_type": "display_data"
    },
    {
     "data": {
      "application/vnd.jupyter.widget-view+json": {
       "model_id": "5004721a4d0c425c97f5f6c42c9ba257",
       "version_major": 2,
       "version_minor": 0
      },
      "text/plain": [
       "2015:   0%|          |0/32 tiles [00:00<?]"
      ]
     },
     "metadata": {},
     "output_type": "display_data"
    },
    {
     "name": "stdout",
     "output_type": "stream",
     "text": [
      "File /home/jose/workspace/deforisk-jupyter-nb-v2/data/test/data_raw/test_towns_2015.tif, downloaded\n"
     ]
    },
    {
     "data": {
      "application/vnd.jupyter.widget-view+json": {
       "model_id": "83343ea6feab4397b7b5e8b03be662bc",
       "version_major": 2,
       "version_minor": 0
      },
      "text/plain": [
       "2020:   0%|          |0/32 tiles [00:00<?]"
      ]
     },
     "metadata": {},
     "output_type": "display_data"
    },
    {
     "name": "stdout",
     "output_type": "stream",
     "text": [
      "File /home/jose/workspace/deforisk-jupyter-nb-v2/data/test/data_raw/test_towns_2020.tif, downloaded\n",
      "/home/jose/workspace/deforisk-jupyter-nb-v2/data/test/data_raw/test_towns_2020.tif already exists. Skipping download.\n",
      "Done!\n"
     ]
    }
   ],
   "source": [
    "if towns_source == \"gee\":\n",
    "    jrc_ghsl_pop = ee.ImageCollection(\"JRC/GHSL/P2023A/GHS_POP\")\n",
    "\n",
    "    cities_pop_1 = ee.Image(\"JRC/GHSL/P2023A/GHS_POP/\" + str(closest_epochs[0]))\n",
    "    cities_pop_2 = ee.Image(\"JRC/GHSL/P2023A/GHS_POP/\" + str(closest_epochs[1]))\n",
    "    cities_pop_3 = ee.Image(\"JRC/GHSL/P2023A/GHS_POP/\" + str(closest_epochs[2]))\n",
    "\n",
    "    cities_build_1 = ee.Image(\n",
    "        \"JRC/GHSL/P2023A/GHS_BUILT_S/\" + str(closest_epochs[0])\n",
    "    ).select(\"built_surface\")\n",
    "    cities_build_2 = ee.Image(\n",
    "        \"JRC/GHSL/P2023A/GHS_BUILT_S/\" + str(closest_epochs[1])\n",
    "    ).select(\"built_surface\")\n",
    "    cities_build_3 = ee.Image(\n",
    "        \"JRC/GHSL/P2023A/GHS_BUILT_S/\" + str(closest_epochs[2])\n",
    "    ).select(\"built_surface\")\n",
    "\n",
    "    cities1 = (\n",
    "        ee.Image(0).where(cities_pop_1.gte(15).And(cities_build_1.gte(90)), 1).clip(aoi)\n",
    "    )\n",
    "    cities2 = (\n",
    "        ee.Image(0).where(cities_pop_2.gte(15).And(cities_build_2.gte(90)), 1).clip(aoi)\n",
    "    )\n",
    "    cities3 = (\n",
    "        ee.Image(0).where(cities_pop_3.gte(15).And(cities_build_3.gte(90)), 1).clip(aoi)\n",
    "    )\n",
    "    if not Path(towns1_name).exists():\n",
    "        download_ee_image(\n",
    "            cities_build_1,\n",
    "            towns1_name,\n",
    "            scale=30,\n",
    "            crs=\"EPSG:4326\",\n",
    "            region=aoi_geom,\n",
    "            overwrite=True,\n",
    "            unmask_value=255,\n",
    "            nodata_value=255,\n",
    "        )\n",
    "    else:\n",
    "        print(f\"{towns1_name} already exists. Skipping download.\")\n",
    "\n",
    "    if not Path(towns2_name).exists():\n",
    "        download_ee_image(\n",
    "            cities_build_2,\n",
    "            towns2_name,\n",
    "            scale=30,\n",
    "            crs=\"EPSG:4326\",\n",
    "            region=aoi_geom,\n",
    "            overwrite=True,\n",
    "            unmask_value=255,\n",
    "            nodata_value=255,\n",
    "        )\n",
    "    else:\n",
    "        print(f\"{towns2_name} already exists. Skipping download.\")\n",
    "\n",
    "    if not Path(towns3_name).exists():\n",
    "        download_ee_image(\n",
    "            cities_build_3,\n",
    "            towns3_name,\n",
    "            scale=30,\n",
    "            crs=\"EPSG:4326\",\n",
    "            region=aoi_geom,\n",
    "            overwrite=True,\n",
    "            unmask_value=255,\n",
    "            nodata_value=255,\n",
    "        )\n",
    "    else:\n",
    "        print(f\"{towns3_name} already exists. Skipping download.\")\n",
    "\n",
    "    print(\"Done!\")\n"
   ]
  },
  {
   "cell_type": "code",
   "execution_count": 39,
   "id": "933cfdac",
   "metadata": {},
   "outputs": [
    {
     "data": {
      "text/html": [
       "\n",
       "            <style>\n",
       "                .geemap-dark {\n",
       "                    --jp-widgets-color: white;\n",
       "                    --jp-widgets-label-color: white;\n",
       "                    --jp-ui-font-color1: white;\n",
       "                    --jp-layout-color2: #454545;\n",
       "                    background-color: #383838;\n",
       "                }\n",
       "\n",
       "                .geemap-dark .jupyter-button {\n",
       "                    --jp-layout-color3: #383838;\n",
       "                }\n",
       "\n",
       "                .geemap-colab {\n",
       "                    background-color: var(--colab-primary-surface-color, white);\n",
       "                }\n",
       "\n",
       "                .geemap-colab .jupyter-button {\n",
       "                    --jp-layout-color3: var(--colab-primary-surface-color, white);\n",
       "                }\n",
       "            </style>\n",
       "            "
      ],
      "text/plain": [
       "<IPython.core.display.HTML object>"
      ]
     },
     "metadata": {},
     "output_type": "display_data"
    }
   ],
   "source": [
    "if towns_source == \"local\":\n",
    "    towns_path: Path = \"\"\n",
    "    copy_and_rename_file(towns_path, towns_name)\n",
    "    print(\"Done!\")\n"
   ]
  },
  {
   "cell_type": "code",
   "execution_count": 40,
   "id": "b4ca50d8-c6f2-495f-a13a-52768e462a5d",
   "metadata": {},
   "outputs": [
    {
     "data": {
      "text/html": [
       "\n",
       "            <style>\n",
       "                .geemap-dark {\n",
       "                    --jp-widgets-color: white;\n",
       "                    --jp-widgets-label-color: white;\n",
       "                    --jp-ui-font-color1: white;\n",
       "                    --jp-layout-color2: #454545;\n",
       "                    background-color: #383838;\n",
       "                }\n",
       "\n",
       "                .geemap-dark .jupyter-button {\n",
       "                    --jp-layout-color3: #383838;\n",
       "                }\n",
       "\n",
       "                .geemap-colab {\n",
       "                    background-color: var(--colab-primary-surface-color, white);\n",
       "                }\n",
       "\n",
       "                .geemap-colab .jupyter-button {\n",
       "                    --jp-layout-color3: var(--colab-primary-surface-color, white);\n",
       "                }\n",
       "            </style>\n",
       "            "
      ],
      "text/plain": [
       "<IPython.core.display.HTML object>"
      ]
     },
     "metadata": {},
     "output_type": "display_data"
    }
   ],
   "source": [
    "## Consider using Global Human Modification v3\n",
    "# https://gee-community-catalog.org/projects/ghm/?h=human\n",
    "\n",
    "## Oxford accessibility to cities 2015\n",
    "## ee.Image('Oxford/MAP/accessibility_to_cities_2015_v1_0')\n"
   ]
  },
  {
   "cell_type": "markdown",
   "id": "c176d90c",
   "metadata": {},
   "source": [
    "## Custom variable"
   ]
  },
  {
   "cell_type": "code",
   "execution_count": 41,
   "id": "0c3ad34e",
   "metadata": {},
   "outputs": [
    {
     "data": {
      "text/html": [
       "\n",
       "            <style>\n",
       "                .geemap-dark {\n",
       "                    --jp-widgets-color: white;\n",
       "                    --jp-widgets-label-color: white;\n",
       "                    --jp-ui-font-color1: white;\n",
       "                    --jp-layout-color2: #454545;\n",
       "                    background-color: #383838;\n",
       "                }\n",
       "\n",
       "                .geemap-dark .jupyter-button {\n",
       "                    --jp-layout-color3: #383838;\n",
       "                }\n",
       "\n",
       "                .geemap-colab {\n",
       "                    background-color: var(--colab-primary-surface-color, white);\n",
       "                }\n",
       "\n",
       "                .geemap-colab .jupyter-button {\n",
       "                    --jp-layout-color3: var(--colab-primary-surface-color, white);\n",
       "                }\n",
       "            </style>\n",
       "            "
      ],
      "text/plain": [
       "<IPython.core.display.HTML object>"
      ]
     },
     "metadata": {},
     "output_type": "display_data"
    },
    {
     "name": "stdout",
     "output_type": "stream",
     "text": [
      "/home/jose/workspace/deforisk-jupyter-nb-v2/data/test/data_raw/test_my_custom_variable_name.tif\n"
     ]
    },
    {
     "ename": "EEException",
     "evalue": "Image.load: Image asset 'your/custo/asset_id' not found (does not exist or caller does not have access).",
     "output_type": "error",
     "traceback": [
      "\u001b[31m---------------------------------------------------------------------------\u001b[39m",
      "\u001b[31mHttpError\u001b[39m                                 Traceback (most recent call last)",
      "\u001b[36mFile \u001b[39m\u001b[32m~/workspace/deforisk-jupyter-nb-v2/.venv/lib/python3.11/site-packages/ee/data.py:404\u001b[39m, in \u001b[36m_execute_cloud_call\u001b[39m\u001b[34m(call, num_retries)\u001b[39m\n\u001b[32m    403\u001b[39m \u001b[38;5;28;01mtry\u001b[39;00m:\n\u001b[32m--> \u001b[39m\u001b[32m404\u001b[39m   \u001b[38;5;28;01mreturn\u001b[39;00m \u001b[43mcall\u001b[49m\u001b[43m.\u001b[49m\u001b[43mexecute\u001b[49m\u001b[43m(\u001b[49m\u001b[43mnum_retries\u001b[49m\u001b[43m=\u001b[49m\u001b[43mnum_retries\u001b[49m\u001b[43m)\u001b[49m\n\u001b[32m    405\u001b[39m \u001b[38;5;28;01mexcept\u001b[39;00m googleapiclient.errors.HttpError \u001b[38;5;28;01mas\u001b[39;00m e:\n",
      "\u001b[36mFile \u001b[39m\u001b[32m~/workspace/deforisk-jupyter-nb-v2/.venv/lib/python3.11/site-packages/googleapiclient/_helpers.py:130\u001b[39m, in \u001b[36mpositional.<locals>.positional_decorator.<locals>.positional_wrapper\u001b[39m\u001b[34m(*args, **kwargs)\u001b[39m\n\u001b[32m    129\u001b[39m         logger.warning(message)\n\u001b[32m--> \u001b[39m\u001b[32m130\u001b[39m \u001b[38;5;28;01mreturn\u001b[39;00m \u001b[43mwrapped\u001b[49m\u001b[43m(\u001b[49m\u001b[43m*\u001b[49m\u001b[43margs\u001b[49m\u001b[43m,\u001b[49m\u001b[43m \u001b[49m\u001b[43m*\u001b[49m\u001b[43m*\u001b[49m\u001b[43mkwargs\u001b[49m\u001b[43m)\u001b[49m\n",
      "\u001b[36mFile \u001b[39m\u001b[32m~/workspace/deforisk-jupyter-nb-v2/.venv/lib/python3.11/site-packages/googleapiclient/http.py:938\u001b[39m, in \u001b[36mHttpRequest.execute\u001b[39m\u001b[34m(self, http, num_retries)\u001b[39m\n\u001b[32m    937\u001b[39m \u001b[38;5;28;01mif\u001b[39;00m resp.status >= \u001b[32m300\u001b[39m:\n\u001b[32m--> \u001b[39m\u001b[32m938\u001b[39m     \u001b[38;5;28;01mraise\u001b[39;00m HttpError(resp, content, uri=\u001b[38;5;28mself\u001b[39m.uri)\n\u001b[32m    939\u001b[39m \u001b[38;5;28;01mreturn\u001b[39;00m \u001b[38;5;28mself\u001b[39m.postproc(resp, content)\n",
      "\u001b[31mHttpError\u001b[39m: <HttpError 400 when requesting https://earthengine.googleapis.com/v1/projects/ee-joseserafini-fao/value:compute?prettyPrint=false&alt=json returned \"Image.load: Image asset 'your/custo/asset_id' not found (does not exist or caller does not have access).\". Details: \"Image.load: Image asset 'your/custo/asset_id' not found (does not exist or caller does not have access).\">",
      "\nDuring handling of the above exception, another exception occurred:\n",
      "\u001b[31mEEException\u001b[39m                               Traceback (most recent call last)",
      "\u001b[36mCell\u001b[39m\u001b[36m \u001b[39m\u001b[32mIn[41]\u001b[39m\u001b[32m, line 32\u001b[39m\n\u001b[32m     29\u001b[39m custom_image = ee.Image(custom_gee_id).clip(aoi_geom)\n\u001b[32m     31\u001b[39m \u001b[38;5;28;01mif\u001b[39;00m \u001b[38;5;129;01mnot\u001b[39;00m Path(custom_name).exists():\n\u001b[32m---> \u001b[39m\u001b[32m32\u001b[39m     \u001b[43mdownload_ee_image\u001b[49m\u001b[43m(\u001b[49m\n\u001b[32m     33\u001b[39m \u001b[43m        \u001b[49m\u001b[43mcustom_image\u001b[49m\u001b[43m,\u001b[49m\n\u001b[32m     34\u001b[39m \u001b[43m        \u001b[49m\u001b[43mcustom_name\u001b[49m\u001b[43m,\u001b[49m\n\u001b[32m     35\u001b[39m \u001b[43m        \u001b[49m\u001b[43mscale\u001b[49m\u001b[43m=\u001b[49m\u001b[32;43m30\u001b[39;49m\u001b[43m,\u001b[49m\n\u001b[32m     36\u001b[39m \u001b[43m        \u001b[49m\u001b[43mcrs\u001b[49m\u001b[43m=\u001b[49m\u001b[33;43m\"\u001b[39;49m\u001b[33;43mEPSG:4326\u001b[39;49m\u001b[33;43m\"\u001b[39;49m\u001b[43m,\u001b[49m\n\u001b[32m     37\u001b[39m \u001b[43m        \u001b[49m\u001b[43mregion\u001b[49m\u001b[43m=\u001b[49m\u001b[43maoi_geom\u001b[49m\u001b[43m,\u001b[49m\n\u001b[32m     38\u001b[39m \u001b[43m        \u001b[49m\u001b[43moverwrite\u001b[49m\u001b[43m=\u001b[49m\u001b[38;5;28;43;01mTrue\u001b[39;49;00m\u001b[43m,\u001b[49m\n\u001b[32m     39\u001b[39m \u001b[43m        \u001b[49m\u001b[43munmask_value\u001b[49m\u001b[43m=\u001b[49m\u001b[32;43m255\u001b[39;49m\u001b[43m,\u001b[49m\n\u001b[32m     40\u001b[39m \u001b[43m        \u001b[49m\u001b[43mnodata_value\u001b[49m\u001b[43m=\u001b[49m\u001b[32;43m255\u001b[39;49m\u001b[43m,\u001b[49m\n\u001b[32m     41\u001b[39m \u001b[43m    \u001b[49m\u001b[43m)\u001b[49m\n\u001b[32m     42\u001b[39m \u001b[38;5;28;01melse\u001b[39;00m:\n\u001b[32m     43\u001b[39m     \u001b[38;5;28mprint\u001b[39m(\u001b[33mf\u001b[39m\u001b[33m\"\u001b[39m\u001b[38;5;132;01m{\u001b[39;00mcustom_name\u001b[38;5;132;01m}\u001b[39;00m\u001b[33m already exists. Skipping download.\u001b[39m\u001b[33m\"\u001b[39m)\n",
      "\u001b[36mFile \u001b[39m\u001b[32m~/workspace/deforisk-jupyter-nb-v2/notebooks/../component/script/gee/ee_raster_export.py:96\u001b[39m, in \u001b[36mdownload_ee_image\u001b[39m\u001b[34m(image, filename, region, crs, crs_transform, scale, resampling, dtype, overwrite, num_threads, max_tile_size, max_tile_dim, shape, scale_offset, unmask_value, nodata_value, **kwargs)\u001b[39m\n\u001b[32m     93\u001b[39m         image = image.clip(region)\n\u001b[32m     94\u001b[39m     image = image.unmask(unmask_value, sameFootprint=\u001b[38;5;28;01mFalse\u001b[39;00m)\n\u001b[32m---> \u001b[39m\u001b[32m96\u001b[39m img = \u001b[43mimage\u001b[49m\u001b[43m.\u001b[49m\u001b[43mgd\u001b[49m\u001b[43m.\u001b[49m\u001b[43mprepareForExport\u001b[49m\u001b[43m(\u001b[49m\n\u001b[32m     97\u001b[39m \u001b[43m    \u001b[49m\u001b[43mcrs\u001b[49m\u001b[43m=\u001b[49m\u001b[43mcrs\u001b[49m\u001b[43m,\u001b[49m\n\u001b[32m     98\u001b[39m \u001b[43m    \u001b[49m\u001b[43mregion\u001b[49m\u001b[43m=\u001b[49m\u001b[43mregion\u001b[49m\u001b[43m,\u001b[49m\n\u001b[32m     99\u001b[39m \u001b[43m    \u001b[49m\u001b[43mscale\u001b[49m\u001b[43m=\u001b[49m\u001b[43mscale\u001b[49m\u001b[43m,\u001b[49m\n\u001b[32m    100\u001b[39m \u001b[43m    \u001b[49m\u001b[43mresampling\u001b[49m\u001b[43m=\u001b[49m\u001b[43mresampling\u001b[49m\u001b[43m,\u001b[49m\n\u001b[32m    101\u001b[39m \u001b[43m    \u001b[49m\u001b[43mdtype\u001b[49m\u001b[43m=\u001b[49m\u001b[43mdtype\u001b[49m\u001b[43m,\u001b[49m\n\u001b[32m    102\u001b[39m \u001b[43m\u001b[49m\u001b[43m)\u001b[49m\n\u001b[32m    104\u001b[39m \u001b[38;5;28;01mif\u001b[39;00m nodata_value \u001b[38;5;129;01mis\u001b[39;00m \u001b[38;5;28;01mNone\u001b[39;00m:\n\u001b[32m    105\u001b[39m     img.gd.toGeoTIFF(file=filename, overwrite=overwrite, nodata=\u001b[38;5;28;01mTrue\u001b[39;00m, **kwargs)\n",
      "\u001b[36mFile \u001b[39m\u001b[32m~/workspace/deforisk-jupyter-nb-v2/.venv/lib/python3.11/site-packages/geedim/image.py:838\u001b[39m, in \u001b[36mImageAccessor.prepareForExport\u001b[39m\u001b[34m(self, crs, crs_transform, shape, region, scale, resampling, dtype, scale_offset, bands)\u001b[39m\n\u001b[32m    836\u001b[39m \u001b[38;5;28;01melse\u001b[39;00m:\n\u001b[32m    837\u001b[39m     ee_image = exp_image._ee_image\n\u001b[32m--> \u001b[39m\u001b[32m838\u001b[39m     exp_dtype = dtype \u001b[38;5;129;01mor\u001b[39;00m \u001b[43mexp_image\u001b[49m\u001b[43m.\u001b[49m\u001b[43mdtype\u001b[49m\n\u001b[32m    840\u001b[39m ee_image = ImageAccessor(ee_image).resample(resampling)\n\u001b[32m    842\u001b[39m \u001b[38;5;66;03m# convert dtype (required for EE to set nodata correctly on download even if\u001b[39;00m\n\u001b[32m    843\u001b[39m \u001b[38;5;66;03m# dtype is unchanged)\u001b[39;00m\n",
      "\u001b[36mFile \u001b[39m\u001b[32m~/.local/share/uv/python/cpython-3.11.10-linux-x86_64-gnu/lib/python3.11/functools.py:1001\u001b[39m, in \u001b[36mcached_property.__get__\u001b[39m\u001b[34m(self, instance, owner)\u001b[39m\n\u001b[32m    999\u001b[39m val = cache.get(\u001b[38;5;28mself\u001b[39m.attrname, _NOT_FOUND)\n\u001b[32m   1000\u001b[39m \u001b[38;5;28;01mif\u001b[39;00m val \u001b[38;5;129;01mis\u001b[39;00m _NOT_FOUND:\n\u001b[32m-> \u001b[39m\u001b[32m1001\u001b[39m     val = \u001b[38;5;28;43mself\u001b[39;49m\u001b[43m.\u001b[49m\u001b[43mfunc\u001b[49m\u001b[43m(\u001b[49m\u001b[43minstance\u001b[49m\u001b[43m)\u001b[49m\n\u001b[32m   1002\u001b[39m     \u001b[38;5;28;01mtry\u001b[39;00m:\n\u001b[32m   1003\u001b[39m         cache[\u001b[38;5;28mself\u001b[39m.attrname] = val\n",
      "\u001b[36mFile \u001b[39m\u001b[32m~/workspace/deforisk-jupyter-nb-v2/.venv/lib/python3.11/site-packages/geedim/image.py:325\u001b[39m, in \u001b[36mImageAccessor.dtype\u001b[39m\u001b[34m(self)\u001b[39m\n\u001b[32m    321\u001b[39m     \u001b[38;5;28;01mreturn\u001b[39;00m \u001b[33m'\u001b[39m\u001b[33mfloat64\u001b[39m\u001b[33m'\u001b[39m\n\u001b[32m    323\u001b[39m dtype = \u001b[38;5;28;01mNone\u001b[39;00m\n\u001b[32m    324\u001b[39m data_types = [\n\u001b[32m--> \u001b[39m\u001b[32m325\u001b[39m     band_info[\u001b[33m'\u001b[39m\u001b[33mdata_type\u001b[39m\u001b[33m'\u001b[39m] \u001b[38;5;28;01mfor\u001b[39;00m band_info \u001b[38;5;129;01min\u001b[39;00m \u001b[38;5;28;43mself\u001b[39;49m\u001b[43m.\u001b[49m\u001b[43minfo\u001b[49m.get(\u001b[33m'\u001b[39m\u001b[33mbands\u001b[39m\u001b[33m'\u001b[39m, [])\n\u001b[32m    326\u001b[39m ]\n\u001b[32m    327\u001b[39m precisions = [data_type[\u001b[33m'\u001b[39m\u001b[33mprecision\u001b[39m\u001b[33m'\u001b[39m] \u001b[38;5;28;01mfor\u001b[39;00m data_type \u001b[38;5;129;01min\u001b[39;00m data_types]\n\u001b[32m    328\u001b[39m \u001b[38;5;28;01mif\u001b[39;00m \u001b[33m'\u001b[39m\u001b[33mdouble\u001b[39m\u001b[33m'\u001b[39m \u001b[38;5;129;01min\u001b[39;00m precisions:\n",
      "\u001b[36mFile \u001b[39m\u001b[32m~/.local/share/uv/python/cpython-3.11.10-linux-x86_64-gnu/lib/python3.11/functools.py:1001\u001b[39m, in \u001b[36mcached_property.__get__\u001b[39m\u001b[34m(self, instance, owner)\u001b[39m\n\u001b[32m    999\u001b[39m val = cache.get(\u001b[38;5;28mself\u001b[39m.attrname, _NOT_FOUND)\n\u001b[32m   1000\u001b[39m \u001b[38;5;28;01mif\u001b[39;00m val \u001b[38;5;129;01mis\u001b[39;00m _NOT_FOUND:\n\u001b[32m-> \u001b[39m\u001b[32m1001\u001b[39m     val = \u001b[38;5;28;43mself\u001b[39;49m\u001b[43m.\u001b[49m\u001b[43mfunc\u001b[49m\u001b[43m(\u001b[49m\u001b[43minstance\u001b[49m\u001b[43m)\u001b[49m\n\u001b[32m   1002\u001b[39m     \u001b[38;5;28;01mtry\u001b[39;00m:\n\u001b[32m   1003\u001b[39m         cache[\u001b[38;5;28mself\u001b[39m.attrname] = val\n",
      "\u001b[36mFile \u001b[39m\u001b[32m~/workspace/deforisk-jupyter-nb-v2/.venv/lib/python3.11/site-packages/geedim/image.py:249\u001b[39m, in \u001b[36mImageAccessor.info\u001b[39m\u001b[34m(self)\u001b[39m\n\u001b[32m    246\u001b[39m \u001b[38;5;129m@cached_property\u001b[39m\n\u001b[32m    247\u001b[39m \u001b[38;5;28;01mdef\u001b[39;00m\u001b[38;5;250m \u001b[39m\u001b[34minfo\u001b[39m(\u001b[38;5;28mself\u001b[39m) -> \u001b[38;5;28mdict\u001b[39m[\u001b[38;5;28mstr\u001b[39m, Any]:\n\u001b[32m    248\u001b[39m \u001b[38;5;250m    \u001b[39m\u001b[33;03m\"\"\"Earth Engine information as returned by :meth:`ee.Image.getInfo`.\"\"\"\u001b[39;00m\n\u001b[32m--> \u001b[39m\u001b[32m249\u001b[39m     \u001b[38;5;28;01mreturn\u001b[39;00m \u001b[38;5;28;43mself\u001b[39;49m\u001b[43m.\u001b[49m\u001b[43m_ee_image\u001b[49m\u001b[43m.\u001b[49m\u001b[43mgetInfo\u001b[49m\u001b[43m(\u001b[49m\u001b[43m)\u001b[49m\n",
      "\u001b[36mFile \u001b[39m\u001b[32m~/workspace/deforisk-jupyter-nb-v2/.venv/lib/python3.11/site-packages/ee/image.py:141\u001b[39m, in \u001b[36mImage.getInfo\u001b[39m\u001b[34m(self)\u001b[39m\n\u001b[32m    133\u001b[39m \u001b[38;5;28;01mdef\u001b[39;00m\u001b[38;5;250m \u001b[39m\u001b[34mgetInfo\u001b[39m(\u001b[38;5;28mself\u001b[39m) -> Any | \u001b[38;5;28;01mNone\u001b[39;00m:\n\u001b[32m    134\u001b[39m \u001b[38;5;250m  \u001b[39m\u001b[33;03m\"\"\"Fetch and return information about this image.\u001b[39;00m\n\u001b[32m    135\u001b[39m \n\u001b[32m    136\u001b[39m \u001b[33;03m  Returns:\u001b[39;00m\n\u001b[32m   (...)\u001b[39m\u001b[32m    139\u001b[39m \u001b[33;03m        properties - Dictionary containing the image's metadata properties.\u001b[39;00m\n\u001b[32m    140\u001b[39m \u001b[33;03m  \"\"\"\u001b[39;00m\n\u001b[32m--> \u001b[39m\u001b[32m141\u001b[39m   \u001b[38;5;28;01mreturn\u001b[39;00m \u001b[38;5;28;43msuper\u001b[39;49m\u001b[43m(\u001b[49m\u001b[43m)\u001b[49m\u001b[43m.\u001b[49m\u001b[43mgetInfo\u001b[49m\u001b[43m(\u001b[49m\u001b[43m)\u001b[49m\n",
      "\u001b[36mFile \u001b[39m\u001b[32m~/workspace/deforisk-jupyter-nb-v2/.venv/lib/python3.11/site-packages/ee/computedobject.py:107\u001b[39m, in \u001b[36mComputedObject.getInfo\u001b[39m\u001b[34m(self)\u001b[39m\n\u001b[32m    101\u001b[39m \u001b[38;5;28;01mdef\u001b[39;00m\u001b[38;5;250m \u001b[39m\u001b[34mgetInfo\u001b[39m(\u001b[38;5;28mself\u001b[39m) -> Any | \u001b[38;5;28;01mNone\u001b[39;00m:\n\u001b[32m    102\u001b[39m \u001b[38;5;250m  \u001b[39m\u001b[33;03m\"\"\"Fetch and return information about this object.\u001b[39;00m\n\u001b[32m    103\u001b[39m \n\u001b[32m    104\u001b[39m \u001b[33;03m  Returns:\u001b[39;00m\n\u001b[32m    105\u001b[39m \u001b[33;03m    The object can evaluate to anything.\u001b[39;00m\n\u001b[32m    106\u001b[39m \u001b[33;03m  \"\"\"\u001b[39;00m\n\u001b[32m--> \u001b[39m\u001b[32m107\u001b[39m   \u001b[38;5;28;01mreturn\u001b[39;00m \u001b[43mdata\u001b[49m\u001b[43m.\u001b[49m\u001b[43mcomputeValue\u001b[49m\u001b[43m(\u001b[49m\u001b[38;5;28;43mself\u001b[39;49m\u001b[43m)\u001b[49m\n",
      "\u001b[36mFile \u001b[39m\u001b[32m~/workspace/deforisk-jupyter-nb-v2/.venv/lib/python3.11/site-packages/ee/data.py:1122\u001b[39m, in \u001b[36mcomputeValue\u001b[39m\u001b[34m(obj)\u001b[39m\n\u001b[32m   1119\u001b[39m body = {\u001b[33m'\u001b[39m\u001b[33mexpression\u001b[39m\u001b[33m'\u001b[39m: serializer.encode(obj, for_cloud_api=\u001b[38;5;28;01mTrue\u001b[39;00m)}\n\u001b[32m   1120\u001b[39m _maybe_populate_workload_tag(body)\n\u001b[32m-> \u001b[39m\u001b[32m1122\u001b[39m \u001b[38;5;28;01mreturn\u001b[39;00m \u001b[43m_execute_cloud_call\u001b[49m\u001b[43m(\u001b[49m\n\u001b[32m   1123\u001b[39m \u001b[43m    \u001b[49m\u001b[43m_get_cloud_projects\u001b[49m\u001b[43m(\u001b[49m\u001b[43m)\u001b[49m\n\u001b[32m   1124\u001b[39m \u001b[43m    \u001b[49m\u001b[43m.\u001b[49m\u001b[43mvalue\u001b[49m\u001b[43m(\u001b[49m\u001b[43m)\u001b[49m\n\u001b[32m   1125\u001b[39m \u001b[43m    \u001b[49m\u001b[43m.\u001b[49m\u001b[43mcompute\u001b[49m\u001b[43m(\u001b[49m\u001b[43mbody\u001b[49m\u001b[43m=\u001b[49m\u001b[43mbody\u001b[49m\u001b[43m,\u001b[49m\u001b[43m \u001b[49m\u001b[43mproject\u001b[49m\u001b[43m=\u001b[49m\u001b[43m_get_projects_path\u001b[49m\u001b[43m(\u001b[49m\u001b[43m)\u001b[49m\u001b[43m,\u001b[49m\u001b[43m \u001b[49m\u001b[43mprettyPrint\u001b[49m\u001b[43m=\u001b[49m\u001b[38;5;28;43;01mFalse\u001b[39;49;00m\u001b[43m)\u001b[49m\n\u001b[32m   1126\u001b[39m \u001b[43m\u001b[49m\u001b[43m)\u001b[49m[\u001b[33m'\u001b[39m\u001b[33mresult\u001b[39m\u001b[33m'\u001b[39m]\n",
      "\u001b[36mFile \u001b[39m\u001b[32m~/workspace/deforisk-jupyter-nb-v2/.venv/lib/python3.11/site-packages/ee/data.py:406\u001b[39m, in \u001b[36m_execute_cloud_call\u001b[39m\u001b[34m(call, num_retries)\u001b[39m\n\u001b[32m    404\u001b[39m   \u001b[38;5;28;01mreturn\u001b[39;00m call.execute(num_retries=num_retries)\n\u001b[32m    405\u001b[39m \u001b[38;5;28;01mexcept\u001b[39;00m googleapiclient.errors.HttpError \u001b[38;5;28;01mas\u001b[39;00m e:\n\u001b[32m--> \u001b[39m\u001b[32m406\u001b[39m   \u001b[38;5;28;01mraise\u001b[39;00m _translate_cloud_exception(e)\n",
      "\u001b[31mEEException\u001b[39m: Image.load: Image asset 'your/custo/asset_id' not found (does not exist or caller does not have access)."
     ]
    }
   ],
   "source": [
    "custom_source: SourceType = \"gee\"\n",
    "\n",
    "# Define custom variables\n",
    "custom_gee_variables = [\n",
    "    {\n",
    "        \"asset_id\": \"your/custo/asset_id\",\n",
    "        \"name\": \"my_custom_variable_name\",\n",
    "        \"type\": \"raster\",\n",
    "    },\n",
    "    {\n",
    "        \"asset_id\": \"your/custo/asset_id_2\",\n",
    "        \"name\": \"my_custom_variable_name_2\",\n",
    "        \"type\": \"raster\",\n",
    "    },\n",
    "]\n",
    "\n",
    "\n",
    "if custom_source == \"gee\":\n",
    "    for variable in custom_gee_variables:\n",
    "        custom_variable_name = variable[\"name\"]\n",
    "        custom_type = variable[\"type\"]\n",
    "\n",
    "        custom_name: Path = set_variable_file_path(\n",
    "            project_name, data_raw_folder, custom_variable_name, custom_type\n",
    "        )\n",
    "        print(custom_name)\n",
    "\n",
    "        custom_gee_id = variable[\"asset_id\"]\n",
    "        custom_image = ee.Image(custom_gee_id).clip(aoi_geom)\n",
    "\n",
    "        if not Path(custom_name).exists():\n",
    "            download_ee_image(\n",
    "                custom_image,\n",
    "                custom_name,\n",
    "                scale=30,\n",
    "                crs=\"EPSG:4326\",\n",
    "                region=aoi_geom,\n",
    "                overwrite=True,\n",
    "                unmask_value=255,\n",
    "                nodata_value=255,\n",
    "            )\n",
    "        else:\n",
    "            print(f\"{custom_name} already exists. Skipping download.\")\n"
   ]
  },
  {
   "cell_type": "code",
   "execution_count": null,
   "id": "f6d03030",
   "metadata": {},
   "outputs": [],
   "source": [
    "custom_source == \"local\":\n",
    "\n",
    "\n",
    "# if it is local, define the path\n",
    "custom_local_variables = [\n",
    "    {\n",
    "        \"path\": \"path_to/custom/asset.tif\",\n",
    "        \"name\": \"my_custom_variable_name\",\n",
    "        \"type\": \"raster\",\n",
    "    },\n",
    "    {\n",
    "        \"path\": \"path_to/custom/asset.shp\",\n",
    "        \"name\": \"my_custom_variable_name\",\n",
    "        \"type\": \"vector\",\n",
    "    },\n",
    "]\n",
    "\n",
    "\n",
    "\n",
    "if custom_source == \"local\":\n",
    "    for variable in custom_local_variables:\n",
    "        custom_name = variable[\"name\"]\n",
    "        custom_type = variable[\"type\"]\n",
    "        custom_name: Path = set_variable_file_path(\n",
    "            project_name, data_raw_folder, custom_name, custom_type\n",
    "        )\n",
    "        custom_path: Path = variable[\"path\"]\n",
    "        copy_and_rename_file(custom_path, custom_name)\n"
   ]
  },
  {
   "cell_type": "markdown",
   "id": "ce4d6150",
   "metadata": {},
   "source": [
    "## Save parameters\n"
   ]
  },
  {
   "cell_type": "code",
   "execution_count": null,
   "id": "1198222d-65d8-4994-9ed2-dd11fc1313ab",
   "metadata": {},
   "outputs": [],
   "source": [
    "# def save_selected_keys_to_txt(self, keys_to_save: list, filename: str):\n",
    "#         \"\"\"Saves selected keys of a dictionary to a text file in 'key= value' format.\n",
    "#         If a key contains a dictionary, its contents are written as separate key-value pairs.\"\"\"\n",
    "#         nfile = self.args[\"workdir\"] + '/' + filename\n",
    "#         print(nfile)\n",
    "\n",
    "#         with open(nfile, \"w\") as file:\n",
    "#             for key in keys_to_save:\n",
    "#                 if key in self.args:  # Only write if key exists in the dictionary\n",
    "#                     value = self.args[key]\n",
    "#                     if isinstance(value, dict):  # If value is a dictionary, write its contents\n",
    "#                         for sub_key, sub_value in value.items():\n",
    "#                             file.write(f\"{sub_key}= {sub_value}\\n\")\n",
    "#                     else:\n",
    "#                         file.write(f\"{key}= {value}\\n\")\n"
   ]
  },
  {
   "cell_type": "code",
   "execution_count": null,
   "id": "41fbc06c-fe34-4d69-9415-b1950259eb51",
   "metadata": {},
   "outputs": [],
   "source": [
    "# save_selected_keys_to_txt(['get_fcc_args','isocode', 'proj'], 'parameters.txt')\n"
   ]
  }
 ],
 "metadata": {
  "kernelspec": {
   "display_name": "deforisk-jupyter-nb (3.11.10)",
   "language": "python",
   "name": "python3"
  },
  "language_info": {
   "codemirror_mode": {
    "name": "ipython",
    "version": 3
   },
   "file_extension": ".py",
   "mimetype": "text/x-python",
   "name": "python",
   "nbconvert_exporter": "python",
   "pygments_lexer": "ipython3",
   "version": "3.11.10"
  }
 },
 "nbformat": 4,
 "nbformat_minor": 5
}
